{
 "cells": [
  {
   "cell_type": "markdown",
   "metadata": {},
   "source": [
    "# H1-B VISA "
   ]
  },
  {
   "cell_type": "markdown",
   "metadata": {},
   "source": [
    "A COMPREHENSIVE ANALYSIS ON H1-B VISAS - Saiteja Nakka\n",
    "- To know about the data visit https://storage.googleapis.com/kaggle-datasets/11361/15737/h1b-2017-metadata.pdf?GoogleAccessId=web-data@kaggle-161607.iam.gserviceaccount.com&Expires=1539822929&Signature=sd7i4%2BNuZyrh5E19BShsF8wGJB08CNYsf%2BvX4%2FAufvXe57w9dK7uVIV0uwqZI6ZKRNp56amXAAZsKciXmABlbuZ4rmRanmNjhM6JP3Iuv4UyIa7IvKJKnVaSq%2F8ppYYZMVveVivH3yVJn3eWfNhvhrBdShRC%2BcG4j8KuvCdpO70wzUX7bNvfA2McsSp5zMIbYA9mtu0Sqk6gtAuSmgfY9Q7e5U1wRSnKKEJzINXIVUtShZPZ3WBJyf8Yypxoj7QfXNzXMUXtUSMSTY45UYIvVtoRTs4jucgpMptXA5pvlGmIDShct5qgw%2Fn83%2Bv3Gm8J%2BgXNxMkv5AQw6kavgmYQmA%3D%3D"
   ]
  },
  {
   "cell_type": "code",
   "execution_count": 1,
   "metadata": {},
   "outputs": [
    {
     "data": {
      "text/html": [
       "<script>requirejs.config({paths: { 'plotly': ['https://cdn.plot.ly/plotly-latest.min']},});if(!window.Plotly) {{require(['plotly'],function(plotly) {window.Plotly=plotly;});}}</script>"
      ],
      "text/vnd.plotly.v1+html": [
       "<script>requirejs.config({paths: { 'plotly': ['https://cdn.plot.ly/plotly-latest.min']},});if(!window.Plotly) {{require(['plotly'],function(plotly) {window.Plotly=plotly;});}}</script>"
      ]
     },
     "metadata": {},
     "output_type": "display_data"
    }
   ],
   "source": [
    "import pandas as pd\n",
    "import numpy as np\n",
    "import matplotlib.pyplot as plt\n",
    "%matplotlib inline\n",
    "import plotly.plotly as py\n",
    "from plotly.offline import init_notebook_mode, iplot\n",
    "import plotly.graph_objs as go\n",
    "import matplotlib.pyplot as plt\n",
    "init_notebook_mode(connected=True)\n",
    "from plotly import tools\n",
    "import warnings\n",
    "warnings.filterwarnings(\"ignore\")\n",
    "\n",
    "pd.set_option('display.height', 1000)\n",
    "pd.set_option('display.max_rows', 500)\n",
    "pd.set_option('display.max_columns', 500)\n",
    "pd.set_option('display.width', 1000)\n"
   ]
  },
  {
   "cell_type": "code",
   "execution_count": 2,
   "metadata": {},
   "outputs": [],
   "source": [
    "df = pd.read_csv(r\"F:\\H-1B_Disclosure_Data_FY17.csv\\H-1B_Disclosure_Data_FY17.csv\")"
   ]
  },
  {
   "cell_type": "code",
   "execution_count": 3,
   "metadata": {},
   "outputs": [
    {
     "data": {
      "text/html": [
       "<div>\n",
       "<style scoped>\n",
       "    .dataframe tbody tr th:only-of-type {\n",
       "        vertical-align: middle;\n",
       "    }\n",
       "\n",
       "    .dataframe tbody tr th {\n",
       "        vertical-align: top;\n",
       "    }\n",
       "\n",
       "    .dataframe thead th {\n",
       "        text-align: right;\n",
       "    }\n",
       "</style>\n",
       "<table border=\"1\" class=\"dataframe\">\n",
       "  <thead>\n",
       "    <tr style=\"text-align: right;\">\n",
       "      <th></th>\n",
       "      <th>Unnamed: 0</th>\n",
       "      <th>CASE_NUMBER</th>\n",
       "      <th>CASE_STATUS</th>\n",
       "      <th>CASE_SUBMITTED</th>\n",
       "      <th>DECISION_DATE</th>\n",
       "      <th>VISA_CLASS</th>\n",
       "      <th>EMPLOYMENT_START_DATE</th>\n",
       "      <th>EMPLOYMENT_END_DATE</th>\n",
       "      <th>EMPLOYER_NAME</th>\n",
       "      <th>EMPLOYER_BUSINESS_DBA</th>\n",
       "      <th>EMPLOYER_ADDRESS</th>\n",
       "      <th>EMPLOYER_CITY</th>\n",
       "      <th>EMPLOYER_STATE</th>\n",
       "      <th>EMPLOYER_POSTAL_CODE</th>\n",
       "      <th>EMPLOYER_COUNTRY</th>\n",
       "      <th>EMPLOYER_PROVINCE</th>\n",
       "      <th>EMPLOYER_PHONE</th>\n",
       "      <th>EMPLOYER_PHONE_EXT</th>\n",
       "      <th>AGENT_REPRESENTING_EMPLOYER</th>\n",
       "      <th>AGENT_ATTORNEY_NAME</th>\n",
       "      <th>AGENT_ATTORNEY_CITY</th>\n",
       "      <th>AGENT_ATTORNEY_STATE</th>\n",
       "      <th>JOB_TITLE</th>\n",
       "      <th>SOC_CODE</th>\n",
       "      <th>SOC_NAME</th>\n",
       "      <th>NAICS_CODE</th>\n",
       "      <th>TOTAL_WORKERS</th>\n",
       "      <th>NEW_EMPLOYMENT</th>\n",
       "      <th>CONTINUED_EMPLOYMENT</th>\n",
       "      <th>CHANGE_PREVIOUS_EMPLOYMENT</th>\n",
       "      <th>NEW_CONCURRENT_EMPLOYMENT</th>\n",
       "      <th>CHANGE_EMPLOYER</th>\n",
       "      <th>AMENDED_PETITION</th>\n",
       "      <th>FULL_TIME_POSITION</th>\n",
       "      <th>PREVAILING_WAGE</th>\n",
       "      <th>PW_UNIT_OF_PAY</th>\n",
       "      <th>PW_WAGE_LEVEL</th>\n",
       "      <th>PW_SOURCE</th>\n",
       "      <th>PW_SOURCE_YEAR</th>\n",
       "      <th>PW_SOURCE_OTHER</th>\n",
       "      <th>WAGE_RATE_OF_PAY_FROM</th>\n",
       "      <th>WAGE_RATE_OF_PAY_TO</th>\n",
       "      <th>WAGE_UNIT_OF_PAY</th>\n",
       "      <th>H1B_DEPENDENT</th>\n",
       "      <th>WILLFUL_VIOLATOR</th>\n",
       "      <th>SUPPORT_H1B</th>\n",
       "      <th>LABOR_CON_AGREE</th>\n",
       "      <th>PUBLIC_DISCLOSURE_LOCATION</th>\n",
       "      <th>WORKSITE_CITY</th>\n",
       "      <th>WORKSITE_COUNTY</th>\n",
       "      <th>WORKSITE_STATE</th>\n",
       "      <th>WORKSITE_POSTAL_CODE</th>\n",
       "      <th>ORIGINAL_CERT_DATE</th>\n",
       "    </tr>\n",
       "  </thead>\n",
       "  <tbody>\n",
       "    <tr>\n",
       "      <th>0</th>\n",
       "      <td>0</td>\n",
       "      <td>I-200-16055-173457</td>\n",
       "      <td>CERTIFIED-WITHDRAWN</td>\n",
       "      <td>2016-02-24</td>\n",
       "      <td>2016-10-01</td>\n",
       "      <td>H-1B</td>\n",
       "      <td>2016-08-10</td>\n",
       "      <td>2019-08-10</td>\n",
       "      <td>DISCOVER PRODUCTS INC.</td>\n",
       "      <td>NaN</td>\n",
       "      <td>2500 LAKE COOK ROAD</td>\n",
       "      <td>RIVERWOODS</td>\n",
       "      <td>IL</td>\n",
       "      <td>60015</td>\n",
       "      <td>UNITED STATES OF AMERICA</td>\n",
       "      <td>NaN</td>\n",
       "      <td>2244050900</td>\n",
       "      <td>NaN</td>\n",
       "      <td>Y</td>\n",
       "      <td>ELLSWORTH, CHAD</td>\n",
       "      <td>NEW YORK</td>\n",
       "      <td>NY</td>\n",
       "      <td>ASSOCIATE DATA INTEGRATION</td>\n",
       "      <td>15-1121</td>\n",
       "      <td>COMPUTER SYSTEMS ANALYSTS</td>\n",
       "      <td>522210</td>\n",
       "      <td>1</td>\n",
       "      <td>1</td>\n",
       "      <td>0</td>\n",
       "      <td>0</td>\n",
       "      <td>0</td>\n",
       "      <td>0</td>\n",
       "      <td>0</td>\n",
       "      <td>Y</td>\n",
       "      <td>59197.0</td>\n",
       "      <td>Year</td>\n",
       "      <td>Level I</td>\n",
       "      <td>OES</td>\n",
       "      <td>2015.0</td>\n",
       "      <td>OFLC ONLINE DATA CENTER</td>\n",
       "      <td>65811.0</td>\n",
       "      <td>67320.0</td>\n",
       "      <td>Year</td>\n",
       "      <td>N</td>\n",
       "      <td>N</td>\n",
       "      <td>NaN</td>\n",
       "      <td>Y</td>\n",
       "      <td>NaN</td>\n",
       "      <td>RIVERWOODS</td>\n",
       "      <td>LAKE</td>\n",
       "      <td>IL</td>\n",
       "      <td>60015</td>\n",
       "      <td>2016-03-01</td>\n",
       "    </tr>\n",
       "    <tr>\n",
       "      <th>1</th>\n",
       "      <td>1</td>\n",
       "      <td>I-200-16064-557834</td>\n",
       "      <td>CERTIFIED-WITHDRAWN</td>\n",
       "      <td>2016-03-04</td>\n",
       "      <td>2016-10-01</td>\n",
       "      <td>H-1B</td>\n",
       "      <td>2016-08-16</td>\n",
       "      <td>2019-08-16</td>\n",
       "      <td>DFS SERVICES LLC</td>\n",
       "      <td>NaN</td>\n",
       "      <td>2500 LAKE COOK ROAD</td>\n",
       "      <td>RIVERWOODS</td>\n",
       "      <td>IL</td>\n",
       "      <td>60015</td>\n",
       "      <td>UNITED STATES OF AMERICA</td>\n",
       "      <td>NaN</td>\n",
       "      <td>2244050900</td>\n",
       "      <td>NaN</td>\n",
       "      <td>Y</td>\n",
       "      <td>ELLSWORTH, CHAD</td>\n",
       "      <td>NEW YORK</td>\n",
       "      <td>NY</td>\n",
       "      <td>SENIOR ASSOCIATE</td>\n",
       "      <td>15-2031</td>\n",
       "      <td>OPERATIONS RESEARCH ANALYSTS</td>\n",
       "      <td>522210</td>\n",
       "      <td>1</td>\n",
       "      <td>1</td>\n",
       "      <td>0</td>\n",
       "      <td>0</td>\n",
       "      <td>0</td>\n",
       "      <td>0</td>\n",
       "      <td>0</td>\n",
       "      <td>Y</td>\n",
       "      <td>49800.0</td>\n",
       "      <td>Year</td>\n",
       "      <td>NaN</td>\n",
       "      <td>Other</td>\n",
       "      <td>2015.0</td>\n",
       "      <td>TOWERS WATSON DATA SERVICES 2015 CSR PROFESSIO...</td>\n",
       "      <td>53000.0</td>\n",
       "      <td>57200.0</td>\n",
       "      <td>Year</td>\n",
       "      <td>N</td>\n",
       "      <td>N</td>\n",
       "      <td>NaN</td>\n",
       "      <td>Y</td>\n",
       "      <td>NaN</td>\n",
       "      <td>RIVERWOODS</td>\n",
       "      <td>LAKE</td>\n",
       "      <td>IL</td>\n",
       "      <td>60015</td>\n",
       "      <td>2016-03-08</td>\n",
       "    </tr>\n",
       "    <tr>\n",
       "      <th>2</th>\n",
       "      <td>2</td>\n",
       "      <td>I-200-16063-996093</td>\n",
       "      <td>CERTIFIED-WITHDRAWN</td>\n",
       "      <td>2016-03-10</td>\n",
       "      <td>2016-10-01</td>\n",
       "      <td>H-1B</td>\n",
       "      <td>2016-09-09</td>\n",
       "      <td>2019-09-09</td>\n",
       "      <td>EASTBANC TECHNOLOGIES LLC</td>\n",
       "      <td>NaN</td>\n",
       "      <td>1211 31ST ST. NW</td>\n",
       "      <td>WASHINGTON</td>\n",
       "      <td>DC</td>\n",
       "      <td>20007</td>\n",
       "      <td>UNITED STATES OF AMERICA</td>\n",
       "      <td>NaN</td>\n",
       "      <td>2022953000</td>\n",
       "      <td>NaN</td>\n",
       "      <td>Y</td>\n",
       "      <td>BURKE, KAREN</td>\n",
       "      <td>WASHINGTON</td>\n",
       "      <td>DC</td>\n",
       "      <td>.NET SOFTWARE PROGRAMMER</td>\n",
       "      <td>15-1131</td>\n",
       "      <td>COMPUTER PROGRAMMERS</td>\n",
       "      <td>541511</td>\n",
       "      <td>2</td>\n",
       "      <td>2</td>\n",
       "      <td>0</td>\n",
       "      <td>0</td>\n",
       "      <td>0</td>\n",
       "      <td>0</td>\n",
       "      <td>0</td>\n",
       "      <td>Y</td>\n",
       "      <td>76502.0</td>\n",
       "      <td>Year</td>\n",
       "      <td>Level II</td>\n",
       "      <td>OES</td>\n",
       "      <td>2015.0</td>\n",
       "      <td>OFLC ONLINE DATA CENTER</td>\n",
       "      <td>77000.0</td>\n",
       "      <td>0.0</td>\n",
       "      <td>Year</td>\n",
       "      <td>Y</td>\n",
       "      <td>N</td>\n",
       "      <td>Y</td>\n",
       "      <td>NaN</td>\n",
       "      <td>NaN</td>\n",
       "      <td>WASHINGTON</td>\n",
       "      <td>NaN</td>\n",
       "      <td>DC</td>\n",
       "      <td>20007</td>\n",
       "      <td>2016-03-16</td>\n",
       "    </tr>\n",
       "    <tr>\n",
       "      <th>3</th>\n",
       "      <td>3</td>\n",
       "      <td>I-200-16272-196340</td>\n",
       "      <td>WITHDRAWN</td>\n",
       "      <td>2016-09-28</td>\n",
       "      <td>2016-10-01</td>\n",
       "      <td>H-1B</td>\n",
       "      <td>2017-01-26</td>\n",
       "      <td>2020-01-25</td>\n",
       "      <td>INFO SERVICES LLC</td>\n",
       "      <td>NaN</td>\n",
       "      <td>17177 NORTH LAUREL PARK DR</td>\n",
       "      <td>LIVONIA</td>\n",
       "      <td>MI</td>\n",
       "      <td>48152</td>\n",
       "      <td>UNITED STATES OF AMERICA</td>\n",
       "      <td>NaN</td>\n",
       "      <td>7343776007</td>\n",
       "      <td>NaN</td>\n",
       "      <td>N</td>\n",
       "      <td>,</td>\n",
       "      <td>NaN</td>\n",
       "      <td>NaN</td>\n",
       "      <td>PROJECT MANAGER</td>\n",
       "      <td>15-1199</td>\n",
       "      <td>COMPUTER OCCUPATIONS, ALL OTHER</td>\n",
       "      <td>541511</td>\n",
       "      <td>1</td>\n",
       "      <td>1</td>\n",
       "      <td>0</td>\n",
       "      <td>0</td>\n",
       "      <td>0</td>\n",
       "      <td>0</td>\n",
       "      <td>0</td>\n",
       "      <td>Y</td>\n",
       "      <td>90376.0</td>\n",
       "      <td>Year</td>\n",
       "      <td>Level III</td>\n",
       "      <td>OES</td>\n",
       "      <td>2016.0</td>\n",
       "      <td>OFLC ONLINE DATA CENTER</td>\n",
       "      <td>102000.0</td>\n",
       "      <td>0.0</td>\n",
       "      <td>Year</td>\n",
       "      <td>Y</td>\n",
       "      <td>N</td>\n",
       "      <td>Y</td>\n",
       "      <td>NaN</td>\n",
       "      <td>NaN</td>\n",
       "      <td>JERSEY CITY</td>\n",
       "      <td>HUDSON</td>\n",
       "      <td>NJ</td>\n",
       "      <td>07302</td>\n",
       "      <td>NaN</td>\n",
       "    </tr>\n",
       "    <tr>\n",
       "      <th>4</th>\n",
       "      <td>4</td>\n",
       "      <td>I-200-15053-636744</td>\n",
       "      <td>CERTIFIED-WITHDRAWN</td>\n",
       "      <td>2015-02-22</td>\n",
       "      <td>2016-10-02</td>\n",
       "      <td>H-1B</td>\n",
       "      <td>2015-03-01</td>\n",
       "      <td>2018-03-01</td>\n",
       "      <td>BB&amp;T CORPORATION</td>\n",
       "      <td>NaN</td>\n",
       "      <td>223 WEST NASH STREET</td>\n",
       "      <td>WILSON</td>\n",
       "      <td>NC</td>\n",
       "      <td>27893</td>\n",
       "      <td>UNITED STATES OF AMERICA</td>\n",
       "      <td>NaN</td>\n",
       "      <td>2522462031</td>\n",
       "      <td>NaN</td>\n",
       "      <td>Y</td>\n",
       "      <td>SCOFIELD, EILEEN</td>\n",
       "      <td>ATLANTA</td>\n",
       "      <td>GA</td>\n",
       "      <td>ASSOCIATE - ESOTERIC ASSET BACKED SECURITIES</td>\n",
       "      <td>13-2041</td>\n",
       "      <td>CREDIT ANALYSTS</td>\n",
       "      <td>522110</td>\n",
       "      <td>1</td>\n",
       "      <td>0</td>\n",
       "      <td>0</td>\n",
       "      <td>0</td>\n",
       "      <td>0</td>\n",
       "      <td>1</td>\n",
       "      <td>0</td>\n",
       "      <td>Y</td>\n",
       "      <td>116605.0</td>\n",
       "      <td>Year</td>\n",
       "      <td>Level III</td>\n",
       "      <td>OES</td>\n",
       "      <td>2015.0</td>\n",
       "      <td>OFLC ONLINE DATA CENTER</td>\n",
       "      <td>132500.0</td>\n",
       "      <td>0.0</td>\n",
       "      <td>Year</td>\n",
       "      <td>N</td>\n",
       "      <td>N</td>\n",
       "      <td>NaN</td>\n",
       "      <td>Y</td>\n",
       "      <td>NaN</td>\n",
       "      <td>NEW YORK</td>\n",
       "      <td>NEW YORK</td>\n",
       "      <td>NY</td>\n",
       "      <td>10036</td>\n",
       "      <td>2015-02-26</td>\n",
       "    </tr>\n",
       "  </tbody>\n",
       "</table>\n",
       "</div>"
      ],
      "text/plain": [
       "   Unnamed: 0         CASE_NUMBER          CASE_STATUS CASE_SUBMITTED DECISION_DATE VISA_CLASS EMPLOYMENT_START_DATE EMPLOYMENT_END_DATE              EMPLOYER_NAME EMPLOYER_BUSINESS_DBA            EMPLOYER_ADDRESS EMPLOYER_CITY EMPLOYER_STATE EMPLOYER_POSTAL_CODE          EMPLOYER_COUNTRY EMPLOYER_PROVINCE EMPLOYER_PHONE EMPLOYER_PHONE_EXT AGENT_REPRESENTING_EMPLOYER AGENT_ATTORNEY_NAME AGENT_ATTORNEY_CITY AGENT_ATTORNEY_STATE                                     JOB_TITLE SOC_CODE                         SOC_NAME NAICS_CODE  TOTAL_WORKERS  NEW_EMPLOYMENT  CONTINUED_EMPLOYMENT  CHANGE_PREVIOUS_EMPLOYMENT  NEW_CONCURRENT_EMPLOYMENT  CHANGE_EMPLOYER  AMENDED_PETITION FULL_TIME_POSITION  PREVAILING_WAGE PW_UNIT_OF_PAY PW_WAGE_LEVEL PW_SOURCE  PW_SOURCE_YEAR                                    PW_SOURCE_OTHER  WAGE_RATE_OF_PAY_FROM  WAGE_RATE_OF_PAY_TO WAGE_UNIT_OF_PAY H1B_DEPENDENT WILLFUL_VIOLATOR SUPPORT_H1B LABOR_CON_AGREE  PUBLIC_DISCLOSURE_LOCATION WORKSITE_CITY WORKSITE_COUNTY  \\\n",
       "0           0  I-200-16055-173457  CERTIFIED-WITHDRAWN     2016-02-24    2016-10-01       H-1B            2016-08-10          2019-08-10     DISCOVER PRODUCTS INC.                   NaN         2500 LAKE COOK ROAD    RIVERWOODS             IL                60015  UNITED STATES OF AMERICA               NaN     2244050900                NaN                           Y     ELLSWORTH, CHAD            NEW YORK                   NY                    ASSOCIATE DATA INTEGRATION  15-1121        COMPUTER SYSTEMS ANALYSTS     522210              1               1                     0                           0                          0                0                 0                  Y          59197.0           Year       Level I       OES          2015.0                            OFLC ONLINE DATA CENTER                65811.0              67320.0             Year             N                N         NaN               Y                         NaN    RIVERWOODS            LAKE   \n",
       "1           1  I-200-16064-557834  CERTIFIED-WITHDRAWN     2016-03-04    2016-10-01       H-1B            2016-08-16          2019-08-16           DFS SERVICES LLC                   NaN         2500 LAKE COOK ROAD    RIVERWOODS             IL                60015  UNITED STATES OF AMERICA               NaN     2244050900                NaN                           Y     ELLSWORTH, CHAD            NEW YORK                   NY                              SENIOR ASSOCIATE  15-2031     OPERATIONS RESEARCH ANALYSTS     522210              1               1                     0                           0                          0                0                 0                  Y          49800.0           Year           NaN     Other          2015.0  TOWERS WATSON DATA SERVICES 2015 CSR PROFESSIO...                53000.0              57200.0             Year             N                N         NaN               Y                         NaN    RIVERWOODS            LAKE   \n",
       "2           2  I-200-16063-996093  CERTIFIED-WITHDRAWN     2016-03-10    2016-10-01       H-1B            2016-09-09          2019-09-09  EASTBANC TECHNOLOGIES LLC                   NaN            1211 31ST ST. NW    WASHINGTON             DC                20007  UNITED STATES OF AMERICA               NaN     2022953000                NaN                           Y        BURKE, KAREN          WASHINGTON                   DC                      .NET SOFTWARE PROGRAMMER  15-1131             COMPUTER PROGRAMMERS     541511              2               2                     0                           0                          0                0                 0                  Y          76502.0           Year      Level II       OES          2015.0                            OFLC ONLINE DATA CENTER                77000.0                  0.0             Year             Y                N           Y             NaN                         NaN    WASHINGTON             NaN   \n",
       "3           3  I-200-16272-196340            WITHDRAWN     2016-09-28    2016-10-01       H-1B            2017-01-26          2020-01-25          INFO SERVICES LLC                   NaN  17177 NORTH LAUREL PARK DR       LIVONIA             MI                48152  UNITED STATES OF AMERICA               NaN     7343776007                NaN                           N                   ,                 NaN                  NaN                               PROJECT MANAGER  15-1199  COMPUTER OCCUPATIONS, ALL OTHER     541511              1               1                     0                           0                          0                0                 0                  Y          90376.0           Year     Level III       OES          2016.0                            OFLC ONLINE DATA CENTER               102000.0                  0.0             Year             Y                N           Y             NaN                         NaN   JERSEY CITY          HUDSON   \n",
       "4           4  I-200-15053-636744  CERTIFIED-WITHDRAWN     2015-02-22    2016-10-02       H-1B            2015-03-01          2018-03-01           BB&T CORPORATION                   NaN        223 WEST NASH STREET        WILSON             NC                27893  UNITED STATES OF AMERICA               NaN     2522462031                NaN                           Y    SCOFIELD, EILEEN             ATLANTA                   GA  ASSOCIATE - ESOTERIC ASSET BACKED SECURITIES  13-2041                  CREDIT ANALYSTS     522110              1               0                     0                           0                          0                1                 0                  Y         116605.0           Year     Level III       OES          2015.0                            OFLC ONLINE DATA CENTER               132500.0                  0.0             Year             N                N         NaN               Y                         NaN      NEW YORK        NEW YORK   \n",
       "\n",
       "  WORKSITE_STATE WORKSITE_POSTAL_CODE ORIGINAL_CERT_DATE  \n",
       "0             IL                60015         2016-03-01  \n",
       "1             IL                60015         2016-03-08  \n",
       "2             DC                20007         2016-03-16  \n",
       "3             NJ                07302                NaN  \n",
       "4             NY                10036         2015-02-26  "
      ]
     },
     "execution_count": 3,
     "metadata": {},
     "output_type": "execute_result"
    }
   ],
   "source": [
    "df.head()"
   ]
  },
  {
   "cell_type": "markdown",
   "metadata": {},
   "source": [
    "## We focus on H1-B visa and Employers from USA only"
   ]
  },
  {
   "cell_type": "code",
   "execution_count": 4,
   "metadata": {},
   "outputs": [
    {
     "data": {
      "text/plain": [
       "H-1B               610304\n",
       "E-3 Australian      12157\n",
       "H-1B1 Singapore      1254\n",
       "H-1B1 Chile           935\n",
       "Name: VISA_CLASS, dtype: int64"
      ]
     },
     "execution_count": 4,
     "metadata": {},
     "output_type": "execute_result"
    }
   ],
   "source": [
    "df.VISA_CLASS.value_counts()"
   ]
  },
  {
   "cell_type": "code",
   "execution_count": 5,
   "metadata": {},
   "outputs": [
    {
     "data": {
      "text/plain": [
       "UNITED STATES OF AMERICA    528132\n",
       "CANADA                           7\n",
       "AUSTRALIA                        2\n",
       "CHINA                            1\n",
       "CAMBODIA                         1\n",
       "Name: EMPLOYER_COUNTRY, dtype: int64"
      ]
     },
     "execution_count": 5,
     "metadata": {},
     "output_type": "execute_result"
    }
   ],
   "source": [
    "df.EMPLOYER_COUNTRY.value_counts()"
   ]
  },
  {
   "cell_type": "code",
   "execution_count": 6,
   "metadata": {},
   "outputs": [],
   "source": [
    "df = df[df.VISA_CLASS == 'H-1B']\n",
    "df= df[df.EMPLOYER_COUNTRY == 'UNITED STATES OF AMERICA']"
   ]
  },
  {
   "cell_type": "markdown",
   "metadata": {},
   "source": [
    "#### Number of unique values each column has"
   ]
  },
  {
   "cell_type": "code",
   "execution_count": 7,
   "metadata": {
    "scrolled": false
   },
   "outputs": [
    {
     "data": {
      "text/plain": [
       "Unnamed: 0                     517351\n",
       "CASE_NUMBER                    517351\n",
       "CASE_STATUS                         4\n",
       "CASE_SUBMITTED                   1211\n",
       "DECISION_DATE                     350\n",
       "VISA_CLASS                          1\n",
       "EMPLOYMENT_START_DATE            1499\n",
       "EMPLOYMENT_END_DATE              1549\n",
       "EMPLOYER_NAME                   61794\n",
       "EMPLOYER_BUSINESS_DBA            8695\n",
       "EMPLOYER_ADDRESS                56057\n",
       "EMPLOYER_CITY                    4793\n",
       "EMPLOYER_STATE                     56\n",
       "EMPLOYER_POSTAL_CODE            10241\n",
       "EMPLOYER_COUNTRY                    1\n",
       "EMPLOYER_PROVINCE                 290\n",
       "EMPLOYER_PHONE                  77543\n",
       "EMPLOYER_PHONE_EXT               1400\n",
       "AGENT_REPRESENTING_EMPLOYER         3\n",
       "AGENT_ATTORNEY_NAME              6499\n",
       "AGENT_ATTORNEY_CITY              1067\n",
       "AGENT_ATTORNEY_STATE               56\n",
       "JOB_TITLE                       78129\n",
       "SOC_CODE                          677\n",
       "SOC_NAME                          795\n",
       "NAICS_CODE                       2106\n",
       "TOTAL_WORKERS                      52\n",
       "NEW_EMPLOYMENT                     50\n",
       "CONTINUED_EMPLOYMENT               25\n",
       "CHANGE_PREVIOUS_EMPLOYMENT         19\n",
       "NEW_CONCURRENT_EMPLOYMENT          10\n",
       "CHANGE_EMPLOYER                    23\n",
       "AMENDED_PETITION                   20\n",
       "FULL_TIME_POSITION                  3\n",
       "PREVAILING_WAGE                 21490\n",
       "PW_UNIT_OF_PAY                      6\n",
       "PW_WAGE_LEVEL                       5\n",
       "PW_SOURCE                           6\n",
       "PW_SOURCE_YEAR                     20\n",
       "PW_SOURCE_OTHER                  2458\n",
       "WAGE_RATE_OF_PAY_FROM           44985\n",
       "WAGE_RATE_OF_PAY_TO             12787\n",
       "WAGE_UNIT_OF_PAY                    6\n",
       "H1B_DEPENDENT                       3\n",
       "WILLFUL_VIOLATOR                    3\n",
       "SUPPORT_H1B                         3\n",
       "LABOR_CON_AGREE                     3\n",
       "PUBLIC_DISCLOSURE_LOCATION          1\n",
       "WORKSITE_CITY                    7316\n",
       "WORKSITE_COUNTY                  3363\n",
       "WORKSITE_STATE                     58\n",
       "WORKSITE_POSTAL_CODE            14032\n",
       "ORIGINAL_CERT_DATE                976\n",
       "dtype: int64"
      ]
     },
     "execution_count": 7,
     "metadata": {},
     "output_type": "execute_result"
    }
   ],
   "source": [
    "df.apply(lambda x:len(x.unique()))"
   ]
  },
  {
   "cell_type": "markdown",
   "metadata": {},
   "source": [
    "#### Columns which have missing values in it"
   ]
  },
  {
   "cell_type": "code",
   "execution_count": 8,
   "metadata": {
    "scrolled": false
   },
   "outputs": [
    {
     "data": {
      "text/plain": [
       "EMPLOYMENT_START_DATE              15\n",
       "EMPLOYMENT_END_DATE                15\n",
       "EMPLOYER_NAME                      37\n",
       "EMPLOYER_BUSINESS_DBA          475714\n",
       "EMPLOYER_ADDRESS                    2\n",
       "EMPLOYER_CITY                      10\n",
       "EMPLOYER_POSTAL_CODE               11\n",
       "EMPLOYER_PROVINCE              511357\n",
       "EMPLOYER_PHONE                      1\n",
       "EMPLOYER_PHONE_EXT             489885\n",
       "AGENT_REPRESENTING_EMPLOYER         3\n",
       "AGENT_ATTORNEY_CITY            173864\n",
       "AGENT_ATTORNEY_STATE           188644\n",
       "JOB_TITLE                           3\n",
       "SOC_NAME                            1\n",
       "NAICS_CODE                          2\n",
       "FULL_TIME_POSITION                  4\n",
       "PW_UNIT_OF_PAY                     25\n",
       "PW_WAGE_LEVEL                   26520\n",
       "PW_SOURCE                          24\n",
       "PW_SOURCE_YEAR                     23\n",
       "PW_SOURCE_OTHER                  4798\n",
       "WAGE_RATE_OF_PAY_TO                 1\n",
       "WAGE_UNIT_OF_PAY                    6\n",
       "H1B_DEPENDENT                       3\n",
       "WILLFUL_VIOLATOR                    3\n",
       "SUPPORT_H1B                    316352\n",
       "LABOR_CON_AGREE                308226\n",
       "PUBLIC_DISCLOSURE_LOCATION     517351\n",
       "WORKSITE_CITY                       9\n",
       "WORKSITE_COUNTY                   973\n",
       "WORKSITE_STATE                      7\n",
       "WORKSITE_POSTAL_CODE               15\n",
       "ORIGINAL_CERT_DATE             474644\n",
       "dtype: int64"
      ]
     },
     "execution_count": 8,
     "metadata": {},
     "output_type": "execute_result"
    }
   ],
   "source": [
    "df.isnull().sum()[df.isnull().sum() > 0]"
   ]
  },
  {
   "cell_type": "markdown",
   "metadata": {},
   "source": [
    "### DROP the useless columns.\n",
    "- By examining the above two columns we can remove all the useless columns.\n",
    "- Since we have a lot of those columns to drop, I instead selected the ones I need"
   ]
  },
  {
   "cell_type": "code",
   "execution_count": 9,
   "metadata": {},
   "outputs": [],
   "source": [
    "to_select = ['CASE_STATUS', 'EMPLOYMENT_START_DATE','EMPLOYER_NAME', 'EMPLOYER_STATE','JOB_TITLE', 'SOC_NAME','FULL_TIME_POSITION',\n",
    "            'PREVAILING_WAGE','PW_UNIT_OF_PAY','WORKSITE_STATE']"
   ]
  },
  {
   "cell_type": "code",
   "execution_count": 10,
   "metadata": {},
   "outputs": [],
   "source": [
    "df = df[to_select]"
   ]
  },
  {
   "cell_type": "code",
   "execution_count": 11,
   "metadata": {},
   "outputs": [
    {
     "data": {
      "text/plain": [
       "EMPLOYMENT_START_DATE    15\n",
       "EMPLOYER_NAME            37\n",
       "JOB_TITLE                 3\n",
       "SOC_NAME                  1\n",
       "FULL_TIME_POSITION        4\n",
       "PW_UNIT_OF_PAY           25\n",
       "WORKSITE_STATE            7\n",
       "dtype: int64"
      ]
     },
     "execution_count": 11,
     "metadata": {},
     "output_type": "execute_result"
    }
   ],
   "source": [
    "df.isnull().sum()[df.isnull().sum() > 0]"
   ]
  },
  {
   "cell_type": "markdown",
   "metadata": {},
   "source": [
    "## Dealing with missing values\n",
    "- The following method is same as dropna."
   ]
  },
  {
   "cell_type": "code",
   "execution_count": 12,
   "metadata": {},
   "outputs": [],
   "source": [
    "df = df[df['EMPLOYMENT_START_DATE'].notnull()]\n",
    "df = df[df['JOB_TITLE'].notnull()]\n",
    "df = df[df['SOC_NAME'].notnull()]\n",
    "df = df[df['FULL_TIME_POSITION'].notnull()]\n",
    "df = df[df['PW_UNIT_OF_PAY'].notnull()]\n",
    "df = df[df['WORKSITE_STATE'].notnull()]\n",
    "df = df[df['EMPLOYER_NAME'].notnull()]"
   ]
  },
  {
   "cell_type": "markdown",
   "metadata": {},
   "source": [
    "###### We got rid of null values"
   ]
  },
  {
   "cell_type": "code",
   "execution_count": 13,
   "metadata": {},
   "outputs": [
    {
     "data": {
      "text/plain": [
       "Series([], dtype: int64)"
      ]
     },
     "execution_count": 13,
     "metadata": {},
     "output_type": "execute_result"
    }
   ],
   "source": [
    "df.isnull().sum()[df.isnull().sum() > 0]"
   ]
  },
  {
   "cell_type": "code",
   "execution_count": 14,
   "metadata": {},
   "outputs": [
    {
     "data": {
      "text/html": [
       "<div>\n",
       "<style scoped>\n",
       "    .dataframe tbody tr th:only-of-type {\n",
       "        vertical-align: middle;\n",
       "    }\n",
       "\n",
       "    .dataframe tbody tr th {\n",
       "        vertical-align: top;\n",
       "    }\n",
       "\n",
       "    .dataframe thead th {\n",
       "        text-align: right;\n",
       "    }\n",
       "</style>\n",
       "<table border=\"1\" class=\"dataframe\">\n",
       "  <thead>\n",
       "    <tr style=\"text-align: right;\">\n",
       "      <th></th>\n",
       "      <th>CASE_STATUS</th>\n",
       "      <th>EMPLOYMENT_START_DATE</th>\n",
       "      <th>EMPLOYER_NAME</th>\n",
       "      <th>EMPLOYER_STATE</th>\n",
       "      <th>JOB_TITLE</th>\n",
       "      <th>SOC_NAME</th>\n",
       "      <th>FULL_TIME_POSITION</th>\n",
       "      <th>PREVAILING_WAGE</th>\n",
       "      <th>PW_UNIT_OF_PAY</th>\n",
       "      <th>WORKSITE_STATE</th>\n",
       "    </tr>\n",
       "  </thead>\n",
       "  <tbody>\n",
       "    <tr>\n",
       "      <th>0</th>\n",
       "      <td>CERTIFIED-WITHDRAWN</td>\n",
       "      <td>2016-08-10</td>\n",
       "      <td>DISCOVER PRODUCTS INC.</td>\n",
       "      <td>IL</td>\n",
       "      <td>ASSOCIATE DATA INTEGRATION</td>\n",
       "      <td>COMPUTER SYSTEMS ANALYSTS</td>\n",
       "      <td>Y</td>\n",
       "      <td>59197.0</td>\n",
       "      <td>Year</td>\n",
       "      <td>IL</td>\n",
       "    </tr>\n",
       "    <tr>\n",
       "      <th>1</th>\n",
       "      <td>CERTIFIED-WITHDRAWN</td>\n",
       "      <td>2016-08-16</td>\n",
       "      <td>DFS SERVICES LLC</td>\n",
       "      <td>IL</td>\n",
       "      <td>SENIOR ASSOCIATE</td>\n",
       "      <td>OPERATIONS RESEARCH ANALYSTS</td>\n",
       "      <td>Y</td>\n",
       "      <td>49800.0</td>\n",
       "      <td>Year</td>\n",
       "      <td>IL</td>\n",
       "    </tr>\n",
       "    <tr>\n",
       "      <th>2</th>\n",
       "      <td>CERTIFIED-WITHDRAWN</td>\n",
       "      <td>2016-09-09</td>\n",
       "      <td>EASTBANC TECHNOLOGIES LLC</td>\n",
       "      <td>DC</td>\n",
       "      <td>.NET SOFTWARE PROGRAMMER</td>\n",
       "      <td>COMPUTER PROGRAMMERS</td>\n",
       "      <td>Y</td>\n",
       "      <td>76502.0</td>\n",
       "      <td>Year</td>\n",
       "      <td>DC</td>\n",
       "    </tr>\n",
       "    <tr>\n",
       "      <th>3</th>\n",
       "      <td>WITHDRAWN</td>\n",
       "      <td>2017-01-26</td>\n",
       "      <td>INFO SERVICES LLC</td>\n",
       "      <td>MI</td>\n",
       "      <td>PROJECT MANAGER</td>\n",
       "      <td>COMPUTER OCCUPATIONS, ALL OTHER</td>\n",
       "      <td>Y</td>\n",
       "      <td>90376.0</td>\n",
       "      <td>Year</td>\n",
       "      <td>NJ</td>\n",
       "    </tr>\n",
       "    <tr>\n",
       "      <th>4</th>\n",
       "      <td>CERTIFIED-WITHDRAWN</td>\n",
       "      <td>2015-03-01</td>\n",
       "      <td>BB&amp;T CORPORATION</td>\n",
       "      <td>NC</td>\n",
       "      <td>ASSOCIATE - ESOTERIC ASSET BACKED SECURITIES</td>\n",
       "      <td>CREDIT ANALYSTS</td>\n",
       "      <td>Y</td>\n",
       "      <td>116605.0</td>\n",
       "      <td>Year</td>\n",
       "      <td>NY</td>\n",
       "    </tr>\n",
       "  </tbody>\n",
       "</table>\n",
       "</div>"
      ],
      "text/plain": [
       "           CASE_STATUS EMPLOYMENT_START_DATE              EMPLOYER_NAME EMPLOYER_STATE                                     JOB_TITLE                         SOC_NAME FULL_TIME_POSITION  PREVAILING_WAGE PW_UNIT_OF_PAY WORKSITE_STATE\n",
       "0  CERTIFIED-WITHDRAWN            2016-08-10     DISCOVER PRODUCTS INC.             IL                    ASSOCIATE DATA INTEGRATION        COMPUTER SYSTEMS ANALYSTS                  Y          59197.0           Year             IL\n",
       "1  CERTIFIED-WITHDRAWN            2016-08-16           DFS SERVICES LLC             IL                              SENIOR ASSOCIATE     OPERATIONS RESEARCH ANALYSTS                  Y          49800.0           Year             IL\n",
       "2  CERTIFIED-WITHDRAWN            2016-09-09  EASTBANC TECHNOLOGIES LLC             DC                      .NET SOFTWARE PROGRAMMER             COMPUTER PROGRAMMERS                  Y          76502.0           Year             DC\n",
       "3            WITHDRAWN            2017-01-26          INFO SERVICES LLC             MI                               PROJECT MANAGER  COMPUTER OCCUPATIONS, ALL OTHER                  Y          90376.0           Year             NJ\n",
       "4  CERTIFIED-WITHDRAWN            2015-03-01           BB&T CORPORATION             NC  ASSOCIATE - ESOTERIC ASSET BACKED SECURITIES                  CREDIT ANALYSTS                  Y         116605.0           Year             NY"
      ]
     },
     "execution_count": 14,
     "metadata": {},
     "output_type": "execute_result"
    }
   ],
   "source": [
    "df.head()"
   ]
  },
  {
   "cell_type": "markdown",
   "metadata": {},
   "source": [
    "### Convert the EMPLOYMENT_START_DATE to pandas date time format"
   ]
  },
  {
   "cell_type": "code",
   "execution_count": 15,
   "metadata": {},
   "outputs": [],
   "source": [
    "df['EMPLOYMENT_START_DATE'] = pd.to_datetime(df['EMPLOYMENT_START_DATE'])"
   ]
  },
  {
   "cell_type": "markdown",
   "metadata": {},
   "source": [
    "#### The following cell shows us how the wage is varied.\n",
    "- You might notice some abornmal values like the max hourly pay as 2017,143166 etc etc.\n",
    "- These are called the outliers and our data has a lot of them"
   ]
  },
  {
   "cell_type": "code",
   "execution_count": 16,
   "metadata": {},
   "outputs": [
    {
     "data": {
      "text/html": [
       "<div>\n",
       "<style scoped>\n",
       "    .dataframe tbody tr th:only-of-type {\n",
       "        vertical-align: middle;\n",
       "    }\n",
       "\n",
       "    .dataframe tbody tr th {\n",
       "        vertical-align: top;\n",
       "    }\n",
       "\n",
       "    .dataframe thead th {\n",
       "        text-align: right;\n",
       "    }\n",
       "</style>\n",
       "<table border=\"1\" class=\"dataframe\">\n",
       "  <thead>\n",
       "    <tr style=\"text-align: right;\">\n",
       "      <th></th>\n",
       "      <th></th>\n",
       "      <th>count</th>\n",
       "      <th>mean</th>\n",
       "      <th>std</th>\n",
       "      <th>min</th>\n",
       "      <th>25%</th>\n",
       "      <th>50%</th>\n",
       "      <th>75%</th>\n",
       "      <th>max</th>\n",
       "    </tr>\n",
       "    <tr>\n",
       "      <th>FULL_TIME_POSITION</th>\n",
       "      <th>PW_UNIT_OF_PAY</th>\n",
       "      <th></th>\n",
       "      <th></th>\n",
       "      <th></th>\n",
       "      <th></th>\n",
       "      <th></th>\n",
       "      <th></th>\n",
       "      <th></th>\n",
       "      <th></th>\n",
       "    </tr>\n",
       "  </thead>\n",
       "  <tbody>\n",
       "    <tr>\n",
       "      <th rowspan=\"2\" valign=\"top\">N</th>\n",
       "      <th>Hour</th>\n",
       "      <td>11787.0</td>\n",
       "      <td>31.602752</td>\n",
       "      <td>23.807139</td>\n",
       "      <td>7.25</td>\n",
       "      <td>22.73</td>\n",
       "      <td>27.450</td>\n",
       "      <td>34.54</td>\n",
       "      <td>2017.0</td>\n",
       "    </tr>\n",
       "    <tr>\n",
       "      <th>Year</th>\n",
       "      <td>13.0</td>\n",
       "      <td>69611.153846</td>\n",
       "      <td>30382.195109</td>\n",
       "      <td>30306.00</td>\n",
       "      <td>50294.00</td>\n",
       "      <td>52915.000</td>\n",
       "      <td>87464.00</td>\n",
       "      <td>135387.0</td>\n",
       "    </tr>\n",
       "    <tr>\n",
       "      <th rowspan=\"5\" valign=\"top\">Y</th>\n",
       "      <th>Bi-Weekly</th>\n",
       "      <td>37.0</td>\n",
       "      <td>8244.837838</td>\n",
       "      <td>24921.799431</td>\n",
       "      <td>700.00</td>\n",
       "      <td>2064.09</td>\n",
       "      <td>2358.760</td>\n",
       "      <td>3207.19</td>\n",
       "      <td>145000.0</td>\n",
       "    </tr>\n",
       "    <tr>\n",
       "      <th>Hour</th>\n",
       "      <td>20217.0</td>\n",
       "      <td>296.789787</td>\n",
       "      <td>4076.767249</td>\n",
       "      <td>0.00</td>\n",
       "      <td>26.25</td>\n",
       "      <td>31.610</td>\n",
       "      <td>38.10</td>\n",
       "      <td>143166.0</td>\n",
       "    </tr>\n",
       "    <tr>\n",
       "      <th>Month</th>\n",
       "      <td>238.0</td>\n",
       "      <td>7608.912143</td>\n",
       "      <td>15003.235372</td>\n",
       "      <td>2000.00</td>\n",
       "      <td>3152.00</td>\n",
       "      <td>4084.585</td>\n",
       "      <td>6242.50</td>\n",
       "      <td>148283.0</td>\n",
       "    </tr>\n",
       "    <tr>\n",
       "      <th>Week</th>\n",
       "      <td>105.0</td>\n",
       "      <td>3672.785810</td>\n",
       "      <td>11339.192427</td>\n",
       "      <td>0.00</td>\n",
       "      <td>943.20</td>\n",
       "      <td>1124.550</td>\n",
       "      <td>1466.40</td>\n",
       "      <td>74568.0</td>\n",
       "    </tr>\n",
       "    <tr>\n",
       "      <th>Year</th>\n",
       "      <td>484864.0</td>\n",
       "      <td>76645.537541</td>\n",
       "      <td>291030.623105</td>\n",
       "      <td>0.00</td>\n",
       "      <td>58926.00</td>\n",
       "      <td>70221.000</td>\n",
       "      <td>88587.00</td>\n",
       "      <td>201622735.0</td>\n",
       "    </tr>\n",
       "  </tbody>\n",
       "</table>\n",
       "</div>"
      ],
      "text/plain": [
       "                                      count          mean            std       min       25%        50%       75%          max\n",
       "FULL_TIME_POSITION PW_UNIT_OF_PAY                                                                                             \n",
       "N                  Hour             11787.0     31.602752      23.807139      7.25     22.73     27.450     34.54       2017.0\n",
       "                   Year                13.0  69611.153846   30382.195109  30306.00  50294.00  52915.000  87464.00     135387.0\n",
       "Y                  Bi-Weekly           37.0   8244.837838   24921.799431    700.00   2064.09   2358.760   3207.19     145000.0\n",
       "                   Hour             20217.0    296.789787    4076.767249      0.00     26.25     31.610     38.10     143166.0\n",
       "                   Month              238.0   7608.912143   15003.235372   2000.00   3152.00   4084.585   6242.50     148283.0\n",
       "                   Week               105.0   3672.785810   11339.192427      0.00    943.20   1124.550   1466.40      74568.0\n",
       "                   Year            484864.0  76645.537541  291030.623105      0.00  58926.00  70221.000  88587.00  201622735.0"
      ]
     },
     "execution_count": 16,
     "metadata": {},
     "output_type": "execute_result"
    }
   ],
   "source": [
    "df.groupby(['FULL_TIME_POSITION','PW_UNIT_OF_PAY']).describe()['PREVAILING_WAGE']"
   ]
  },
  {
   "cell_type": "markdown",
   "metadata": {},
   "source": [
    "### To make our analysis easy lets first convert the Monthly, Weekly and Bi-weekly pay to Annual pay\n",
    "- The hourly pay conversion takes a lot of time. So, i have done in following stages after outliers were removed.\n",
    "- Montly pay is multiplied by 12. ( As we have 12 months in a year)\n",
    "- Weekly pay is multiplied by 48. ( Even though we have 52 weeks per year, I felt this might be better)\n",
    "- Bi-Weekly pay is multiplied by 24. ( As we have two bi-weeks in a month)"
   ]
  },
  {
   "cell_type": "code",
   "execution_count": 17,
   "metadata": {},
   "outputs": [],
   "source": [
    "for i in df.index:   \n",
    "        if df.loc[i,'PW_UNIT_OF_PAY'] == 'Month':\n",
    "            df.loc[i,'PREVAILING_WAGE'] = df.loc[i,'PREVAILING_WAGE'] * 12\n",
    "        if df.loc[i,'PW_UNIT_OF_PAY'] == 'Week':\n",
    "            df.loc[i,'PREVAILING_WAGE'] = df.loc[i,'PREVAILING_WAGE'] * 48\n",
    "        if df.loc[i,'PW_UNIT_OF_PAY'] == 'Bi-Weekly':\n",
    "            df.loc[i,'PREVAILING_WAGE'] = df.loc[i,'PREVAILING_WAGE'] * 24"
   ]
  },
  {
   "cell_type": "markdown",
   "metadata": {},
   "source": [
    "#### Replace the names bi-weekly, month and week by year."
   ]
  },
  {
   "cell_type": "code",
   "execution_count": 18,
   "metadata": {},
   "outputs": [],
   "source": [
    "df.PW_UNIT_OF_PAY.replace(['Bi-Weekly','Month','Week'],['Year','Year','Year'], inplace=True)"
   ]
  },
  {
   "cell_type": "markdown",
   "metadata": {},
   "source": [
    "#### Checking again.\n",
    "- Now you that we have unit of pay in hour and year only."
   ]
  },
  {
   "cell_type": "code",
   "execution_count": 19,
   "metadata": {},
   "outputs": [
    {
     "data": {
      "text/html": [
       "<div>\n",
       "<style scoped>\n",
       "    .dataframe tbody tr th:only-of-type {\n",
       "        vertical-align: middle;\n",
       "    }\n",
       "\n",
       "    .dataframe tbody tr th {\n",
       "        vertical-align: top;\n",
       "    }\n",
       "\n",
       "    .dataframe thead th {\n",
       "        text-align: right;\n",
       "    }\n",
       "</style>\n",
       "<table border=\"1\" class=\"dataframe\">\n",
       "  <thead>\n",
       "    <tr style=\"text-align: right;\">\n",
       "      <th></th>\n",
       "      <th></th>\n",
       "      <th>count</th>\n",
       "      <th>mean</th>\n",
       "      <th>std</th>\n",
       "      <th>min</th>\n",
       "      <th>25%</th>\n",
       "      <th>50%</th>\n",
       "      <th>75%</th>\n",
       "      <th>max</th>\n",
       "    </tr>\n",
       "    <tr>\n",
       "      <th>FULL_TIME_POSITION</th>\n",
       "      <th>PW_UNIT_OF_PAY</th>\n",
       "      <th></th>\n",
       "      <th></th>\n",
       "      <th></th>\n",
       "      <th></th>\n",
       "      <th></th>\n",
       "      <th></th>\n",
       "      <th></th>\n",
       "      <th></th>\n",
       "    </tr>\n",
       "  </thead>\n",
       "  <tbody>\n",
       "    <tr>\n",
       "      <th rowspan=\"2\" valign=\"top\">N</th>\n",
       "      <th>Hour</th>\n",
       "      <td>11787.0</td>\n",
       "      <td>31.602752</td>\n",
       "      <td>23.807139</td>\n",
       "      <td>7.25</td>\n",
       "      <td>22.73</td>\n",
       "      <td>27.45</td>\n",
       "      <td>34.54</td>\n",
       "      <td>2017.0</td>\n",
       "    </tr>\n",
       "    <tr>\n",
       "      <th>Year</th>\n",
       "      <td>13.0</td>\n",
       "      <td>69611.153846</td>\n",
       "      <td>30382.195109</td>\n",
       "      <td>30306.00</td>\n",
       "      <td>50294.00</td>\n",
       "      <td>52915.00</td>\n",
       "      <td>87464.00</td>\n",
       "      <td>135387.0</td>\n",
       "    </tr>\n",
       "    <tr>\n",
       "      <th rowspan=\"2\" valign=\"top\">Y</th>\n",
       "      <th>Hour</th>\n",
       "      <td>20217.0</td>\n",
       "      <td>296.789787</td>\n",
       "      <td>4076.767249</td>\n",
       "      <td>0.00</td>\n",
       "      <td>26.25</td>\n",
       "      <td>31.61</td>\n",
       "      <td>38.10</td>\n",
       "      <td>143166.0</td>\n",
       "    </tr>\n",
       "    <tr>\n",
       "      <th>Year</th>\n",
       "      <td>485244.0</td>\n",
       "      <td>76683.534931</td>\n",
       "      <td>291104.334086</td>\n",
       "      <td>0.00</td>\n",
       "      <td>58906.00</td>\n",
       "      <td>70221.00</td>\n",
       "      <td>88587.00</td>\n",
       "      <td>201622735.0</td>\n",
       "    </tr>\n",
       "  </tbody>\n",
       "</table>\n",
       "</div>"
      ],
      "text/plain": [
       "                                      count          mean            std       min       25%       50%       75%          max\n",
       "FULL_TIME_POSITION PW_UNIT_OF_PAY                                                                                            \n",
       "N                  Hour             11787.0     31.602752      23.807139      7.25     22.73     27.45     34.54       2017.0\n",
       "                   Year                13.0  69611.153846   30382.195109  30306.00  50294.00  52915.00  87464.00     135387.0\n",
       "Y                  Hour             20217.0    296.789787    4076.767249      0.00     26.25     31.61     38.10     143166.0\n",
       "                   Year            485244.0  76683.534931  291104.334086      0.00  58906.00  70221.00  88587.00  201622735.0"
      ]
     },
     "execution_count": 19,
     "metadata": {},
     "output_type": "execute_result"
    }
   ],
   "source": [
    "df.groupby(['FULL_TIME_POSITION','PW_UNIT_OF_PAY']).describe()['PREVAILING_WAGE']"
   ]
  },
  {
   "cell_type": "markdown",
   "metadata": {},
   "source": [
    "#### Creating a new dummy column\n",
    "- As, we are going to deal with a lot of groupby methods below, it will be easy for us if we have a count column."
   ]
  },
  {
   "cell_type": "code",
   "execution_count": 20,
   "metadata": {},
   "outputs": [],
   "source": [
    "df['countvar'] = 1"
   ]
  },
  {
   "cell_type": "markdown",
   "metadata": {},
   "source": [
    "### Top Employers sponsoring H1-B's\n",
    "- The plots are made using plotly which are interactive. So, you can hover over the plot to know more details"
   ]
  },
  {
   "cell_type": "code",
   "execution_count": 21,
   "metadata": {},
   "outputs": [],
   "source": [
    "dftop = df.groupby('EMPLOYER_NAME',as_index=False).count()\n",
    "dftop = dftop.sort_values('countvar',ascending= False)[['EMPLOYER_NAME','countvar']][0:30]"
   ]
  },
  {
   "cell_type": "code",
   "execution_count": 22,
   "metadata": {},
   "outputs": [
    {
     "data": {
      "application/vnd.plotly.v1+json": {
       "data": [
        {
         "name": "top30",
         "type": "bar",
         "uid": "36f0511e-d094-11e8-a8be-f496347d3ff1",
         "x": [
          "INFOSYS LIMITED",
          "TATA CONSULTANCY SERVICES LIMITED",
          "CAPGEMINI AMERICA INC",
          "IBM INDIA PRIVATE LIMITED",
          "TECH MAHINDRA (AMERICAS),INC.",
          "ACCENTURE LLP",
          "DELOITTE CONSULTING LLP",
          "ERNST & YOUNG U.S. LLP",
          "GOOGLE INC.",
          "MICROSOFT CORPORATION",
          "WIPRO LIMITED",
          "SYNTEL CONSULTING INC.",
          "HCL AMERICA, INC.",
          "AMAZON CORPORATE LLC",
          "COGNIZANT TECHNOLOGY SOLUTIONS U.S. CORPORATION",
          "IBM CORPORATION",
          "L&T TECHNOLOGY SERVICES LIMITED",
          "JPMORGAN CHASE & CO.",
          "LARSEN & TOUBRO INFOTECH LIMITED",
          "PRICEWATERHOUSECOOPERS ADVISORY SERVICES LLC",
          "APPLE INC.",
          "DELOITTE & TOUCHE LLP",
          "FACEBOOK, INC.",
          "INTEL CORPORATION",
          "PRICEWATERHOUSECOOPERS LLP",
          "HEXAWARE TECHNOLOGIES, INC.",
          "KPMG LLP",
          "SYNTEL INC",
          "NTT DATA, INC.",
          "UST GLOBAL INC."
         ],
         "y": [
          17038,
          10803,
          8200,
          7673,
          6903,
          5556,
          5395,
          5028,
          4408,
          3941,
          3937,
          3873,
          3696,
          3073,
          2246,
          2056,
          1538,
          1420,
          1403,
          1364,
          1325,
          1307,
          1303,
          1285,
          1135,
          1047,
          1037,
          972,
          942,
          927
         ]
        }
       ],
       "layout": {
        "title": "TOP EMPLOYERS SPONSORING",
        "yaxis": {
         "title": "Num of applications"
        }
       }
      },
      "text/html": [
       "<div id=\"894b445b-d9bb-4d94-8ce1-25b6fa346846\" style=\"height: 525px; width: 100%;\" class=\"plotly-graph-div\"></div><script type=\"text/javascript\">require([\"plotly\"], function(Plotly) { window.PLOTLYENV=window.PLOTLYENV || {};window.PLOTLYENV.BASE_URL=\"https://plot.ly\";\n",
       "        Plotly.plot(\n",
       "            '894b445b-d9bb-4d94-8ce1-25b6fa346846',\n",
       "            [{\"name\": \"top30\", \"x\": [\"INFOSYS LIMITED\", \"TATA CONSULTANCY SERVICES LIMITED\", \"CAPGEMINI AMERICA INC\", \"IBM INDIA PRIVATE LIMITED\", \"TECH MAHINDRA (AMERICAS),INC.\", \"ACCENTURE LLP\", \"DELOITTE CONSULTING LLP\", \"ERNST & YOUNG U.S. LLP\", \"GOOGLE INC.\", \"MICROSOFT CORPORATION\", \"WIPRO LIMITED\", \"SYNTEL CONSULTING INC.\", \"HCL AMERICA, INC.\", \"AMAZON CORPORATE LLC\", \"COGNIZANT TECHNOLOGY SOLUTIONS U.S. CORPORATION\", \"IBM CORPORATION\", \"L&T TECHNOLOGY SERVICES LIMITED\", \"JPMORGAN CHASE & CO.\", \"LARSEN & TOUBRO INFOTECH LIMITED\", \"PRICEWATERHOUSECOOPERS ADVISORY SERVICES LLC\", \"APPLE INC.\", \"DELOITTE & TOUCHE LLP\", \"FACEBOOK, INC.\", \"INTEL CORPORATION\", \"PRICEWATERHOUSECOOPERS LLP\", \"HEXAWARE TECHNOLOGIES, INC.\", \"KPMG LLP\", \"SYNTEL INC\", \"NTT DATA, INC.\", \"UST GLOBAL INC.\"], \"y\": [17038.0, 10803.0, 8200.0, 7673.0, 6903.0, 5556.0, 5395.0, 5028.0, 4408.0, 3941.0, 3937.0, 3873.0, 3696.0, 3073.0, 2246.0, 2056.0, 1538.0, 1420.0, 1403.0, 1364.0, 1325.0, 1307.0, 1303.0, 1285.0, 1135.0, 1047.0, 1037.0, 972.0, 942.0, 927.0], \"type\": \"bar\", \"uid\": \"36f0511e-d094-11e8-a8be-f496347d3ff1\"}],\n",
       "            {\"title\": \"TOP EMPLOYERS SPONSORING\", \"yaxis\": {\"title\": \"Num of applications\"}},\n",
       "            {\"showLink\": true, \"linkText\": \"Export to plot.ly\"}\n",
       "        ).then(function () {return Plotly.addFrames('894b445b-d9bb-4d94-8ce1-25b6fa346846',{});}).then(function(){Plotly.animate('894b445b-d9bb-4d94-8ce1-25b6fa346846');})\n",
       "        });</script>"
      ],
      "text/vnd.plotly.v1+html": [
       "<div id=\"894b445b-d9bb-4d94-8ce1-25b6fa346846\" style=\"height: 525px; width: 100%;\" class=\"plotly-graph-div\"></div><script type=\"text/javascript\">require([\"plotly\"], function(Plotly) { window.PLOTLYENV=window.PLOTLYENV || {};window.PLOTLYENV.BASE_URL=\"https://plot.ly\";\n",
       "        Plotly.plot(\n",
       "            '894b445b-d9bb-4d94-8ce1-25b6fa346846',\n",
       "            [{\"name\": \"top30\", \"x\": [\"INFOSYS LIMITED\", \"TATA CONSULTANCY SERVICES LIMITED\", \"CAPGEMINI AMERICA INC\", \"IBM INDIA PRIVATE LIMITED\", \"TECH MAHINDRA (AMERICAS),INC.\", \"ACCENTURE LLP\", \"DELOITTE CONSULTING LLP\", \"ERNST & YOUNG U.S. LLP\", \"GOOGLE INC.\", \"MICROSOFT CORPORATION\", \"WIPRO LIMITED\", \"SYNTEL CONSULTING INC.\", \"HCL AMERICA, INC.\", \"AMAZON CORPORATE LLC\", \"COGNIZANT TECHNOLOGY SOLUTIONS U.S. CORPORATION\", \"IBM CORPORATION\", \"L&T TECHNOLOGY SERVICES LIMITED\", \"JPMORGAN CHASE & CO.\", \"LARSEN & TOUBRO INFOTECH LIMITED\", \"PRICEWATERHOUSECOOPERS ADVISORY SERVICES LLC\", \"APPLE INC.\", \"DELOITTE & TOUCHE LLP\", \"FACEBOOK, INC.\", \"INTEL CORPORATION\", \"PRICEWATERHOUSECOOPERS LLP\", \"HEXAWARE TECHNOLOGIES, INC.\", \"KPMG LLP\", \"SYNTEL INC\", \"NTT DATA, INC.\", \"UST GLOBAL INC.\"], \"y\": [17038.0, 10803.0, 8200.0, 7673.0, 6903.0, 5556.0, 5395.0, 5028.0, 4408.0, 3941.0, 3937.0, 3873.0, 3696.0, 3073.0, 2246.0, 2056.0, 1538.0, 1420.0, 1403.0, 1364.0, 1325.0, 1307.0, 1303.0, 1285.0, 1135.0, 1047.0, 1037.0, 972.0, 942.0, 927.0], \"type\": \"bar\", \"uid\": \"36f0511e-d094-11e8-a8be-f496347d3ff1\"}],\n",
       "            {\"title\": \"TOP EMPLOYERS SPONSORING\", \"yaxis\": {\"title\": \"Num of applications\"}},\n",
       "            {\"showLink\": true, \"linkText\": \"Export to plot.ly\"}\n",
       "        ).then(function () {return Plotly.addFrames('894b445b-d9bb-4d94-8ce1-25b6fa346846',{});}).then(function(){Plotly.animate('894b445b-d9bb-4d94-8ce1-25b6fa346846');})\n",
       "        });</script>"
      ]
     },
     "metadata": {},
     "output_type": "display_data"
    }
   ],
   "source": [
    "t1 = go.Bar(x=dftop.EMPLOYER_NAME.values,y=dftop.countvar.values,name='top30')\n",
    "layout = go.Layout(dict(title= \"TOP EMPLOYERS SPONSORING\",yaxis=dict(title=\"Num of applications\")))\n",
    "data = [t1]\n",
    "fig =go.Figure(data,layout)\n",
    "iplot(fig)"
   ]
  },
  {
   "cell_type": "markdown",
   "metadata": {},
   "source": [
    "### Top Employers and its Case status bar."
   ]
  },
  {
   "cell_type": "code",
   "execution_count": 23,
   "metadata": {},
   "outputs": [],
   "source": [
    "dftop1 = df.groupby(['EMPLOYER_NAME','CASE_STATUS'],as_index=False).count()\n",
    "dftop1=dftop1[dftop1.EMPLOYER_NAME.isin(dftop.EMPLOYER_NAME)]"
   ]
  },
  {
   "cell_type": "code",
   "execution_count": 24,
   "metadata": {},
   "outputs": [
    {
     "data": {
      "application/vnd.plotly.v1+json": {
       "data": [
        {
         "name": "CERTIFIED",
         "type": "bar",
         "uid": "45ae9370-d094-11e8-b79e-f496347d3ff1",
         "x": [
          "INFOSYS LIMITED",
          "TATA CONSULTANCY SERVICES LIMITED",
          "CAPGEMINI AMERICA INC",
          "TECH MAHINDRA (AMERICAS),INC.",
          "IBM INDIA PRIVATE LIMITED",
          "ACCENTURE LLP",
          "DELOITTE CONSULTING LLP",
          "ERNST & YOUNG U.S. LLP",
          "HCL AMERICA, INC.",
          "SYNTEL CONSULTING INC.",
          "MICROSOFT CORPORATION",
          "WIPRO LIMITED",
          "GOOGLE INC.",
          "AMAZON CORPORATE LLC",
          "COGNIZANT TECHNOLOGY SOLUTIONS U.S. CORPORATION",
          "L&T TECHNOLOGY SERVICES LIMITED",
          "IBM CORPORATION",
          "PRICEWATERHOUSECOOPERS ADVISORY SERVICES LLC",
          "LARSEN & TOUBRO INFOTECH LIMITED",
          "DELOITTE & TOUCHE LLP",
          "INTEL CORPORATION",
          "JPMORGAN CHASE & CO.",
          "FACEBOOK, INC.",
          "APPLE INC.",
          "PRICEWATERHOUSECOOPERS LLP",
          "HEXAWARE TECHNOLOGIES, INC.",
          "NTT DATA, INC.",
          "UST GLOBAL INC.",
          "SYNTEL INC",
          "KPMG LLP"
         ],
         "y": [
          17029,
          10717,
          7474,
          6876,
          6517,
          5512,
          5255,
          4994,
          3680,
          3669,
          3426,
          3332,
          2969,
          2932,
          1929,
          1394,
          1361,
          1341,
          1314,
          1286,
          1269,
          1262,
          1165,
          1161,
          1110,
          1014,
          940,
          907,
          904,
          747
         ]
        },
        {
         "name": "CERTIFIED-WITHDRAWN",
         "type": "bar",
         "uid": "45ae9371-d094-11e8-b18b-f496347d3ff1",
         "x": [
          "GOOGLE INC.",
          "CAPGEMINI AMERICA INC",
          "WIPRO LIMITED",
          "MICROSOFT CORPORATION",
          "IBM INDIA PRIVATE LIMITED",
          "COGNIZANT TECHNOLOGY SOLUTIONS U.S. CORPORATION",
          "KPMG LLP",
          "IBM CORPORATION",
          "SYNTEL CONSULTING INC.",
          "APPLE INC.",
          "FACEBOOK, INC.",
          "JPMORGAN CHASE & CO.",
          "SYNTEL INC",
          "L&T TECHNOLOGY SERVICES LIMITED",
          "TATA CONSULTANCY SERVICES LIMITED",
          "TECH MAHINDRA (AMERICAS),INC.",
          "PRICEWATERHOUSECOOPERS ADVISORY SERVICES LLC",
          "ACCENTURE LLP",
          "HEXAWARE TECHNOLOGIES, INC.",
          "INTEL CORPORATION",
          "AMAZON CORPORATE LLC",
          "UST GLOBAL INC.",
          "LARSEN & TOUBRO INFOTECH LIMITED",
          "PRICEWATERHOUSECOOPERS LLP",
          "INFOSYS LIMITED",
          "DELOITTE CONSULTING LLP"
         ],
         "y": [
          1280,
          571,
          525,
          488,
          309,
          255,
          229,
          199,
          171,
          142,
          129,
          116,
          48,
          32,
          18,
          14,
          12,
          12,
          9,
          7,
          7,
          6,
          3,
          2,
          1,
          1
         ]
        },
        {
         "name": "DENIED",
         "type": "bar",
         "uid": "45ae9372-d094-11e8-8c92-f496347d3ff1",
         "x": [
          "DELOITTE CONSULTING LLP",
          "GOOGLE INC.",
          "IBM CORPORATION",
          "IBM INDIA PRIVATE LIMITED",
          "ERNST & YOUNG U.S. LLP",
          "CAPGEMINI AMERICA INC",
          "TATA CONSULTANCY SERVICES LIMITED",
          "AMAZON CORPORATE LLC",
          "WIPRO LIMITED",
          "PRICEWATERHOUSECOOPERS LLP",
          "DELOITTE & TOUCHE LLP",
          "KPMG LLP",
          "APPLE INC.",
          "TECH MAHINDRA (AMERICAS),INC.",
          "LARSEN & TOUBRO INFOTECH LIMITED",
          "HCL AMERICA, INC.",
          "UST GLOBAL INC.",
          "JPMORGAN CHASE & CO.",
          "PRICEWATERHOUSECOOPERS ADVISORY SERVICES LLC",
          "ACCENTURE LLP",
          "HEXAWARE TECHNOLOGIES, INC.",
          "INTEL CORPORATION",
          "L&T TECHNOLOGY SERVICES LIMITED",
          "INFOSYS LIMITED",
          "NTT DATA, INC.",
          "SYNTEL CONSULTING INC.",
          "COGNIZANT TECHNOLOGY SOLUTIONS U.S. CORPORATION",
          "MICROSOFT CORPORATION",
          "SYNTEL INC",
          "FACEBOOK, INC."
         ],
         "y": [
          98,
          43,
          36,
          35,
          32,
          27,
          25,
          18,
          18,
          17,
          16,
          15,
          12,
          9,
          7,
          7,
          7,
          6,
          5,
          5,
          5,
          5,
          4,
          3,
          2,
          2,
          2,
          1,
          1,
          1
         ]
        },
        {
         "name": "WITHDRAWN",
         "type": "bar",
         "uid": "45ae9373-d094-11e8-8174-f496347d3ff1",
         "x": [
          "IBM INDIA PRIVATE LIMITED",
          "IBM CORPORATION",
          "CAPGEMINI AMERICA INC",
          "AMAZON CORPORATE LLC",
          "GOOGLE INC.",
          "L&T TECHNOLOGY SERVICES LIMITED",
          "LARSEN & TOUBRO INFOTECH LIMITED",
          "WIPRO LIMITED",
          "COGNIZANT TECHNOLOGY SOLUTIONS U.S. CORPORATION",
          "KPMG LLP",
          "TATA CONSULTANCY SERVICES LIMITED",
          "DELOITTE CONSULTING LLP",
          "JPMORGAN CHASE & CO.",
          "SYNTEL CONSULTING INC.",
          "ACCENTURE LLP",
          "MICROSOFT CORPORATION",
          "HEXAWARE TECHNOLOGIES, INC.",
          "SYNTEL INC",
          "APPLE INC.",
          "HCL AMERICA, INC.",
          "FACEBOOK, INC.",
          "UST GLOBAL INC.",
          "PRICEWATERHOUSECOOPERS ADVISORY SERVICES LLC",
          "PRICEWATERHOUSECOOPERS LLP",
          "DELOITTE & TOUCHE LLP",
          "INFOSYS LIMITED",
          "INTEL CORPORATION",
          "TECH MAHINDRA (AMERICAS),INC.",
          "ERNST & YOUNG U.S. LLP"
         ],
         "y": [
          812,
          460,
          128,
          116,
          116,
          108,
          79,
          62,
          60,
          46,
          43,
          41,
          36,
          31,
          27,
          26,
          19,
          19,
          10,
          9,
          8,
          7,
          6,
          6,
          5,
          5,
          4,
          4,
          2
         ]
        }
       ],
       "layout": {
        "barmode": "stack"
       }
      },
      "text/html": [
       "<div id=\"800736e9-05f4-462c-b92c-a05d463953ea\" style=\"height: 525px; width: 100%;\" class=\"plotly-graph-div\"></div><script type=\"text/javascript\">require([\"plotly\"], function(Plotly) { window.PLOTLYENV=window.PLOTLYENV || {};window.PLOTLYENV.BASE_URL=\"https://plot.ly\";\n",
       "        Plotly.plot(\n",
       "            '800736e9-05f4-462c-b92c-a05d463953ea',\n",
       "            [{\"name\": \"CERTIFIED\", \"x\": [\"INFOSYS LIMITED\", \"TATA CONSULTANCY SERVICES LIMITED\", \"CAPGEMINI AMERICA INC\", \"TECH MAHINDRA (AMERICAS),INC.\", \"IBM INDIA PRIVATE LIMITED\", \"ACCENTURE LLP\", \"DELOITTE CONSULTING LLP\", \"ERNST & YOUNG U.S. LLP\", \"HCL AMERICA, INC.\", \"SYNTEL CONSULTING INC.\", \"MICROSOFT CORPORATION\", \"WIPRO LIMITED\", \"GOOGLE INC.\", \"AMAZON CORPORATE LLC\", \"COGNIZANT TECHNOLOGY SOLUTIONS U.S. CORPORATION\", \"L&T TECHNOLOGY SERVICES LIMITED\", \"IBM CORPORATION\", \"PRICEWATERHOUSECOOPERS ADVISORY SERVICES LLC\", \"LARSEN & TOUBRO INFOTECH LIMITED\", \"DELOITTE & TOUCHE LLP\", \"INTEL CORPORATION\", \"JPMORGAN CHASE & CO.\", \"FACEBOOK, INC.\", \"APPLE INC.\", \"PRICEWATERHOUSECOOPERS LLP\", \"HEXAWARE TECHNOLOGIES, INC.\", \"NTT DATA, INC.\", \"UST GLOBAL INC.\", \"SYNTEL INC\", \"KPMG LLP\"], \"y\": [17029.0, 10717.0, 7474.0, 6876.0, 6517.0, 5512.0, 5255.0, 4994.0, 3680.0, 3669.0, 3426.0, 3332.0, 2969.0, 2932.0, 1929.0, 1394.0, 1361.0, 1341.0, 1314.0, 1286.0, 1269.0, 1262.0, 1165.0, 1161.0, 1110.0, 1014.0, 940.0, 907.0, 904.0, 747.0], \"type\": \"bar\", \"uid\": \"45ae9370-d094-11e8-b79e-f496347d3ff1\"}, {\"name\": \"CERTIFIED-WITHDRAWN\", \"x\": [\"GOOGLE INC.\", \"CAPGEMINI AMERICA INC\", \"WIPRO LIMITED\", \"MICROSOFT CORPORATION\", \"IBM INDIA PRIVATE LIMITED\", \"COGNIZANT TECHNOLOGY SOLUTIONS U.S. CORPORATION\", \"KPMG LLP\", \"IBM CORPORATION\", \"SYNTEL CONSULTING INC.\", \"APPLE INC.\", \"FACEBOOK, INC.\", \"JPMORGAN CHASE & CO.\", \"SYNTEL INC\", \"L&T TECHNOLOGY SERVICES LIMITED\", \"TATA CONSULTANCY SERVICES LIMITED\", \"TECH MAHINDRA (AMERICAS),INC.\", \"PRICEWATERHOUSECOOPERS ADVISORY SERVICES LLC\", \"ACCENTURE LLP\", \"HEXAWARE TECHNOLOGIES, INC.\", \"INTEL CORPORATION\", \"AMAZON CORPORATE LLC\", \"UST GLOBAL INC.\", \"LARSEN & TOUBRO INFOTECH LIMITED\", \"PRICEWATERHOUSECOOPERS LLP\", \"INFOSYS LIMITED\", \"DELOITTE CONSULTING LLP\"], \"y\": [1280.0, 571.0, 525.0, 488.0, 309.0, 255.0, 229.0, 199.0, 171.0, 142.0, 129.0, 116.0, 48.0, 32.0, 18.0, 14.0, 12.0, 12.0, 9.0, 7.0, 7.0, 6.0, 3.0, 2.0, 1.0, 1.0], \"type\": \"bar\", \"uid\": \"45ae9371-d094-11e8-b18b-f496347d3ff1\"}, {\"name\": \"DENIED\", \"x\": [\"DELOITTE CONSULTING LLP\", \"GOOGLE INC.\", \"IBM CORPORATION\", \"IBM INDIA PRIVATE LIMITED\", \"ERNST & YOUNG U.S. LLP\", \"CAPGEMINI AMERICA INC\", \"TATA CONSULTANCY SERVICES LIMITED\", \"AMAZON CORPORATE LLC\", \"WIPRO LIMITED\", \"PRICEWATERHOUSECOOPERS LLP\", \"DELOITTE & TOUCHE LLP\", \"KPMG LLP\", \"APPLE INC.\", \"TECH MAHINDRA (AMERICAS),INC.\", \"LARSEN & TOUBRO INFOTECH LIMITED\", \"HCL AMERICA, INC.\", \"UST GLOBAL INC.\", \"JPMORGAN CHASE & CO.\", \"PRICEWATERHOUSECOOPERS ADVISORY SERVICES LLC\", \"ACCENTURE LLP\", \"HEXAWARE TECHNOLOGIES, INC.\", \"INTEL CORPORATION\", \"L&T TECHNOLOGY SERVICES LIMITED\", \"INFOSYS LIMITED\", \"NTT DATA, INC.\", \"SYNTEL CONSULTING INC.\", \"COGNIZANT TECHNOLOGY SOLUTIONS U.S. CORPORATION\", \"MICROSOFT CORPORATION\", \"SYNTEL INC\", \"FACEBOOK, INC.\"], \"y\": [98.0, 43.0, 36.0, 35.0, 32.0, 27.0, 25.0, 18.0, 18.0, 17.0, 16.0, 15.0, 12.0, 9.0, 7.0, 7.0, 7.0, 6.0, 5.0, 5.0, 5.0, 5.0, 4.0, 3.0, 2.0, 2.0, 2.0, 1.0, 1.0, 1.0], \"type\": \"bar\", \"uid\": \"45ae9372-d094-11e8-8c92-f496347d3ff1\"}, {\"name\": \"WITHDRAWN\", \"x\": [\"IBM INDIA PRIVATE LIMITED\", \"IBM CORPORATION\", \"CAPGEMINI AMERICA INC\", \"AMAZON CORPORATE LLC\", \"GOOGLE INC.\", \"L&T TECHNOLOGY SERVICES LIMITED\", \"LARSEN & TOUBRO INFOTECH LIMITED\", \"WIPRO LIMITED\", \"COGNIZANT TECHNOLOGY SOLUTIONS U.S. CORPORATION\", \"KPMG LLP\", \"TATA CONSULTANCY SERVICES LIMITED\", \"DELOITTE CONSULTING LLP\", \"JPMORGAN CHASE & CO.\", \"SYNTEL CONSULTING INC.\", \"ACCENTURE LLP\", \"MICROSOFT CORPORATION\", \"HEXAWARE TECHNOLOGIES, INC.\", \"SYNTEL INC\", \"APPLE INC.\", \"HCL AMERICA, INC.\", \"FACEBOOK, INC.\", \"UST GLOBAL INC.\", \"PRICEWATERHOUSECOOPERS ADVISORY SERVICES LLC\", \"PRICEWATERHOUSECOOPERS LLP\", \"DELOITTE & TOUCHE LLP\", \"INFOSYS LIMITED\", \"INTEL CORPORATION\", \"TECH MAHINDRA (AMERICAS),INC.\", \"ERNST & YOUNG U.S. LLP\"], \"y\": [812.0, 460.0, 128.0, 116.0, 116.0, 108.0, 79.0, 62.0, 60.0, 46.0, 43.0, 41.0, 36.0, 31.0, 27.0, 26.0, 19.0, 19.0, 10.0, 9.0, 8.0, 7.0, 6.0, 6.0, 5.0, 5.0, 4.0, 4.0, 2.0], \"type\": \"bar\", \"uid\": \"45ae9373-d094-11e8-8174-f496347d3ff1\"}],\n",
       "            {\"barmode\": \"stack\"},\n",
       "            {\"showLink\": true, \"linkText\": \"Export to plot.ly\"}\n",
       "        ).then(function () {return Plotly.addFrames('800736e9-05f4-462c-b92c-a05d463953ea',{});}).then(function(){Plotly.animate('800736e9-05f4-462c-b92c-a05d463953ea');})\n",
       "        });</script>"
      ],
      "text/vnd.plotly.v1+html": [
       "<div id=\"800736e9-05f4-462c-b92c-a05d463953ea\" style=\"height: 525px; width: 100%;\" class=\"plotly-graph-div\"></div><script type=\"text/javascript\">require([\"plotly\"], function(Plotly) { window.PLOTLYENV=window.PLOTLYENV || {};window.PLOTLYENV.BASE_URL=\"https://plot.ly\";\n",
       "        Plotly.plot(\n",
       "            '800736e9-05f4-462c-b92c-a05d463953ea',\n",
       "            [{\"name\": \"CERTIFIED\", \"x\": [\"INFOSYS LIMITED\", \"TATA CONSULTANCY SERVICES LIMITED\", \"CAPGEMINI AMERICA INC\", \"TECH MAHINDRA (AMERICAS),INC.\", \"IBM INDIA PRIVATE LIMITED\", \"ACCENTURE LLP\", \"DELOITTE CONSULTING LLP\", \"ERNST & YOUNG U.S. LLP\", \"HCL AMERICA, INC.\", \"SYNTEL CONSULTING INC.\", \"MICROSOFT CORPORATION\", \"WIPRO LIMITED\", \"GOOGLE INC.\", \"AMAZON CORPORATE LLC\", \"COGNIZANT TECHNOLOGY SOLUTIONS U.S. CORPORATION\", \"L&T TECHNOLOGY SERVICES LIMITED\", \"IBM CORPORATION\", \"PRICEWATERHOUSECOOPERS ADVISORY SERVICES LLC\", \"LARSEN & TOUBRO INFOTECH LIMITED\", \"DELOITTE & TOUCHE LLP\", \"INTEL CORPORATION\", \"JPMORGAN CHASE & CO.\", \"FACEBOOK, INC.\", \"APPLE INC.\", \"PRICEWATERHOUSECOOPERS LLP\", \"HEXAWARE TECHNOLOGIES, INC.\", \"NTT DATA, INC.\", \"UST GLOBAL INC.\", \"SYNTEL INC\", \"KPMG LLP\"], \"y\": [17029.0, 10717.0, 7474.0, 6876.0, 6517.0, 5512.0, 5255.0, 4994.0, 3680.0, 3669.0, 3426.0, 3332.0, 2969.0, 2932.0, 1929.0, 1394.0, 1361.0, 1341.0, 1314.0, 1286.0, 1269.0, 1262.0, 1165.0, 1161.0, 1110.0, 1014.0, 940.0, 907.0, 904.0, 747.0], \"type\": \"bar\", \"uid\": \"45ae9370-d094-11e8-b79e-f496347d3ff1\"}, {\"name\": \"CERTIFIED-WITHDRAWN\", \"x\": [\"GOOGLE INC.\", \"CAPGEMINI AMERICA INC\", \"WIPRO LIMITED\", \"MICROSOFT CORPORATION\", \"IBM INDIA PRIVATE LIMITED\", \"COGNIZANT TECHNOLOGY SOLUTIONS U.S. CORPORATION\", \"KPMG LLP\", \"IBM CORPORATION\", \"SYNTEL CONSULTING INC.\", \"APPLE INC.\", \"FACEBOOK, INC.\", \"JPMORGAN CHASE & CO.\", \"SYNTEL INC\", \"L&T TECHNOLOGY SERVICES LIMITED\", \"TATA CONSULTANCY SERVICES LIMITED\", \"TECH MAHINDRA (AMERICAS),INC.\", \"PRICEWATERHOUSECOOPERS ADVISORY SERVICES LLC\", \"ACCENTURE LLP\", \"HEXAWARE TECHNOLOGIES, INC.\", \"INTEL CORPORATION\", \"AMAZON CORPORATE LLC\", \"UST GLOBAL INC.\", \"LARSEN & TOUBRO INFOTECH LIMITED\", \"PRICEWATERHOUSECOOPERS LLP\", \"INFOSYS LIMITED\", \"DELOITTE CONSULTING LLP\"], \"y\": [1280.0, 571.0, 525.0, 488.0, 309.0, 255.0, 229.0, 199.0, 171.0, 142.0, 129.0, 116.0, 48.0, 32.0, 18.0, 14.0, 12.0, 12.0, 9.0, 7.0, 7.0, 6.0, 3.0, 2.0, 1.0, 1.0], \"type\": \"bar\", \"uid\": \"45ae9371-d094-11e8-b18b-f496347d3ff1\"}, {\"name\": \"DENIED\", \"x\": [\"DELOITTE CONSULTING LLP\", \"GOOGLE INC.\", \"IBM CORPORATION\", \"IBM INDIA PRIVATE LIMITED\", \"ERNST & YOUNG U.S. LLP\", \"CAPGEMINI AMERICA INC\", \"TATA CONSULTANCY SERVICES LIMITED\", \"AMAZON CORPORATE LLC\", \"WIPRO LIMITED\", \"PRICEWATERHOUSECOOPERS LLP\", \"DELOITTE & TOUCHE LLP\", \"KPMG LLP\", \"APPLE INC.\", \"TECH MAHINDRA (AMERICAS),INC.\", \"LARSEN & TOUBRO INFOTECH LIMITED\", \"HCL AMERICA, INC.\", \"UST GLOBAL INC.\", \"JPMORGAN CHASE & CO.\", \"PRICEWATERHOUSECOOPERS ADVISORY SERVICES LLC\", \"ACCENTURE LLP\", \"HEXAWARE TECHNOLOGIES, INC.\", \"INTEL CORPORATION\", \"L&T TECHNOLOGY SERVICES LIMITED\", \"INFOSYS LIMITED\", \"NTT DATA, INC.\", \"SYNTEL CONSULTING INC.\", \"COGNIZANT TECHNOLOGY SOLUTIONS U.S. CORPORATION\", \"MICROSOFT CORPORATION\", \"SYNTEL INC\", \"FACEBOOK, INC.\"], \"y\": [98.0, 43.0, 36.0, 35.0, 32.0, 27.0, 25.0, 18.0, 18.0, 17.0, 16.0, 15.0, 12.0, 9.0, 7.0, 7.0, 7.0, 6.0, 5.0, 5.0, 5.0, 5.0, 4.0, 3.0, 2.0, 2.0, 2.0, 1.0, 1.0, 1.0], \"type\": \"bar\", \"uid\": \"45ae9372-d094-11e8-8c92-f496347d3ff1\"}, {\"name\": \"WITHDRAWN\", \"x\": [\"IBM INDIA PRIVATE LIMITED\", \"IBM CORPORATION\", \"CAPGEMINI AMERICA INC\", \"AMAZON CORPORATE LLC\", \"GOOGLE INC.\", \"L&T TECHNOLOGY SERVICES LIMITED\", \"LARSEN & TOUBRO INFOTECH LIMITED\", \"WIPRO LIMITED\", \"COGNIZANT TECHNOLOGY SOLUTIONS U.S. CORPORATION\", \"KPMG LLP\", \"TATA CONSULTANCY SERVICES LIMITED\", \"DELOITTE CONSULTING LLP\", \"JPMORGAN CHASE & CO.\", \"SYNTEL CONSULTING INC.\", \"ACCENTURE LLP\", \"MICROSOFT CORPORATION\", \"HEXAWARE TECHNOLOGIES, INC.\", \"SYNTEL INC\", \"APPLE INC.\", \"HCL AMERICA, INC.\", \"FACEBOOK, INC.\", \"UST GLOBAL INC.\", \"PRICEWATERHOUSECOOPERS ADVISORY SERVICES LLC\", \"PRICEWATERHOUSECOOPERS LLP\", \"DELOITTE & TOUCHE LLP\", \"INFOSYS LIMITED\", \"INTEL CORPORATION\", \"TECH MAHINDRA (AMERICAS),INC.\", \"ERNST & YOUNG U.S. LLP\"], \"y\": [812.0, 460.0, 128.0, 116.0, 116.0, 108.0, 79.0, 62.0, 60.0, 46.0, 43.0, 41.0, 36.0, 31.0, 27.0, 26.0, 19.0, 19.0, 10.0, 9.0, 8.0, 7.0, 6.0, 6.0, 5.0, 5.0, 4.0, 4.0, 2.0], \"type\": \"bar\", \"uid\": \"45ae9373-d094-11e8-8174-f496347d3ff1\"}],\n",
       "            {\"barmode\": \"stack\"},\n",
       "            {\"showLink\": true, \"linkText\": \"Export to plot.ly\"}\n",
       "        ).then(function () {return Plotly.addFrames('800736e9-05f4-462c-b92c-a05d463953ea',{});}).then(function(){Plotly.animate('800736e9-05f4-462c-b92c-a05d463953ea');})\n",
       "        });</script>"
      ]
     },
     "metadata": {},
     "output_type": "display_data"
    }
   ],
   "source": [
    "t1 = go.Bar(x=dftop1[dftop1.CASE_STATUS == 'CERTIFIED'].sort_values('countvar',ascending= False)['EMPLOYER_NAME'].values,y=dftop1[dftop1.CASE_STATUS == 'CERTIFIED'].sort_values('countvar',ascending= False)['countvar'].values,name='CERTIFIED')\n",
    "t2 = go.Bar(x=dftop1[dftop1.CASE_STATUS == 'CERTIFIED-WITHDRAWN'].sort_values('countvar',ascending= False)['EMPLOYER_NAME'].values,y=dftop1[dftop1.CASE_STATUS == 'CERTIFIED-WITHDRAWN'].sort_values('countvar',ascending= False)['countvar'].values,name='CERTIFIED-WITHDRAWN')\n",
    "t3 = go.Bar(x=dftop1[dftop1.CASE_STATUS == 'DENIED'].sort_values('countvar',ascending= False)['EMPLOYER_NAME'].values,y=dftop1[dftop1.CASE_STATUS == 'DENIED'].sort_values('countvar',ascending= False)['countvar'].values,name='DENIED')\n",
    "t4 = go.Bar(x=dftop1[dftop1.CASE_STATUS == 'WITHDRAWN'].sort_values('countvar',ascending= False)['EMPLOYER_NAME'].values,y=dftop1[dftop1.CASE_STATUS == 'WITHDRAWN'].sort_values('countvar',ascending= False)['countvar'].values,name='WITHDRAWN')\n",
    "\n",
    "data = [t1,t2,t3,t4]\n",
    "layout = go.Layout(\n",
    "    barmode='stack'\n",
    ")\n",
    "\n",
    "fig =go.Figure(data,layout)\n",
    "iplot(fig)"
   ]
  },
  {
   "cell_type": "markdown",
   "metadata": {},
   "source": [
    "# Number of Applications per State.\n",
    "- Barplot and Choropleth graph"
   ]
  },
  {
   "cell_type": "code",
   "execution_count": 25,
   "metadata": {
    "scrolled": true
   },
   "outputs": [],
   "source": [
    "dfempst = df.groupby('EMPLOYER_STATE',as_index=False).count()[['EMPLOYER_STATE','countvar']].sort_values('countvar',ascending=False)"
   ]
  },
  {
   "cell_type": "code",
   "execution_count": 26,
   "metadata": {},
   "outputs": [
    {
     "data": {
      "application/vnd.plotly.v1+json": {
       "data": [
        {
         "name": "Employerstate",
         "type": "bar",
         "uid": "4d842a0c-d094-11e8-ab90-f496347d3ff1",
         "x": [
          "CA",
          "TX",
          "NJ",
          "NY",
          "IL",
          "MI",
          "PA",
          "MA",
          "MD",
          "VA",
          "FL",
          "NC",
          "WA",
          "GA",
          "OH",
          "CT",
          "MO",
          "MN",
          "TN",
          "AZ",
          "CO",
          "WI",
          "IN",
          "KY",
          "DE",
          "AR",
          "IA",
          "UT",
          "DC",
          "KS",
          "NE",
          "OR",
          "SC",
          "LA",
          "AL",
          "NH",
          "RI",
          "OK",
          "NV",
          "PR",
          "ID",
          "NM",
          "MS",
          "ME",
          "VT",
          "WV",
          "HI",
          "MP",
          "ND",
          "GU",
          "SD",
          "MT",
          "WY",
          "AK",
          "VI",
          "AS"
         ],
         "y": [
          87914,
          74481,
          63865,
          34894,
          34301,
          23132,
          20728,
          19374,
          17321,
          16201,
          15993,
          15826,
          15334,
          14306,
          7721,
          4983,
          4483,
          3975,
          3783,
          3484,
          3314,
          2919,
          2409,
          2020,
          2008,
          1888,
          1765,
          1690,
          1663,
          1572,
          1452,
          1350,
          1304,
          1057,
          987,
          876,
          866,
          785,
          753,
          556,
          536,
          486,
          430,
          384,
          327,
          303,
          271,
          257,
          244,
          219,
          181,
          91,
          84,
          62,
          52,
          1
         ]
        }
       ],
       "layout": {
        "title": "NUMBER OF APPLICATIONS PER STATE",
        "xaxis": {
         "title": "STATES"
        },
        "yaxis": {
         "title": "Num of applications"
        }
       }
      },
      "text/html": [
       "<div id=\"8b426d06-24fe-410d-a65e-78f9379ecf76\" style=\"height: 525px; width: 100%;\" class=\"plotly-graph-div\"></div><script type=\"text/javascript\">require([\"plotly\"], function(Plotly) { window.PLOTLYENV=window.PLOTLYENV || {};window.PLOTLYENV.BASE_URL=\"https://plot.ly\";\n",
       "        Plotly.plot(\n",
       "            '8b426d06-24fe-410d-a65e-78f9379ecf76',\n",
       "            [{\"name\": \"Employerstate\", \"x\": [\"CA\", \"TX\", \"NJ\", \"NY\", \"IL\", \"MI\", \"PA\", \"MA\", \"MD\", \"VA\", \"FL\", \"NC\", \"WA\", \"GA\", \"OH\", \"CT\", \"MO\", \"MN\", \"TN\", \"AZ\", \"CO\", \"WI\", \"IN\", \"KY\", \"DE\", \"AR\", \"IA\", \"UT\", \"DC\", \"KS\", \"NE\", \"OR\", \"SC\", \"LA\", \"AL\", \"NH\", \"RI\", \"OK\", \"NV\", \"PR\", \"ID\", \"NM\", \"MS\", \"ME\", \"VT\", \"WV\", \"HI\", \"MP\", \"ND\", \"GU\", \"SD\", \"MT\", \"WY\", \"AK\", \"VI\", \"AS\"], \"y\": [87914.0, 74481.0, 63865.0, 34894.0, 34301.0, 23132.0, 20728.0, 19374.0, 17321.0, 16201.0, 15993.0, 15826.0, 15334.0, 14306.0, 7721.0, 4983.0, 4483.0, 3975.0, 3783.0, 3484.0, 3314.0, 2919.0, 2409.0, 2020.0, 2008.0, 1888.0, 1765.0, 1690.0, 1663.0, 1572.0, 1452.0, 1350.0, 1304.0, 1057.0, 987.0, 876.0, 866.0, 785.0, 753.0, 556.0, 536.0, 486.0, 430.0, 384.0, 327.0, 303.0, 271.0, 257.0, 244.0, 219.0, 181.0, 91.0, 84.0, 62.0, 52.0, 1.0], \"type\": \"bar\", \"uid\": \"4d842a0c-d094-11e8-ab90-f496347d3ff1\"}],\n",
       "            {\"title\": \"NUMBER OF APPLICATIONS PER STATE\", \"xaxis\": {\"title\": \"STATES\"}, \"yaxis\": {\"title\": \"Num of applications\"}},\n",
       "            {\"showLink\": true, \"linkText\": \"Export to plot.ly\"}\n",
       "        ).then(function () {return Plotly.addFrames('8b426d06-24fe-410d-a65e-78f9379ecf76',{});}).then(function(){Plotly.animate('8b426d06-24fe-410d-a65e-78f9379ecf76');})\n",
       "        });</script>"
      ],
      "text/vnd.plotly.v1+html": [
       "<div id=\"8b426d06-24fe-410d-a65e-78f9379ecf76\" style=\"height: 525px; width: 100%;\" class=\"plotly-graph-div\"></div><script type=\"text/javascript\">require([\"plotly\"], function(Plotly) { window.PLOTLYENV=window.PLOTLYENV || {};window.PLOTLYENV.BASE_URL=\"https://plot.ly\";\n",
       "        Plotly.plot(\n",
       "            '8b426d06-24fe-410d-a65e-78f9379ecf76',\n",
       "            [{\"name\": \"Employerstate\", \"x\": [\"CA\", \"TX\", \"NJ\", \"NY\", \"IL\", \"MI\", \"PA\", \"MA\", \"MD\", \"VA\", \"FL\", \"NC\", \"WA\", \"GA\", \"OH\", \"CT\", \"MO\", \"MN\", \"TN\", \"AZ\", \"CO\", \"WI\", \"IN\", \"KY\", \"DE\", \"AR\", \"IA\", \"UT\", \"DC\", \"KS\", \"NE\", \"OR\", \"SC\", \"LA\", \"AL\", \"NH\", \"RI\", \"OK\", \"NV\", \"PR\", \"ID\", \"NM\", \"MS\", \"ME\", \"VT\", \"WV\", \"HI\", \"MP\", \"ND\", \"GU\", \"SD\", \"MT\", \"WY\", \"AK\", \"VI\", \"AS\"], \"y\": [87914.0, 74481.0, 63865.0, 34894.0, 34301.0, 23132.0, 20728.0, 19374.0, 17321.0, 16201.0, 15993.0, 15826.0, 15334.0, 14306.0, 7721.0, 4983.0, 4483.0, 3975.0, 3783.0, 3484.0, 3314.0, 2919.0, 2409.0, 2020.0, 2008.0, 1888.0, 1765.0, 1690.0, 1663.0, 1572.0, 1452.0, 1350.0, 1304.0, 1057.0, 987.0, 876.0, 866.0, 785.0, 753.0, 556.0, 536.0, 486.0, 430.0, 384.0, 327.0, 303.0, 271.0, 257.0, 244.0, 219.0, 181.0, 91.0, 84.0, 62.0, 52.0, 1.0], \"type\": \"bar\", \"uid\": \"4d842a0c-d094-11e8-ab90-f496347d3ff1\"}],\n",
       "            {\"title\": \"NUMBER OF APPLICATIONS PER STATE\", \"xaxis\": {\"title\": \"STATES\"}, \"yaxis\": {\"title\": \"Num of applications\"}},\n",
       "            {\"showLink\": true, \"linkText\": \"Export to plot.ly\"}\n",
       "        ).then(function () {return Plotly.addFrames('8b426d06-24fe-410d-a65e-78f9379ecf76',{});}).then(function(){Plotly.animate('8b426d06-24fe-410d-a65e-78f9379ecf76');})\n",
       "        });</script>"
      ]
     },
     "metadata": {},
     "output_type": "display_data"
    }
   ],
   "source": [
    "t1 = go.Bar(x=dfempst.EMPLOYER_STATE.values,y=dfempst.countvar.values,name='Employerstate')\n",
    "layout = go.Layout(dict(title= \"NUMBER OF APPLICATIONS PER STATE\",xaxis=dict(title=\"STATES\"),yaxis=dict(title=\"Num of applications\")))\n",
    "data = [t1]\n",
    "fig =go.Figure(data,layout)\n",
    "iplot(fig)"
   ]
  },
  {
   "cell_type": "code",
   "execution_count": 27,
   "metadata": {},
   "outputs": [
    {
     "data": {
      "application/vnd.plotly.v1+json": {
       "data": [
        {
         "colorbar": {
          "title": "Number of applications"
         },
         "locationmode": "USA-states",
         "locations": [
          "CA",
          "TX",
          "NJ",
          "NY",
          "IL",
          "MI",
          "PA",
          "MA",
          "MD",
          "VA",
          "FL",
          "NC",
          "WA",
          "GA",
          "OH",
          "CT",
          "MO",
          "MN",
          "TN",
          "AZ",
          "CO",
          "WI",
          "IN",
          "KY",
          "DE",
          "AR",
          "IA",
          "UT",
          "DC",
          "KS",
          "NE",
          "OR",
          "SC",
          "LA",
          "AL",
          "NH",
          "RI",
          "OK",
          "NV",
          "PR",
          "ID",
          "NM",
          "MS",
          "ME",
          "VT",
          "WV",
          "HI",
          "MP",
          "ND",
          "GU",
          "SD",
          "MT",
          "WY",
          "AK",
          "VI",
          "AS"
         ],
         "marker": {
          "line": {
           "color": "rgb(255,255,255)",
           "width": 2
          }
         },
         "type": "choropleth",
         "uid": "4e37c99a-d094-11e8-8d02-f496347d3ff1",
         "z": [
          87914,
          74481,
          63865,
          34894,
          34301,
          23132,
          20728,
          19374,
          17321,
          16201,
          15993,
          15826,
          15334,
          14306,
          7721,
          4983,
          4483,
          3975,
          3783,
          3484,
          3314,
          2919,
          2409,
          2020,
          2008,
          1888,
          1765,
          1690,
          1663,
          1572,
          1452,
          1350,
          1304,
          1057,
          987,
          876,
          866,
          785,
          753,
          556,
          536,
          486,
          430,
          384,
          327,
          303,
          271,
          257,
          244,
          219,
          181,
          91,
          84,
          62,
          52,
          1
         ]
        }
       ],
       "layout": {
        "geo": {
         "lakecolor": "rgb(255, 255, 255)",
         "projection": {
          "type": "albers usa"
         },
         "scope": "usa",
         "showlakes": true
        },
        "title": "2011-2018 H1B VISA APPLICATIONS ( EMPLOYER STATE)"
       }
      },
      "text/html": [
       "<div id=\"701a2f00-4650-4e98-a039-6df082086d33\" style=\"height: 525px; width: 100%;\" class=\"plotly-graph-div\"></div><script type=\"text/javascript\">require([\"plotly\"], function(Plotly) { window.PLOTLYENV=window.PLOTLYENV || {};window.PLOTLYENV.BASE_URL=\"https://plot.ly\";Plotly.newPlot(\"701a2f00-4650-4e98-a039-6df082086d33\", [{\"colorbar\": {\"title\": \"Number of applications\"}, \"locationmode\": \"USA-states\", \"locations\": [\"CA\", \"TX\", \"NJ\", \"NY\", \"IL\", \"MI\", \"PA\", \"MA\", \"MD\", \"VA\", \"FL\", \"NC\", \"WA\", \"GA\", \"OH\", \"CT\", \"MO\", \"MN\", \"TN\", \"AZ\", \"CO\", \"WI\", \"IN\", \"KY\", \"DE\", \"AR\", \"IA\", \"UT\", \"DC\", \"KS\", \"NE\", \"OR\", \"SC\", \"LA\", \"AL\", \"NH\", \"RI\", \"OK\", \"NV\", \"PR\", \"ID\", \"NM\", \"MS\", \"ME\", \"VT\", \"WV\", \"HI\", \"MP\", \"ND\", \"GU\", \"SD\", \"MT\", \"WY\", \"AK\", \"VI\", \"AS\"], \"marker\": {\"line\": {\"color\": \"rgb(255,255,255)\", \"width\": 2}}, \"z\": [87914, 74481, 63865, 34894, 34301, 23132, 20728, 19374, 17321, 16201, 15993, 15826, 15334, 14306, 7721, 4983, 4483, 3975, 3783, 3484, 3314, 2919, 2409, 2020, 2008, 1888, 1765, 1690, 1663, 1572, 1452, 1350, 1304, 1057, 987, 876, 866, 785, 753, 556, 536, 486, 430, 384, 327, 303, 271, 257, 244, 219, 181, 91, 84, 62, 52, 1], \"type\": \"choropleth\", \"uid\": \"4e3d573e-d094-11e8-9edc-f496347d3ff1\"}], {\"geo\": {\"lakecolor\": \"rgb(255, 255, 255)\", \"projection\": {\"type\": \"albers usa\"}, \"scope\": \"usa\", \"showlakes\": true}, \"title\": \"2011-2018 H1B VISA APPLICATIONS ( EMPLOYER STATE)\"}, {\"showLink\": true, \"linkText\": \"Export to plot.ly\"})});</script>"
      ],
      "text/vnd.plotly.v1+html": [
       "<div id=\"701a2f00-4650-4e98-a039-6df082086d33\" style=\"height: 525px; width: 100%;\" class=\"plotly-graph-div\"></div><script type=\"text/javascript\">require([\"plotly\"], function(Plotly) { window.PLOTLYENV=window.PLOTLYENV || {};window.PLOTLYENV.BASE_URL=\"https://plot.ly\";Plotly.newPlot(\"701a2f00-4650-4e98-a039-6df082086d33\", [{\"colorbar\": {\"title\": \"Number of applications\"}, \"locationmode\": \"USA-states\", \"locations\": [\"CA\", \"TX\", \"NJ\", \"NY\", \"IL\", \"MI\", \"PA\", \"MA\", \"MD\", \"VA\", \"FL\", \"NC\", \"WA\", \"GA\", \"OH\", \"CT\", \"MO\", \"MN\", \"TN\", \"AZ\", \"CO\", \"WI\", \"IN\", \"KY\", \"DE\", \"AR\", \"IA\", \"UT\", \"DC\", \"KS\", \"NE\", \"OR\", \"SC\", \"LA\", \"AL\", \"NH\", \"RI\", \"OK\", \"NV\", \"PR\", \"ID\", \"NM\", \"MS\", \"ME\", \"VT\", \"WV\", \"HI\", \"MP\", \"ND\", \"GU\", \"SD\", \"MT\", \"WY\", \"AK\", \"VI\", \"AS\"], \"marker\": {\"line\": {\"color\": \"rgb(255,255,255)\", \"width\": 2}}, \"z\": [87914, 74481, 63865, 34894, 34301, 23132, 20728, 19374, 17321, 16201, 15993, 15826, 15334, 14306, 7721, 4983, 4483, 3975, 3783, 3484, 3314, 2919, 2409, 2020, 2008, 1888, 1765, 1690, 1663, 1572, 1452, 1350, 1304, 1057, 987, 876, 866, 785, 753, 556, 536, 486, 430, 384, 327, 303, 271, 257, 244, 219, 181, 91, 84, 62, 52, 1], \"type\": \"choropleth\", \"uid\": \"4e3d573e-d094-11e8-9edc-f496347d3ff1\"}], {\"geo\": {\"lakecolor\": \"rgb(255, 255, 255)\", \"projection\": {\"type\": \"albers usa\"}, \"scope\": \"usa\", \"showlakes\": true}, \"title\": \"2011-2018 H1B VISA APPLICATIONS ( EMPLOYER STATE)\"}, {\"showLink\": true, \"linkText\": \"Export to plot.ly\"})});</script>"
      ]
     },
     "metadata": {},
     "output_type": "display_data"
    }
   ],
   "source": [
    "data=[dict(\n",
    "    type='choropleth',\n",
    "    locations = dfempst.EMPLOYER_STATE,\n",
    "    z = dfempst.countvar,\n",
    "    locationmode = 'USA-states',marker = dict(\n",
    "            line = dict (\n",
    "                color = 'rgb(255,255,255)',\n",
    "                width = 2\n",
    "            ) ),\n",
    "        colorbar = dict(\n",
    "            title = \"Number of applications\")\n",
    ")]\n",
    "layout= dict(title=\"2011-2018 H1B VISA APPLICATIONS ( EMPLOYER STATE)\",geo = dict(\n",
    "            scope='usa',\n",
    "            projection=dict( type='albers usa' ),\n",
    "            showlakes = True,\n",
    "            lakecolor = 'rgb(255, 255, 255)'),\n",
    "             )\n",
    "fig = dict( data=data, layout=layout )\n",
    "iplot(fig)"
   ]
  },
  {
   "cell_type": "markdown",
   "metadata": {},
   "source": [
    "## Top 20 Job titles"
   ]
  },
  {
   "cell_type": "code",
   "execution_count": 28,
   "metadata": {},
   "outputs": [],
   "source": [
    "dfjob = df.groupby('JOB_TITLE',as_index=False).count()[['JOB_TITLE','countvar']].sort_values('countvar',ascending=False)[0:20]"
   ]
  },
  {
   "cell_type": "code",
   "execution_count": 29,
   "metadata": {},
   "outputs": [
    {
     "data": {
      "application/vnd.plotly.v1+json": {
       "data": [
        {
         "name": "jobtitle",
         "type": "bar",
         "uid": "55a85c5c-d094-11e8-8ccb-f496347d3ff1",
         "x": [
          "PROGRAMMER ANALYST",
          "SOFTWARE ENGINEER",
          "SOFTWARE DEVELOPER",
          "SYSTEMS ANALYST",
          "COMPUTER PROGRAMMER",
          "BUSINESS ANALYST",
          "COMPUTER SYSTEMS ANALYST",
          "SENIOR SOFTWARE ENGINEER",
          "DEVELOPER",
          "ASSISTANT PROFESSOR",
          "PROJECT MANAGER",
          "CONSULTANT",
          "DEVELOPER USER INTERFACE",
          "ASSOCIATE",
          "ANALYST",
          "DATABASE ADMINISTRATOR",
          "SENIOR CONSULTANT",
          "PHYSICAL THERAPIST",
          "APPLICATION DEVELOPER",
          "TECHNOLOGY LEAD - US"
         ],
         "y": [
          41369,
          23562,
          13443,
          8899,
          6718,
          6417,
          5608,
          5499,
          4766,
          3927,
          3485,
          3152,
          2951,
          2892,
          2758,
          2594,
          2446,
          2236,
          2190,
          2169
         ]
        }
       ],
       "layout": {
        "title": "TOP 20 JOBS",
        "yaxis": {
         "title": "Num of applications"
        }
       }
      },
      "text/html": [
       "<div id=\"55197314-41ca-4d78-96d0-e931a8f6d44c\" style=\"height: 525px; width: 100%;\" class=\"plotly-graph-div\"></div><script type=\"text/javascript\">require([\"plotly\"], function(Plotly) { window.PLOTLYENV=window.PLOTLYENV || {};window.PLOTLYENV.BASE_URL=\"https://plot.ly\";\n",
       "        Plotly.plot(\n",
       "            '55197314-41ca-4d78-96d0-e931a8f6d44c',\n",
       "            [{\"name\": \"jobtitle\", \"x\": [\"PROGRAMMER ANALYST\", \"SOFTWARE ENGINEER\", \"SOFTWARE DEVELOPER\", \"SYSTEMS ANALYST\", \"COMPUTER PROGRAMMER\", \"BUSINESS ANALYST\", \"COMPUTER SYSTEMS ANALYST\", \"SENIOR SOFTWARE ENGINEER\", \"DEVELOPER\", \"ASSISTANT PROFESSOR\", \"PROJECT MANAGER\", \"CONSULTANT\", \"DEVELOPER USER INTERFACE\", \"ASSOCIATE\", \"ANALYST\", \"DATABASE ADMINISTRATOR\", \"SENIOR CONSULTANT\", \"PHYSICAL THERAPIST\", \"APPLICATION DEVELOPER\", \"TECHNOLOGY LEAD - US\"], \"y\": [41369.0, 23562.0, 13443.0, 8899.0, 6718.0, 6417.0, 5608.0, 5499.0, 4766.0, 3927.0, 3485.0, 3152.0, 2951.0, 2892.0, 2758.0, 2594.0, 2446.0, 2236.0, 2190.0, 2169.0], \"type\": \"bar\", \"uid\": \"55a85c5c-d094-11e8-8ccb-f496347d3ff1\"}],\n",
       "            {\"title\": \"TOP 20 JOBS\", \"yaxis\": {\"title\": \"Num of applications\"}},\n",
       "            {\"showLink\": true, \"linkText\": \"Export to plot.ly\"}\n",
       "        ).then(function () {return Plotly.addFrames('55197314-41ca-4d78-96d0-e931a8f6d44c',{});}).then(function(){Plotly.animate('55197314-41ca-4d78-96d0-e931a8f6d44c');})\n",
       "        });</script>"
      ],
      "text/vnd.plotly.v1+html": [
       "<div id=\"55197314-41ca-4d78-96d0-e931a8f6d44c\" style=\"height: 525px; width: 100%;\" class=\"plotly-graph-div\"></div><script type=\"text/javascript\">require([\"plotly\"], function(Plotly) { window.PLOTLYENV=window.PLOTLYENV || {};window.PLOTLYENV.BASE_URL=\"https://plot.ly\";\n",
       "        Plotly.plot(\n",
       "            '55197314-41ca-4d78-96d0-e931a8f6d44c',\n",
       "            [{\"name\": \"jobtitle\", \"x\": [\"PROGRAMMER ANALYST\", \"SOFTWARE ENGINEER\", \"SOFTWARE DEVELOPER\", \"SYSTEMS ANALYST\", \"COMPUTER PROGRAMMER\", \"BUSINESS ANALYST\", \"COMPUTER SYSTEMS ANALYST\", \"SENIOR SOFTWARE ENGINEER\", \"DEVELOPER\", \"ASSISTANT PROFESSOR\", \"PROJECT MANAGER\", \"CONSULTANT\", \"DEVELOPER USER INTERFACE\", \"ASSOCIATE\", \"ANALYST\", \"DATABASE ADMINISTRATOR\", \"SENIOR CONSULTANT\", \"PHYSICAL THERAPIST\", \"APPLICATION DEVELOPER\", \"TECHNOLOGY LEAD - US\"], \"y\": [41369.0, 23562.0, 13443.0, 8899.0, 6718.0, 6417.0, 5608.0, 5499.0, 4766.0, 3927.0, 3485.0, 3152.0, 2951.0, 2892.0, 2758.0, 2594.0, 2446.0, 2236.0, 2190.0, 2169.0], \"type\": \"bar\", \"uid\": \"55a85c5c-d094-11e8-8ccb-f496347d3ff1\"}],\n",
       "            {\"title\": \"TOP 20 JOBS\", \"yaxis\": {\"title\": \"Num of applications\"}},\n",
       "            {\"showLink\": true, \"linkText\": \"Export to plot.ly\"}\n",
       "        ).then(function () {return Plotly.addFrames('55197314-41ca-4d78-96d0-e931a8f6d44c',{});}).then(function(){Plotly.animate('55197314-41ca-4d78-96d0-e931a8f6d44c');})\n",
       "        });</script>"
      ]
     },
     "metadata": {},
     "output_type": "display_data"
    }
   ],
   "source": [
    "t1 = go.Bar(x=dfjob.JOB_TITLE.values,y=dfjob.countvar.values,name='jobtitle')\n",
    "layout = go.Layout(dict(title= \"TOP 20 JOBS\",yaxis=dict(title=\"Num of applications\")))\n",
    "data = [t1]\n",
    "fig =go.Figure(data,layout)\n",
    "iplot(fig)"
   ]
  },
  {
   "cell_type": "markdown",
   "metadata": {},
   "source": [
    "### Extracting the YEAR from the EMPLOYMENT_START_DATE."
   ]
  },
  {
   "cell_type": "code",
   "execution_count": 30,
   "metadata": {},
   "outputs": [],
   "source": [
    "df['year'] = df.EMPLOYMENT_START_DATE.apply(lambda x: x.year)"
   ]
  },
  {
   "cell_type": "markdown",
   "metadata": {},
   "source": [
    "#### Number of applications per year\n",
    "- As this the data upto 2017, the employment_start_date has only very few 2018 dates.\n",
    "- And of those few, some are removed during the process of dealing with missing values"
   ]
  },
  {
   "cell_type": "code",
   "execution_count": 31,
   "metadata": {},
   "outputs": [],
   "source": [
    "dfyear = df.groupby('year',as_index=False).count()[['year','countvar']]"
   ]
  },
  {
   "cell_type": "code",
   "execution_count": 32,
   "metadata": {},
   "outputs": [
    {
     "data": {
      "application/vnd.plotly.v1+json": {
       "data": [
        {
         "type": "scatter",
         "uid": "6305a2da-d094-11e8-9f0c-f496347d3ff1",
         "x": [
          2011,
          2012,
          2013,
          2014,
          2015,
          2016,
          2017,
          2018
         ],
         "y": [
          2,
          9,
          90,
          4444,
          7060,
          63637,
          442014,
          5
         ]
        }
       ],
       "layout": {
        "title": " NUMBER OF APPLICATIONS PER YEAR",
        "xaxis": {
         "title": "YEARS"
        },
        "yaxis": {
         "title": "Num of applications"
        }
       }
      },
      "text/html": [
       "<div id=\"2ef42810-a23d-4044-ab51-d6a9908dbc4e\" style=\"height: 525px; width: 100%;\" class=\"plotly-graph-div\"></div><script type=\"text/javascript\">require([\"plotly\"], function(Plotly) { window.PLOTLYENV=window.PLOTLYENV || {};window.PLOTLYENV.BASE_URL=\"https://plot.ly\";\n",
       "        Plotly.plot(\n",
       "            '2ef42810-a23d-4044-ab51-d6a9908dbc4e',\n",
       "            [{\"x\": [2011.0, 2012.0, 2013.0, 2014.0, 2015.0, 2016.0, 2017.0, 2018.0], \"y\": [2.0, 9.0, 90.0, 4444.0, 7060.0, 63637.0, 442014.0, 5.0], \"type\": \"scatter\", \"uid\": \"6305a2da-d094-11e8-9f0c-f496347d3ff1\"}],\n",
       "            {\"title\": \" NUMBER OF APPLICATIONS PER YEAR\", \"xaxis\": {\"title\": \"YEARS\"}, \"yaxis\": {\"title\": \"Num of applications\"}},\n",
       "            {\"showLink\": true, \"linkText\": \"Export to plot.ly\"}\n",
       "        ).then(function () {return Plotly.addFrames('2ef42810-a23d-4044-ab51-d6a9908dbc4e',{});}).then(function(){Plotly.animate('2ef42810-a23d-4044-ab51-d6a9908dbc4e');})\n",
       "        });</script>"
      ],
      "text/vnd.plotly.v1+html": [
       "<div id=\"2ef42810-a23d-4044-ab51-d6a9908dbc4e\" style=\"height: 525px; width: 100%;\" class=\"plotly-graph-div\"></div><script type=\"text/javascript\">require([\"plotly\"], function(Plotly) { window.PLOTLYENV=window.PLOTLYENV || {};window.PLOTLYENV.BASE_URL=\"https://plot.ly\";\n",
       "        Plotly.plot(\n",
       "            '2ef42810-a23d-4044-ab51-d6a9908dbc4e',\n",
       "            [{\"x\": [2011.0, 2012.0, 2013.0, 2014.0, 2015.0, 2016.0, 2017.0, 2018.0], \"y\": [2.0, 9.0, 90.0, 4444.0, 7060.0, 63637.0, 442014.0, 5.0], \"type\": \"scatter\", \"uid\": \"6305a2da-d094-11e8-9f0c-f496347d3ff1\"}],\n",
       "            {\"title\": \" NUMBER OF APPLICATIONS PER YEAR\", \"xaxis\": {\"title\": \"YEARS\"}, \"yaxis\": {\"title\": \"Num of applications\"}},\n",
       "            {\"showLink\": true, \"linkText\": \"Export to plot.ly\"}\n",
       "        ).then(function () {return Plotly.addFrames('2ef42810-a23d-4044-ab51-d6a9908dbc4e',{});}).then(function(){Plotly.animate('2ef42810-a23d-4044-ab51-d6a9908dbc4e');})\n",
       "        });</script>"
      ]
     },
     "metadata": {},
     "output_type": "display_data"
    }
   ],
   "source": [
    "t1 = go.Scatter(\n",
    "    x=dfyear.year,\n",
    "    y=dfyear.countvar\n",
    ")\n",
    "layout = go.Layout(dict(title= \" NUMBER OF APPLICATIONS PER YEAR\",xaxis=dict(title=\"YEARS\"),yaxis=dict(title=\"Num of applications\")))\n",
    "data = [t1]\n",
    "fig = go.Figure(data=data,layout=layout)\n",
    "iplot(fig)"
   ]
  },
  {
   "cell_type": "markdown",
   "metadata": {},
   "source": [
    "### Distribution of Case_Status column\n",
    "- A lot of them were certified. (Hope's alive :) )"
   ]
  },
  {
   "cell_type": "code",
   "execution_count": 33,
   "metadata": {},
   "outputs": [
    {
     "data": {
      "application/vnd.plotly.v1+json": {
       "data": [
        {
         "name": "CASESTATUSWISE",
         "type": "bar",
         "uid": "64f846b6-d094-11e8-9dff-f496347d3ff1",
         "x": [
          "CERTIFIED",
          "CERTIFIED-WITHDRAWN",
          "DENIED",
          "WITHDRAWN"
         ],
         "y": [
          452154,
          42694,
          6194,
          16219
         ]
        }
       ],
       "layout": {}
      },
      "text/html": [
       "<div id=\"1ce9d266-91e0-437e-984c-708a6380cd3a\" style=\"height: 525px; width: 100%;\" class=\"plotly-graph-div\"></div><script type=\"text/javascript\">require([\"plotly\"], function(Plotly) { window.PLOTLYENV=window.PLOTLYENV || {};window.PLOTLYENV.BASE_URL=\"https://plot.ly\";Plotly.newPlot(\"1ce9d266-91e0-437e-984c-708a6380cd3a\", [{\"name\": \"CASESTATUSWISE\", \"x\": [\"CERTIFIED\", \"CERTIFIED-WITHDRAWN\", \"DENIED\", \"WITHDRAWN\"], \"y\": [452154.0, 42694.0, 6194.0, 16219.0], \"type\": \"bar\", \"uid\": \"64fde800-d094-11e8-854d-f496347d3ff1\"}], {}, {\"showLink\": true, \"linkText\": \"Export to plot.ly\"})});</script>"
      ],
      "text/vnd.plotly.v1+html": [
       "<div id=\"1ce9d266-91e0-437e-984c-708a6380cd3a\" style=\"height: 525px; width: 100%;\" class=\"plotly-graph-div\"></div><script type=\"text/javascript\">require([\"plotly\"], function(Plotly) { window.PLOTLYENV=window.PLOTLYENV || {};window.PLOTLYENV.BASE_URL=\"https://plot.ly\";Plotly.newPlot(\"1ce9d266-91e0-437e-984c-708a6380cd3a\", [{\"name\": \"CASESTATUSWISE\", \"x\": [\"CERTIFIED\", \"CERTIFIED-WITHDRAWN\", \"DENIED\", \"WITHDRAWN\"], \"y\": [452154.0, 42694.0, 6194.0, 16219.0], \"type\": \"bar\", \"uid\": \"64fde800-d094-11e8-854d-f496347d3ff1\"}], {}, {\"showLink\": true, \"linkText\": \"Export to plot.ly\"})});</script>"
      ]
     },
     "metadata": {},
     "output_type": "display_data"
    }
   ],
   "source": [
    "t1 = go.Bar(x=df.groupby('CASE_STATUS').count().index,y=df.groupby('CASE_STATUS').count()['countvar'],name='CASESTATUSWISE')\n",
    "data = [t1]\n",
    "iplot(data)"
   ]
  },
  {
   "cell_type": "markdown",
   "metadata": {},
   "source": [
    "### Distribution of Case_Status column/ Full_Time position"
   ]
  },
  {
   "cell_type": "code",
   "execution_count": 34,
   "metadata": {},
   "outputs": [
    {
     "data": {
      "application/vnd.plotly.v1+json": {
       "data": [
        {
         "name": "FULL-TIME ",
         "type": "bar",
         "uid": "686b9c54-d094-11e8-8e8c-f496347d3ff1",
         "x": [
          "CERTIFIED",
          "CERTIFIED-WITHDRAWN",
          "DENIED",
          "WITHDRAWN"
         ],
         "y": [
          441734,
          42152,
          5871,
          15704
         ]
        },
        {
         "name": "PART-TIME ",
         "type": "bar",
         "uid": "686b9c55-d094-11e8-aebb-f496347d3ff1",
         "x": [
          "CERTIFIED",
          "CERTIFIED-WITHDRAWN",
          "DENIED",
          "WITHDRAWN"
         ],
         "y": [
          10420,
          542,
          323,
          515
         ]
        }
       ],
       "layout": {
        "barmode": "stack"
       }
      },
      "text/html": [
       "<div id=\"c166528b-30e4-4d9f-9bf2-7dbdc8185293\" style=\"height: 525px; width: 100%;\" class=\"plotly-graph-div\"></div><script type=\"text/javascript\">require([\"plotly\"], function(Plotly) { window.PLOTLYENV=window.PLOTLYENV || {};window.PLOTLYENV.BASE_URL=\"https://plot.ly\";\n",
       "        Plotly.plot(\n",
       "            'c166528b-30e4-4d9f-9bf2-7dbdc8185293',\n",
       "            [{\"name\": \"FULL-TIME \", \"x\": [\"CERTIFIED\", \"CERTIFIED-WITHDRAWN\", \"DENIED\", \"WITHDRAWN\"], \"y\": [441734.0, 42152.0, 5871.0, 15704.0], \"type\": \"bar\", \"uid\": \"686b9c54-d094-11e8-8e8c-f496347d3ff1\"}, {\"name\": \"PART-TIME \", \"x\": [\"CERTIFIED\", \"CERTIFIED-WITHDRAWN\", \"DENIED\", \"WITHDRAWN\"], \"y\": [10420.0, 542.0, 323.0, 515.0], \"type\": \"bar\", \"uid\": \"686b9c55-d094-11e8-aebb-f496347d3ff1\"}],\n",
       "            {\"barmode\": \"stack\"},\n",
       "            {\"showLink\": true, \"linkText\": \"Export to plot.ly\"}\n",
       "        ).then(function () {return Plotly.addFrames('c166528b-30e4-4d9f-9bf2-7dbdc8185293',{});}).then(function(){Plotly.animate('c166528b-30e4-4d9f-9bf2-7dbdc8185293');})\n",
       "        });</script>"
      ],
      "text/vnd.plotly.v1+html": [
       "<div id=\"c166528b-30e4-4d9f-9bf2-7dbdc8185293\" style=\"height: 525px; width: 100%;\" class=\"plotly-graph-div\"></div><script type=\"text/javascript\">require([\"plotly\"], function(Plotly) { window.PLOTLYENV=window.PLOTLYENV || {};window.PLOTLYENV.BASE_URL=\"https://plot.ly\";\n",
       "        Plotly.plot(\n",
       "            'c166528b-30e4-4d9f-9bf2-7dbdc8185293',\n",
       "            [{\"name\": \"FULL-TIME \", \"x\": [\"CERTIFIED\", \"CERTIFIED-WITHDRAWN\", \"DENIED\", \"WITHDRAWN\"], \"y\": [441734.0, 42152.0, 5871.0, 15704.0], \"type\": \"bar\", \"uid\": \"686b9c54-d094-11e8-8e8c-f496347d3ff1\"}, {\"name\": \"PART-TIME \", \"x\": [\"CERTIFIED\", \"CERTIFIED-WITHDRAWN\", \"DENIED\", \"WITHDRAWN\"], \"y\": [10420.0, 542.0, 323.0, 515.0], \"type\": \"bar\", \"uid\": \"686b9c55-d094-11e8-aebb-f496347d3ff1\"}],\n",
       "            {\"barmode\": \"stack\"},\n",
       "            {\"showLink\": true, \"linkText\": \"Export to plot.ly\"}\n",
       "        ).then(function () {return Plotly.addFrames('c166528b-30e4-4d9f-9bf2-7dbdc8185293',{});}).then(function(){Plotly.animate('c166528b-30e4-4d9f-9bf2-7dbdc8185293');})\n",
       "        });</script>"
      ]
     },
     "metadata": {},
     "output_type": "display_data"
    }
   ],
   "source": [
    "t1 = go.Bar(x=df[df.FULL_TIME_POSITION == 'Y'].groupby('CASE_STATUS').count().index,y=df[df.FULL_TIME_POSITION == 'Y'].groupby('CASE_STATUS').count()['countvar'],name='FULL-TIME ')\n",
    "t2 = go.Bar(x=df[df.FULL_TIME_POSITION == 'N'].groupby('CASE_STATUS').count().index,y=df[df.FULL_TIME_POSITION == 'N'].groupby('CASE_STATUS').count()['countvar'],name='PART-TIME ')\n",
    "data = [t1,t2]\n",
    "layout = go.Layout(barmode='stack')\n",
    "fig = go.Figure(data =data,layout =layout)\n",
    "iplot(fig)"
   ]
  },
  {
   "cell_type": "markdown",
   "metadata": {},
   "source": [
    "## Dealing with outliers in Pay scale.\n",
    "- In the below code, see the difference between the 75th percentile and the max value, that huge difference clearly indicates the presence of outliers.\n",
    "- The min has value of 0, which is obviously false. ( No one works for free)"
   ]
  },
  {
   "cell_type": "code",
   "execution_count": 35,
   "metadata": {},
   "outputs": [
    {
     "data": {
      "text/plain": [
       "count    5.172610e+05\n",
       "mean     7.195111e+04\n",
       "std      2.825538e+05\n",
       "min      0.000000e+00\n",
       "25%      5.591000e+04\n",
       "50%      6.882700e+04\n",
       "75%      8.669400e+04\n",
       "max      2.016227e+08\n",
       "Name: PREVAILING_WAGE, dtype: float64"
      ]
     },
     "execution_count": 35,
     "metadata": {},
     "output_type": "execute_result"
    }
   ],
   "source": [
    "df.PREVAILING_WAGE.describe()"
   ]
  },
  {
   "cell_type": "code",
   "execution_count": 36,
   "metadata": {},
   "outputs": [
    {
     "data": {
      "text/plain": [
       "Year    485257\n",
       "Hour     32004\n",
       "Name: PW_UNIT_OF_PAY, dtype: int64"
      ]
     },
     "execution_count": 36,
     "metadata": {},
     "output_type": "execute_result"
    }
   ],
   "source": [
    "df.PW_UNIT_OF_PAY.value_counts()"
   ]
  },
  {
   "cell_type": "markdown",
   "metadata": {},
   "source": [
    "### My knowledge about H1B\n",
    "- The full time H1B employees have a minimum salary of 65k now, as we have data fromm 2011 I'm setting the minimum salary to be 40K.\n",
    "- There is no limit for maximum salary. But, any package above 200K is skeptical. But, considering the Doctors in mind. I will chose the cutoff for 270K."
   ]
  },
  {
   "cell_type": "code",
   "execution_count": 37,
   "metadata": {
    "scrolled": true
   },
   "outputs": [],
   "source": [
    "dum = df[(df.FULL_TIME_POSITION == 'Y') & (df.PW_UNIT_OF_PAY == 'Year')]\n",
    "ind1 = dum[(dum.PREVAILING_WAGE > 270000) | (dum.PREVAILING_WAGE < 40000)].index\n",
    "df = df.drop(ind1,axis=0)"
   ]
  },
  {
   "cell_type": "markdown",
   "metadata": {},
   "source": [
    "- The partime employees might have a minimum salary of 30K-32K(in 2011) and maximum couldnt be more than 150K"
   ]
  },
  {
   "cell_type": "code",
   "execution_count": 38,
   "metadata": {},
   "outputs": [],
   "source": [
    "dum = df[(df.FULL_TIME_POSITION == 'N') & (df.PW_UNIT_OF_PAY == 'Year')]\n",
    "ind1 = dum[(dum.PREVAILING_WAGE > 150000) | (dum.PREVAILING_WAGE < 32000)].index\n",
    "df = df.drop(ind1,axis=0)"
   ]
  },
  {
   "cell_type": "markdown",
   "metadata": {},
   "source": [
    "#### Hourly Pay\n",
    "- The minimum hourly salary should atleast 15. I cant imagine less than 15 cuz gas stations pay 10-12/hour\n",
    "- the maximum salary may be around 110/hour.(Purely my guess)"
   ]
  },
  {
   "cell_type": "code",
   "execution_count": 39,
   "metadata": {},
   "outputs": [],
   "source": [
    "dum = df[(df.PW_UNIT_OF_PAY == 'Hour')]\n",
    "ind1 = dum[(dum.PREVAILING_WAGE > 110) | (dum.PREVAILING_WAGE < 15)].index\n",
    "df = df.drop(ind1,axis=0)"
   ]
  },
  {
   "cell_type": "markdown",
   "metadata": {},
   "source": [
    "### Converting the hourly pay to annual pay.\n",
    "- FULL_TIMERS: As they work 40hours a week and we have 48 weeks in a year, we multiply with 40*48\n",
    "- PART_TIMERS: As they work something around 25-35 hours a week, let me take the average of 30 hours a week,So we multiply with 30*48."
   ]
  },
  {
   "cell_type": "code",
   "execution_count": 40,
   "metadata": {},
   "outputs": [],
   "source": [
    "k = df[(df.PW_UNIT_OF_PAY == 'Hour') & (df.FULL_TIME_POSITION == 'Y')].index\n",
    "df.loc[k,'PREVAILING_WAGE'] = df.loc[k,'PREVAILING_WAGE'] * 1920"
   ]
  },
  {
   "cell_type": "code",
   "execution_count": 41,
   "metadata": {},
   "outputs": [],
   "source": [
    "k = df[(df.PW_UNIT_OF_PAY == 'Hour') & (df.FULL_TIME_POSITION == 'N')].index\n",
    "df.loc[k,'PREVAILING_WAGE'] = df.loc[k,'PREVAILING_WAGE'] * 1440"
   ]
  },
  {
   "cell_type": "markdown",
   "metadata": {},
   "source": [
    "#### As, we now have all data in year pay scale. We go ahead and remove PW_UNIT_PAY"
   ]
  },
  {
   "cell_type": "code",
   "execution_count": 42,
   "metadata": {},
   "outputs": [],
   "source": [
    "df=df.drop(['PW_UNIT_OF_PAY'],axis=1)"
   ]
  },
  {
   "cell_type": "markdown",
   "metadata": {},
   "source": [
    "### Average Annual pay of each year from 2011-2018"
   ]
  },
  {
   "cell_type": "code",
   "execution_count": 45,
   "metadata": {},
   "outputs": [
    {
     "data": {
      "application/vnd.plotly.v1+json": {
       "data": [
        {
         "type": "scatter",
         "uid": "9a24d0dc-d094-11e8-8ca2-f496347d3ff1",
         "x": [
          2011,
          2012,
          2013,
          2014,
          2015,
          2016,
          2017,
          2018
         ],
         "y": [
          60892,
          71645.5,
          74630.46511627907,
          72946.36989741081,
          73936.58963758385,
          77475.89522659991,
          75821.74770054547,
          101611.6
         ]
        }
       ],
       "layout": {
        "title": " AVERAGE ANNUAL PAY vs YEAR",
        "xaxis": {
         "title": "YEARS"
        },
        "yaxis": {
         "title": "AVERAGE ANNUAL PAY"
        }
       }
      },
      "text/html": [
       "<div id=\"89f1ceb0-237e-41c6-9d11-f06bdf22ffcd\" style=\"height: 525px; width: 100%;\" class=\"plotly-graph-div\"></div><script type=\"text/javascript\">require([\"plotly\"], function(Plotly) { window.PLOTLYENV=window.PLOTLYENV || {};window.PLOTLYENV.BASE_URL=\"https://plot.ly\";\n",
       "        Plotly.plot(\n",
       "            '89f1ceb0-237e-41c6-9d11-f06bdf22ffcd',\n",
       "            [{\"x\": [2011.0, 2012.0, 2013.0, 2014.0, 2015.0, 2016.0, 2017.0, 2018.0], \"y\": [60892.0, 71645.5, 74630.46511627907, 72946.36989741081, 73936.58963758385, 77475.89522659991, 75821.74770054547, 101611.6], \"type\": \"scatter\", \"uid\": \"9a24d0dc-d094-11e8-8ca2-f496347d3ff1\"}],\n",
       "            {\"title\": \" AVERAGE ANNUAL PAY vs YEAR\", \"xaxis\": {\"title\": \"YEARS\"}, \"yaxis\": {\"title\": \"AVERAGE ANNUAL PAY\"}},\n",
       "            {\"showLink\": true, \"linkText\": \"Export to plot.ly\"}\n",
       "        ).then(function () {return Plotly.addFrames('89f1ceb0-237e-41c6-9d11-f06bdf22ffcd',{});}).then(function(){Plotly.animate('89f1ceb0-237e-41c6-9d11-f06bdf22ffcd');})\n",
       "        });</script>"
      ],
      "text/vnd.plotly.v1+html": [
       "<div id=\"89f1ceb0-237e-41c6-9d11-f06bdf22ffcd\" style=\"height: 525px; width: 100%;\" class=\"plotly-graph-div\"></div><script type=\"text/javascript\">require([\"plotly\"], function(Plotly) { window.PLOTLYENV=window.PLOTLYENV || {};window.PLOTLYENV.BASE_URL=\"https://plot.ly\";\n",
       "        Plotly.plot(\n",
       "            '89f1ceb0-237e-41c6-9d11-f06bdf22ffcd',\n",
       "            [{\"x\": [2011.0, 2012.0, 2013.0, 2014.0, 2015.0, 2016.0, 2017.0, 2018.0], \"y\": [60892.0, 71645.5, 74630.46511627907, 72946.36989741081, 73936.58963758385, 77475.89522659991, 75821.74770054547, 101611.6], \"type\": \"scatter\", \"uid\": \"9a24d0dc-d094-11e8-8ca2-f496347d3ff1\"}],\n",
       "            {\"title\": \" AVERAGE ANNUAL PAY vs YEAR\", \"xaxis\": {\"title\": \"YEARS\"}, \"yaxis\": {\"title\": \"AVERAGE ANNUAL PAY\"}},\n",
       "            {\"showLink\": true, \"linkText\": \"Export to plot.ly\"}\n",
       "        ).then(function () {return Plotly.addFrames('89f1ceb0-237e-41c6-9d11-f06bdf22ffcd',{});}).then(function(){Plotly.animate('89f1ceb0-237e-41c6-9d11-f06bdf22ffcd');})\n",
       "        });</script>"
      ]
     },
     "metadata": {},
     "output_type": "display_data"
    }
   ],
   "source": [
    "t1 = go.Scatter(\n",
    "    x=df.groupby('year').mean().index,\n",
    "    y=df.groupby('year').mean().PREVAILING_WAGE\n",
    ")\n",
    "\n",
    "layout = go.Layout(dict(title= \" AVERAGE ANNUAL PAY vs YEAR\",xaxis=dict(title=\"YEARS\"),yaxis=dict(title=\"AVERAGE ANNUAL PAY\")))\n",
    "data = [t1]\n",
    "fig = go.Figure(data=data,layout=layout)\n",
    "iplot(fig)"
   ]
  },
  {
   "cell_type": "markdown",
   "metadata": {},
   "source": [
    "### HOTTEST JOB IN EVERY STATE\n",
    "#### - In the plot below hover around the states in map to know more."
   ]
  },
  {
   "cell_type": "code",
   "execution_count": 46,
   "metadata": {},
   "outputs": [],
   "source": [
    "dum = df[[\"EMPLOYER_STATE\",\"JOB_TITLE\"]]\n",
    "dum = dum.groupby([\"EMPLOYER_STATE\",\"JOB_TITLE\"]).size().reset_index()\n",
    "dum.columns = ['EMPLOYER_STATE', 'JOB_TITLE', \"COUNT\"]\n",
    "dum = dum.groupby(['EMPLOYER_STATE', 'JOB_TITLE']).agg({'COUNT':sum})\n",
    "dum = dum['COUNT'].groupby(level=0, group_keys=False)\n",
    "dum = dum.apply(lambda x: x.sort_values(ascending=False).head(1))\n",
    "dum = pd.DataFrame(dum).reset_index()"
   ]
  },
  {
   "cell_type": "code",
   "execution_count": 47,
   "metadata": {},
   "outputs": [
    {
     "data": {
      "application/vnd.plotly.v1+json": {
       "data": [
        {
         "colorbar": {
          "title": "Number of application"
         },
         "locationmode": "USA-states",
         "locations": [
          "AK",
          "AL",
          "AR",
          "AS",
          "AZ",
          "CA",
          "CO",
          "CT",
          "DC",
          "DE",
          "FL",
          "GA",
          "GU",
          "HI",
          "IA",
          "ID",
          "IL",
          "IN",
          "KS",
          "KY",
          "LA",
          "MA",
          "MD",
          "ME",
          "MI",
          "MN",
          "MO",
          "MP",
          "MS",
          "MT",
          "NC",
          "ND",
          "NE",
          "NH",
          "NJ",
          "NM",
          "NV",
          "NY",
          "OH",
          "OK",
          "OR",
          "PA",
          "PR",
          "RI",
          "SC",
          "SD",
          "TN",
          "TX",
          "UT",
          "VA",
          "VI",
          "VT",
          "WA",
          "WI",
          "WV",
          "WY"
         ],
         "marker": {
          "line": {
           "color": "rgb(255,255,255)",
           "width": 2
          }
         },
         "text": [
          "MEDICAL TECHNOLOGIST",
          "ASSISTANT PROFESSOR",
          "PROGRAMMER ANALYST",
          "ASSOCIATE VETERINARIAN",
          "SOFTWARE ENGINEER",
          "SOFTWARE ENGINEER",
          "PROGRAMMER ANALYST",
          "PROGRAMMER ANALYST",
          "SOFTWARE DEVELOPER",
          "PROGRAMMER ANALYST",
          "SOFTWARE DEVELOPER",
          "PROGRAMMER ANALYST",
          "MECHANICAL ENGINEER",
          "ASSISTANT PROFESSOR",
          "SOFTWARE ENGINEER",
          "SOFTWARE ENGINEER",
          "PROGRAMMER ANALYST",
          "ASSISTANT PROFESSOR",
          "PROGRAMMER ANALYST",
          "PROGRAMMER ANALYST",
          "SOFTWARE ENGINEER",
          "PROGRAMMER ANALYST",
          "DEVELOPER",
          "POSTDOCTORAL ASSOCIATE",
          "PROGRAMMER ANALYST",
          "SOFTWARE ENGINEER",
          "SOFTWARE ENGINEER",
          "CIVIL ENGINEER",
          "ASSISTANT PROFESSOR",
          "PULMONOLOGIST",
          "APPLICATION DEVELOPER",
          "MEDICAL TECHNOLOGIST",
          "SOFTWARE DEVELOPER",
          "PROGRAMMER ANALYST",
          "PROGRAMMER ANALYST",
          "SOFTWARE DEVELOPER",
          "SOFTWARE ENGINEER",
          "ASSOCIATE",
          "PROGRAMMER ANALYST",
          "ASSISTANT PROFESSOR",
          "ASSISTANT PROFESSOR",
          "SENIOR CONSULTANT",
          "PROGRAMMER ANALYST",
          "PHARMACY MANAGER",
          "PROGRAMMER ANALYST",
          "SR. COMPUTER SYSTEMS ANALYST",
          "PROGRAMMER ANALYST",
          "PROGRAMMER ANALYST",
          "SOFTWARE DEVELOPER",
          "PROGRAMMER ANALYST",
          "MARKET RESEARCH ANALYST",
          "SOFTWARE ENGINEER",
          "SOFTWARE ENGINEER",
          "SOFTWARE ENGINEER",
          "ASSISTANT PROFESSOR",
          "ASSISTANT PROFESSOR"
         ],
         "type": "choropleth",
         "uid": "9c66ddb4-d094-11e8-8a5b-f496347d3ff1",
         "z": [
          6,
          118,
          215,
          1,
          239,
          6748,
          96,
          428,
          34,
          308,
          919,
          1868,
          13,
          24,
          179,
          7,
          2014,
          82,
          163,
          335,
          54,
          889,
          3992,
          15,
          5948,
          195,
          818,
          5,
          73,
          4,
          1185,
          19,
          123,
          110,
          11168,
          24,
          23,
          1214,
          484,
          70,
          57,
          1443,
          153,
          59,
          189,
          10,
          107,
          6215,
          186,
          1973,
          7,
          91,
          1570,
          112,
          57,
          9
         ]
        }
       ],
       "layout": {
        "geo": {
         "lakecolor": "rgb(255, 255, 255)",
         "projection": {
          "type": "albers usa"
         },
         "scope": "usa",
         "showlakes": true
        },
        "title": "Top job title in the state"
       }
      },
      "text/html": [
       "<div id=\"5461bdf9-15aa-4906-a22e-57143abae8ed\" style=\"height: 525px; width: 100%;\" class=\"plotly-graph-div\"></div><script type=\"text/javascript\">require([\"plotly\"], function(Plotly) { window.PLOTLYENV=window.PLOTLYENV || {};window.PLOTLYENV.BASE_URL=\"https://plot.ly\";Plotly.newPlot(\"5461bdf9-15aa-4906-a22e-57143abae8ed\", [{\"colorbar\": {\"title\": \"Number of application\"}, \"locationmode\": \"USA-states\", \"locations\": [\"AK\", \"AL\", \"AR\", \"AS\", \"AZ\", \"CA\", \"CO\", \"CT\", \"DC\", \"DE\", \"FL\", \"GA\", \"GU\", \"HI\", \"IA\", \"ID\", \"IL\", \"IN\", \"KS\", \"KY\", \"LA\", \"MA\", \"MD\", \"ME\", \"MI\", \"MN\", \"MO\", \"MP\", \"MS\", \"MT\", \"NC\", \"ND\", \"NE\", \"NH\", \"NJ\", \"NM\", \"NV\", \"NY\", \"OH\", \"OK\", \"OR\", \"PA\", \"PR\", \"RI\", \"SC\", \"SD\", \"TN\", \"TX\", \"UT\", \"VA\", \"VI\", \"VT\", \"WA\", \"WI\", \"WV\", \"WY\"], \"marker\": {\"line\": {\"color\": \"rgb(255,255,255)\", \"width\": 2}}, \"text\": [\"MEDICAL TECHNOLOGIST\", \"ASSISTANT PROFESSOR\", \"PROGRAMMER ANALYST\", \"ASSOCIATE VETERINARIAN\", \"SOFTWARE ENGINEER\", \"SOFTWARE ENGINEER\", \"PROGRAMMER ANALYST\", \"PROGRAMMER ANALYST\", \"SOFTWARE DEVELOPER\", \"PROGRAMMER ANALYST\", \"SOFTWARE DEVELOPER\", \"PROGRAMMER ANALYST\", \"MECHANICAL ENGINEER\", \"ASSISTANT PROFESSOR\", \"SOFTWARE ENGINEER\", \"SOFTWARE ENGINEER\", \"PROGRAMMER ANALYST\", \"ASSISTANT PROFESSOR\", \"PROGRAMMER ANALYST\", \"PROGRAMMER ANALYST\", \"SOFTWARE ENGINEER\", \"PROGRAMMER ANALYST\", \"DEVELOPER\", \"POSTDOCTORAL ASSOCIATE\", \"PROGRAMMER ANALYST\", \"SOFTWARE ENGINEER\", \"SOFTWARE ENGINEER\", \"CIVIL ENGINEER\", \"ASSISTANT PROFESSOR\", \"PULMONOLOGIST\", \"APPLICATION DEVELOPER\", \"MEDICAL TECHNOLOGIST\", \"SOFTWARE DEVELOPER\", \"PROGRAMMER ANALYST\", \"PROGRAMMER ANALYST\", \"SOFTWARE DEVELOPER\", \"SOFTWARE ENGINEER\", \"ASSOCIATE\", \"PROGRAMMER ANALYST\", \"ASSISTANT PROFESSOR\", \"ASSISTANT PROFESSOR\", \"SENIOR CONSULTANT\", \"PROGRAMMER ANALYST\", \"PHARMACY MANAGER\", \"PROGRAMMER ANALYST\", \"SR. COMPUTER SYSTEMS ANALYST\", \"PROGRAMMER ANALYST\", \"PROGRAMMER ANALYST\", \"SOFTWARE DEVELOPER\", \"PROGRAMMER ANALYST\", \"MARKET RESEARCH ANALYST\", \"SOFTWARE ENGINEER\", \"SOFTWARE ENGINEER\", \"SOFTWARE ENGINEER\", \"ASSISTANT PROFESSOR\", \"ASSISTANT PROFESSOR\"], \"z\": [6, 118, 215, 1, 239, 6748, 96, 428, 34, 308, 919, 1868, 13, 24, 179, 7, 2014, 82, 163, 335, 54, 889, 3992, 15, 5948, 195, 818, 5, 73, 4, 1185, 19, 123, 110, 11168, 24, 23, 1214, 484, 70, 57, 1443, 153, 59, 189, 10, 107, 6215, 186, 1973, 7, 91, 1570, 112, 57, 9], \"type\": \"choropleth\", \"uid\": \"9c6ca4b8-d094-11e8-ae45-f496347d3ff1\"}], {\"geo\": {\"lakecolor\": \"rgb(255, 255, 255)\", \"projection\": {\"type\": \"albers usa\"}, \"scope\": \"usa\", \"showlakes\": true}, \"title\": \"Top job title in the state\"}, {\"showLink\": true, \"linkText\": \"Export to plot.ly\"})});</script>"
      ],
      "text/vnd.plotly.v1+html": [
       "<div id=\"5461bdf9-15aa-4906-a22e-57143abae8ed\" style=\"height: 525px; width: 100%;\" class=\"plotly-graph-div\"></div><script type=\"text/javascript\">require([\"plotly\"], function(Plotly) { window.PLOTLYENV=window.PLOTLYENV || {};window.PLOTLYENV.BASE_URL=\"https://plot.ly\";Plotly.newPlot(\"5461bdf9-15aa-4906-a22e-57143abae8ed\", [{\"colorbar\": {\"title\": \"Number of application\"}, \"locationmode\": \"USA-states\", \"locations\": [\"AK\", \"AL\", \"AR\", \"AS\", \"AZ\", \"CA\", \"CO\", \"CT\", \"DC\", \"DE\", \"FL\", \"GA\", \"GU\", \"HI\", \"IA\", \"ID\", \"IL\", \"IN\", \"KS\", \"KY\", \"LA\", \"MA\", \"MD\", \"ME\", \"MI\", \"MN\", \"MO\", \"MP\", \"MS\", \"MT\", \"NC\", \"ND\", \"NE\", \"NH\", \"NJ\", \"NM\", \"NV\", \"NY\", \"OH\", \"OK\", \"OR\", \"PA\", \"PR\", \"RI\", \"SC\", \"SD\", \"TN\", \"TX\", \"UT\", \"VA\", \"VI\", \"VT\", \"WA\", \"WI\", \"WV\", \"WY\"], \"marker\": {\"line\": {\"color\": \"rgb(255,255,255)\", \"width\": 2}}, \"text\": [\"MEDICAL TECHNOLOGIST\", \"ASSISTANT PROFESSOR\", \"PROGRAMMER ANALYST\", \"ASSOCIATE VETERINARIAN\", \"SOFTWARE ENGINEER\", \"SOFTWARE ENGINEER\", \"PROGRAMMER ANALYST\", \"PROGRAMMER ANALYST\", \"SOFTWARE DEVELOPER\", \"PROGRAMMER ANALYST\", \"SOFTWARE DEVELOPER\", \"PROGRAMMER ANALYST\", \"MECHANICAL ENGINEER\", \"ASSISTANT PROFESSOR\", \"SOFTWARE ENGINEER\", \"SOFTWARE ENGINEER\", \"PROGRAMMER ANALYST\", \"ASSISTANT PROFESSOR\", \"PROGRAMMER ANALYST\", \"PROGRAMMER ANALYST\", \"SOFTWARE ENGINEER\", \"PROGRAMMER ANALYST\", \"DEVELOPER\", \"POSTDOCTORAL ASSOCIATE\", \"PROGRAMMER ANALYST\", \"SOFTWARE ENGINEER\", \"SOFTWARE ENGINEER\", \"CIVIL ENGINEER\", \"ASSISTANT PROFESSOR\", \"PULMONOLOGIST\", \"APPLICATION DEVELOPER\", \"MEDICAL TECHNOLOGIST\", \"SOFTWARE DEVELOPER\", \"PROGRAMMER ANALYST\", \"PROGRAMMER ANALYST\", \"SOFTWARE DEVELOPER\", \"SOFTWARE ENGINEER\", \"ASSOCIATE\", \"PROGRAMMER ANALYST\", \"ASSISTANT PROFESSOR\", \"ASSISTANT PROFESSOR\", \"SENIOR CONSULTANT\", \"PROGRAMMER ANALYST\", \"PHARMACY MANAGER\", \"PROGRAMMER ANALYST\", \"SR. COMPUTER SYSTEMS ANALYST\", \"PROGRAMMER ANALYST\", \"PROGRAMMER ANALYST\", \"SOFTWARE DEVELOPER\", \"PROGRAMMER ANALYST\", \"MARKET RESEARCH ANALYST\", \"SOFTWARE ENGINEER\", \"SOFTWARE ENGINEER\", \"SOFTWARE ENGINEER\", \"ASSISTANT PROFESSOR\", \"ASSISTANT PROFESSOR\"], \"z\": [6, 118, 215, 1, 239, 6748, 96, 428, 34, 308, 919, 1868, 13, 24, 179, 7, 2014, 82, 163, 335, 54, 889, 3992, 15, 5948, 195, 818, 5, 73, 4, 1185, 19, 123, 110, 11168, 24, 23, 1214, 484, 70, 57, 1443, 153, 59, 189, 10, 107, 6215, 186, 1973, 7, 91, 1570, 112, 57, 9], \"type\": \"choropleth\", \"uid\": \"9c6ca4b8-d094-11e8-ae45-f496347d3ff1\"}], {\"geo\": {\"lakecolor\": \"rgb(255, 255, 255)\", \"projection\": {\"type\": \"albers usa\"}, \"scope\": \"usa\", \"showlakes\": true}, \"title\": \"Top job title in the state\"}, {\"showLink\": true, \"linkText\": \"Export to plot.ly\"})});</script>"
      ]
     },
     "metadata": {},
     "output_type": "display_data"
    }
   ],
   "source": [
    "data=[dict(\n",
    "    type='choropleth',\n",
    "    locations = dum.EMPLOYER_STATE,\n",
    "    z = dum.COUNT,\n",
    "    locationmode = 'USA-states',\n",
    "    text = dum.JOB_TITLE,\n",
    "    marker = dict(\n",
    "            line = dict (\n",
    "                color = 'rgb(255,255,255)',\n",
    "                width = 2\n",
    "            ) ),\n",
    "        colorbar = dict(\n",
    "            title = \"Number of application\")\n",
    ")]\n",
    "layout= dict(title=\"Top job title in the state\",geo = dict(\n",
    "            scope='usa',\n",
    "            projection=dict( type='albers usa' ),\n",
    "            showlakes = True,\n",
    "            lakecolor = 'rgb(255, 255, 255)'),\n",
    "             )\n",
    "fig = dict( data=data, layout=layout )\n",
    "iplot(fig)"
   ]
  },
  {
   "cell_type": "markdown",
   "metadata": {},
   "source": [
    "### Average salary of H1B employee in each state.\n",
    "- As expected, california pays more"
   ]
  },
  {
   "cell_type": "code",
   "execution_count": 48,
   "metadata": {},
   "outputs": [],
   "source": [
    "dum = df.groupby('EMPLOYER_STATE',as_index=False).mean()[['EMPLOYER_STATE','PREVAILING_WAGE']]"
   ]
  },
  {
   "cell_type": "code",
   "execution_count": 49,
   "metadata": {},
   "outputs": [
    {
     "data": {
      "application/vnd.plotly.v1+json": {
       "data": [
        {
         "colorbar": {
          "title": "Avg salary in USD"
         },
         "locationmode": "USA-states",
         "locations": [
          "AK",
          "AL",
          "AR",
          "AS",
          "AZ",
          "CA",
          "CO",
          "CT",
          "DC",
          "DE",
          "FL",
          "GA",
          "GU",
          "HI",
          "IA",
          "ID",
          "IL",
          "IN",
          "KS",
          "KY",
          "LA",
          "MA",
          "MD",
          "ME",
          "MI",
          "MN",
          "MO",
          "MP",
          "MS",
          "MT",
          "NC",
          "ND",
          "NE",
          "NH",
          "NJ",
          "NM",
          "NV",
          "NY",
          "OH",
          "OK",
          "OR",
          "PA",
          "PR",
          "RI",
          "SC",
          "SD",
          "TN",
          "TX",
          "UT",
          "VA",
          "VI",
          "VT",
          "WA",
          "WI",
          "WV",
          "WY"
         ],
         "marker": {
          "line": {
           "color": "rgb(255,255,255)",
           "width": 2
          }
         },
         "type": "choropleth",
         "uid": "aaac2d68-d094-11e8-b821-f496347d3ff1",
         "z": [
          68755.71836065574,
          69103.75130533487,
          83446.59213732008,
          78250,
          77356.89119203234,
          90232.65923393465,
          78376.13868463275,
          74828.0921338229,
          74408.04715803446,
          71091.83575025178,
          69643.44842036294,
          67045.14117613144,
          54516.45555555552,
          68153.76532258064,
          72670.74456431536,
          75565.43445544555,
          74078.83010607949,
          70122.3999098693,
          71428.94975575716,
          73796.01781912144,
          73329.27721854304,
          77578.40362850182,
          67339.38986931545,
          80487.41169916434,
          69452.64151133168,
          78202.02465336131,
          74208.300221437,
          64705.54259259255,
          88113.62655737708,
          95121.23658536584,
          72994.85535739461,
          87324.33302325581,
          75436.85653104926,
          72897.09694117645,
          69351.98333962084,
          78149.56102088167,
          75827.53686046512,
          76877.70118760418,
          71041.31011348277,
          71767.86687211091,
          78840.5324590164,
          73221.296702886,
          52360.736895674294,
          80050.74573459715,
          67423.64112974402,
          86181.71592356687,
          70921.0772575251,
          72350.47560821356,
          71267.71003295982,
          71486.28119309273,
          54046.78974358974,
          84860.59223300977,
          91739.52874440055,
          76998.38267934007,
          91908.48080645164,
          79340.36712328767
         ]
        }
       ],
       "layout": {
        "geo": {
         "lakecolor": "rgb(255, 255, 255)",
         "projection": {
          "type": "albers usa"
         },
         "scope": "usa",
         "showlakes": true
        },
        "title": "Average salaries per state"
       }
      },
      "text/html": [
       "<div id=\"3cddc99c-eeea-438c-842d-1422011fbefc\" style=\"height: 525px; width: 100%;\" class=\"plotly-graph-div\"></div><script type=\"text/javascript\">require([\"plotly\"], function(Plotly) { window.PLOTLYENV=window.PLOTLYENV || {};window.PLOTLYENV.BASE_URL=\"https://plot.ly\";Plotly.newPlot(\"3cddc99c-eeea-438c-842d-1422011fbefc\", [{\"colorbar\": {\"title\": \"Avg salary in USD\"}, \"locationmode\": \"USA-states\", \"locations\": [\"AK\", \"AL\", \"AR\", \"AS\", \"AZ\", \"CA\", \"CO\", \"CT\", \"DC\", \"DE\", \"FL\", \"GA\", \"GU\", \"HI\", \"IA\", \"ID\", \"IL\", \"IN\", \"KS\", \"KY\", \"LA\", \"MA\", \"MD\", \"ME\", \"MI\", \"MN\", \"MO\", \"MP\", \"MS\", \"MT\", \"NC\", \"ND\", \"NE\", \"NH\", \"NJ\", \"NM\", \"NV\", \"NY\", \"OH\", \"OK\", \"OR\", \"PA\", \"PR\", \"RI\", \"SC\", \"SD\", \"TN\", \"TX\", \"UT\", \"VA\", \"VI\", \"VT\", \"WA\", \"WI\", \"WV\", \"WY\"], \"marker\": {\"line\": {\"color\": \"rgb(255,255,255)\", \"width\": 2}}, \"z\": [68755.71836065574, 69103.75130533487, 83446.59213732008, 78250.0, 77356.89119203234, 90232.65923393465, 78376.13868463275, 74828.0921338229, 74408.04715803446, 71091.83575025178, 69643.44842036294, 67045.14117613144, 54516.45555555552, 68153.76532258064, 72670.74456431536, 75565.43445544555, 74078.83010607949, 70122.3999098693, 71428.94975575716, 73796.01781912144, 73329.27721854304, 77578.40362850182, 67339.38986931545, 80487.41169916434, 69452.64151133168, 78202.02465336131, 74208.300221437, 64705.54259259255, 88113.62655737708, 95121.23658536584, 72994.85535739461, 87324.33302325581, 75436.85653104926, 72897.09694117645, 69351.98333962084, 78149.56102088167, 75827.53686046512, 76877.70118760418, 71041.31011348277, 71767.86687211091, 78840.5324590164, 73221.296702886, 52360.736895674294, 80050.74573459715, 67423.64112974402, 86181.71592356687, 70921.0772575251, 72350.47560821356, 71267.71003295982, 71486.28119309273, 54046.78974358974, 84860.59223300977, 91739.52874440055, 76998.38267934007, 91908.48080645164, 79340.36712328767], \"type\": \"choropleth\", \"uid\": \"aaaf8642-d094-11e8-8ec7-f496347d3ff1\"}], {\"geo\": {\"lakecolor\": \"rgb(255, 255, 255)\", \"projection\": {\"type\": \"albers usa\"}, \"scope\": \"usa\", \"showlakes\": true}, \"title\": \"Average salaries per state\"}, {\"showLink\": true, \"linkText\": \"Export to plot.ly\"})});</script>"
      ],
      "text/vnd.plotly.v1+html": [
       "<div id=\"3cddc99c-eeea-438c-842d-1422011fbefc\" style=\"height: 525px; width: 100%;\" class=\"plotly-graph-div\"></div><script type=\"text/javascript\">require([\"plotly\"], function(Plotly) { window.PLOTLYENV=window.PLOTLYENV || {};window.PLOTLYENV.BASE_URL=\"https://plot.ly\";Plotly.newPlot(\"3cddc99c-eeea-438c-842d-1422011fbefc\", [{\"colorbar\": {\"title\": \"Avg salary in USD\"}, \"locationmode\": \"USA-states\", \"locations\": [\"AK\", \"AL\", \"AR\", \"AS\", \"AZ\", \"CA\", \"CO\", \"CT\", \"DC\", \"DE\", \"FL\", \"GA\", \"GU\", \"HI\", \"IA\", \"ID\", \"IL\", \"IN\", \"KS\", \"KY\", \"LA\", \"MA\", \"MD\", \"ME\", \"MI\", \"MN\", \"MO\", \"MP\", \"MS\", \"MT\", \"NC\", \"ND\", \"NE\", \"NH\", \"NJ\", \"NM\", \"NV\", \"NY\", \"OH\", \"OK\", \"OR\", \"PA\", \"PR\", \"RI\", \"SC\", \"SD\", \"TN\", \"TX\", \"UT\", \"VA\", \"VI\", \"VT\", \"WA\", \"WI\", \"WV\", \"WY\"], \"marker\": {\"line\": {\"color\": \"rgb(255,255,255)\", \"width\": 2}}, \"z\": [68755.71836065574, 69103.75130533487, 83446.59213732008, 78250.0, 77356.89119203234, 90232.65923393465, 78376.13868463275, 74828.0921338229, 74408.04715803446, 71091.83575025178, 69643.44842036294, 67045.14117613144, 54516.45555555552, 68153.76532258064, 72670.74456431536, 75565.43445544555, 74078.83010607949, 70122.3999098693, 71428.94975575716, 73796.01781912144, 73329.27721854304, 77578.40362850182, 67339.38986931545, 80487.41169916434, 69452.64151133168, 78202.02465336131, 74208.300221437, 64705.54259259255, 88113.62655737708, 95121.23658536584, 72994.85535739461, 87324.33302325581, 75436.85653104926, 72897.09694117645, 69351.98333962084, 78149.56102088167, 75827.53686046512, 76877.70118760418, 71041.31011348277, 71767.86687211091, 78840.5324590164, 73221.296702886, 52360.736895674294, 80050.74573459715, 67423.64112974402, 86181.71592356687, 70921.0772575251, 72350.47560821356, 71267.71003295982, 71486.28119309273, 54046.78974358974, 84860.59223300977, 91739.52874440055, 76998.38267934007, 91908.48080645164, 79340.36712328767], \"type\": \"choropleth\", \"uid\": \"aaaf8642-d094-11e8-8ec7-f496347d3ff1\"}], {\"geo\": {\"lakecolor\": \"rgb(255, 255, 255)\", \"projection\": {\"type\": \"albers usa\"}, \"scope\": \"usa\", \"showlakes\": true}, \"title\": \"Average salaries per state\"}, {\"showLink\": true, \"linkText\": \"Export to plot.ly\"})});</script>"
      ]
     },
     "metadata": {},
     "output_type": "display_data"
    }
   ],
   "source": [
    "data=[dict(\n",
    "    type='choropleth',\n",
    "    locations = dum.EMPLOYER_STATE,\n",
    "    z = dum.PREVAILING_WAGE,\n",
    "    locationmode = 'USA-states',\n",
    "    marker = dict(\n",
    "            line = dict (\n",
    "                color = 'rgb(255,255,255)',\n",
    "                width = 2\n",
    "            ) ),\n",
    "        colorbar = dict(\n",
    "            title = \"Avg salary in USD\")\n",
    ")]\n",
    "layout= dict(title=\"Average salaries per state\",geo = dict(\n",
    "            scope='usa',\n",
    "            projection=dict( type='albers usa' ),\n",
    "            showlakes = True,\n",
    "            lakecolor = 'rgb(255, 255, 255)'),\n",
    "             )\n",
    "fig = dict( data=data, layout=layout )\n",
    "iplot(fig)"
   ]
  },
  {
   "cell_type": "markdown",
   "metadata": {},
   "source": [
    "## IT and TECH Analysis.\n",
    "- The following was taken from @DhrumilVora.(Kaggle)\n",
    "- It creates a new column occupation based on the key words from the SOC_NAME column."
   ]
  },
  {
   "cell_type": "code",
   "execution_count": 50,
   "metadata": {},
   "outputs": [],
   "source": [
    "df['OCCUPATION'] = np.nan\n",
    "df['SOC_NAME'] = df['SOC_NAME'].str.lower()\n",
    "df.OCCUPATION[df['SOC_NAME'].str.contains('computer','programmer')] = 'Computer Occupations'\n",
    "df.OCCUPATION[df['SOC_NAME'].str.contains('data scientist','data analyst')] = 'Computer Occupations'\n",
    "df.OCCUPATION[df['SOC_NAME'].str.contains('data engineer','data base')] = 'Computer Occupations'\n",
    "df.OCCUPATION[df['SOC_NAME'].str.contains('machine learning','artifical intelligence')] = 'Computer Occupations'\n",
    "df.OCCUPATION[df['SOC_NAME'].str.contains('spark','apache')] = 'Computer Occupations'\n",
    "df.OCCUPATION[df['SOC_NAME'].str.contains('hadoop','big data')] = 'Computer Occupations'\n",
    "df.OCCUPATION[df['SOC_NAME'].str.contains('sql','cyber')] = 'Computer Occupations'\n",
    "df.OCCUPATION[df['SOC_NAME'].str.contains('developer','full stack')] = 'Computer Occupations'\n",
    "df.OCCUPATION[df['SOC_NAME'].str.contains('fullstack','etl')] = 'Computer Occupations'\n",
    "df.OCCUPATION[df['SOC_NAME'].str.contains('data','network')] = 'Computer Occupations'\n",
    "df.OCCUPATION[df['SOC_NAME'].str.contains('software tester','cloud')] = 'Computer Occupations'\n",
    "df.OCCUPATION[df['SOC_NAME'].str.contains('information','informatica')] = 'Computer Occupations'\n",
    "df.OCCUPATION[df['SOC_NAME'].str.contains('jira','programmer')] = 'Computer Occupations'\n",
    "df.OCCUPATION[df['SOC_NAME'].str.contains('software','web developer')] = 'Computer Occupations'\n",
    "df.OCCUPATION[df['SOC_NAME'].str.contains('database')] = 'Computer Occupations'\n",
    "df.OCCUPATION[df['SOC_NAME'].str.contains('math','statistic')] = 'Mathematical Occupations'\n",
    "df.OCCUPATION[df['SOC_NAME'].str.contains('predictive model','stats')] = 'Mathematical Occupations'\n",
    "df.OCCUPATION[df['SOC_NAME'].str.contains('teacher','linguist')] = 'Education Occupations'\n",
    "df.OCCUPATION[df['SOC_NAME'].str.contains('professor','Teach')] = 'Education Occupations'\n",
    "df.OCCUPATION[df['SOC_NAME'].str.contains('school principal')] = 'Education Occupations'\n",
    "df.OCCUPATION[df['SOC_NAME'].str.contains('medical','doctor')] = 'Medical Occupations'\n",
    "df.OCCUPATION[df['SOC_NAME'].str.contains('physician','dentist')] = 'Medical Occupations'\n",
    "df.OCCUPATION[df['SOC_NAME'].str.contains('Health','Physical Therapists')] = 'Medical Occupations'\n",
    "df.OCCUPATION[df['SOC_NAME'].str.contains('surgeon','nurse')] = 'Medical Occupations'\n",
    "df.OCCUPATION[df['SOC_NAME'].str.contains('psychiatr')] = 'Medical Occupations'\n",
    "df.OCCUPATION[df['SOC_NAME'].str.contains('chemist','physicist')] = 'Advance Sciences'\n",
    "df.OCCUPATION[df['SOC_NAME'].str.contains('biology','scientist')] = 'Advance Sciences'\n",
    "df.OCCUPATION[df['SOC_NAME'].str.contains('biologi','clinical research')] = 'Advance Sciences'\n",
    "df.OCCUPATION[df['SOC_NAME'].str.contains('public relation','manage')] = 'Management Occupation'\n",
    "df.OCCUPATION[df['SOC_NAME'].str.contains('management','operation')] = 'Management Occupation'\n",
    "df.OCCUPATION[df['SOC_NAME'].str.contains('chief','plan')] = 'Management Occupation'\n",
    "df.OCCUPATION[df['SOC_NAME'].str.contains('executive')] = 'Management Occupation'\n",
    "df.OCCUPATION[df['SOC_NAME'].str.contains('advertis','marketing')] = 'Marketing Occupation'\n",
    "df.OCCUPATION[df['SOC_NAME'].str.contains('promotion','market research')] = 'Marketing Occupation'\n",
    "df.OCCUPATION[df['SOC_NAME'].str.contains('business','business analyst')] = 'Business Occupation'\n",
    "df.OCCUPATION[df['SOC_NAME'].str.contains('business systems analyst')] = 'Business Occupation'\n",
    "df.OCCUPATION[df['SOC_NAME'].str.contains('accountant','finance')] = 'Financial Occupation'\n",
    "df.OCCUPATION[df['SOC_NAME'].str.contains('financial')] = 'Financial Occupation'\n",
    "df.OCCUPATION[df['SOC_NAME'].str.contains('engineer','architect')] = 'Architecture & Engineering'\n",
    "df.OCCUPATION[df['SOC_NAME'].str.contains('surveyor','carto')] = 'Architecture & Engineering'\n",
    "df.OCCUPATION[df['SOC_NAME'].str.contains('technician','drafter')] = 'Architecture & Engineering'\n",
    "df.OCCUPATION[df['SOC_NAME'].str.contains('information security','information tech')] = 'Architecture & Engineering'\n",
    "df['OCCUPATION']= df.OCCUPATION.replace(np.nan, 'Others', regex=True)\n",
    "df['SOC_NAME'] = df['SOC_NAME'].str.upper()\n"
   ]
  },
  {
   "cell_type": "code",
   "execution_count": 51,
   "metadata": {},
   "outputs": [
    {
     "data": {
      "text/html": [
       "<div>\n",
       "<style scoped>\n",
       "    .dataframe tbody tr th:only-of-type {\n",
       "        vertical-align: middle;\n",
       "    }\n",
       "\n",
       "    .dataframe tbody tr th {\n",
       "        vertical-align: top;\n",
       "    }\n",
       "\n",
       "    .dataframe thead th {\n",
       "        text-align: right;\n",
       "    }\n",
       "</style>\n",
       "<table border=\"1\" class=\"dataframe\">\n",
       "  <thead>\n",
       "    <tr style=\"text-align: right;\">\n",
       "      <th></th>\n",
       "      <th>CASE_STATUS</th>\n",
       "      <th>EMPLOYMENT_START_DATE</th>\n",
       "      <th>EMPLOYER_NAME</th>\n",
       "      <th>EMPLOYER_STATE</th>\n",
       "      <th>JOB_TITLE</th>\n",
       "      <th>SOC_NAME</th>\n",
       "      <th>FULL_TIME_POSITION</th>\n",
       "      <th>PREVAILING_WAGE</th>\n",
       "      <th>WORKSITE_STATE</th>\n",
       "      <th>countvar</th>\n",
       "      <th>year</th>\n",
       "      <th>OCCUPATION</th>\n",
       "    </tr>\n",
       "  </thead>\n",
       "  <tbody>\n",
       "    <tr>\n",
       "      <th>0</th>\n",
       "      <td>CERTIFIED-WITHDRAWN</td>\n",
       "      <td>2016-08-10</td>\n",
       "      <td>DISCOVER PRODUCTS INC.</td>\n",
       "      <td>IL</td>\n",
       "      <td>ASSOCIATE DATA INTEGRATION</td>\n",
       "      <td>COMPUTER SYSTEMS ANALYSTS</td>\n",
       "      <td>Y</td>\n",
       "      <td>59197.0</td>\n",
       "      <td>IL</td>\n",
       "      <td>1</td>\n",
       "      <td>2016</td>\n",
       "      <td>Computer Occupations</td>\n",
       "    </tr>\n",
       "    <tr>\n",
       "      <th>1</th>\n",
       "      <td>CERTIFIED-WITHDRAWN</td>\n",
       "      <td>2016-08-16</td>\n",
       "      <td>DFS SERVICES LLC</td>\n",
       "      <td>IL</td>\n",
       "      <td>SENIOR ASSOCIATE</td>\n",
       "      <td>OPERATIONS RESEARCH ANALYSTS</td>\n",
       "      <td>Y</td>\n",
       "      <td>49800.0</td>\n",
       "      <td>IL</td>\n",
       "      <td>1</td>\n",
       "      <td>2016</td>\n",
       "      <td>Others</td>\n",
       "    </tr>\n",
       "    <tr>\n",
       "      <th>2</th>\n",
       "      <td>CERTIFIED-WITHDRAWN</td>\n",
       "      <td>2016-09-09</td>\n",
       "      <td>EASTBANC TECHNOLOGIES LLC</td>\n",
       "      <td>DC</td>\n",
       "      <td>.NET SOFTWARE PROGRAMMER</td>\n",
       "      <td>COMPUTER PROGRAMMERS</td>\n",
       "      <td>Y</td>\n",
       "      <td>76502.0</td>\n",
       "      <td>DC</td>\n",
       "      <td>1</td>\n",
       "      <td>2016</td>\n",
       "      <td>Computer Occupations</td>\n",
       "    </tr>\n",
       "    <tr>\n",
       "      <th>3</th>\n",
       "      <td>WITHDRAWN</td>\n",
       "      <td>2017-01-26</td>\n",
       "      <td>INFO SERVICES LLC</td>\n",
       "      <td>MI</td>\n",
       "      <td>PROJECT MANAGER</td>\n",
       "      <td>COMPUTER OCCUPATIONS, ALL OTHER</td>\n",
       "      <td>Y</td>\n",
       "      <td>90376.0</td>\n",
       "      <td>NJ</td>\n",
       "      <td>1</td>\n",
       "      <td>2017</td>\n",
       "      <td>Computer Occupations</td>\n",
       "    </tr>\n",
       "    <tr>\n",
       "      <th>4</th>\n",
       "      <td>CERTIFIED-WITHDRAWN</td>\n",
       "      <td>2015-03-01</td>\n",
       "      <td>BB&amp;T CORPORATION</td>\n",
       "      <td>NC</td>\n",
       "      <td>ASSOCIATE - ESOTERIC ASSET BACKED SECURITIES</td>\n",
       "      <td>CREDIT ANALYSTS</td>\n",
       "      <td>Y</td>\n",
       "      <td>116605.0</td>\n",
       "      <td>NY</td>\n",
       "      <td>1</td>\n",
       "      <td>2015</td>\n",
       "      <td>Others</td>\n",
       "    </tr>\n",
       "  </tbody>\n",
       "</table>\n",
       "</div>"
      ],
      "text/plain": [
       "           CASE_STATUS EMPLOYMENT_START_DATE              EMPLOYER_NAME EMPLOYER_STATE                                     JOB_TITLE                         SOC_NAME FULL_TIME_POSITION  PREVAILING_WAGE WORKSITE_STATE  countvar  year            OCCUPATION\n",
       "0  CERTIFIED-WITHDRAWN            2016-08-10     DISCOVER PRODUCTS INC.             IL                    ASSOCIATE DATA INTEGRATION        COMPUTER SYSTEMS ANALYSTS                  Y          59197.0             IL         1  2016  Computer Occupations\n",
       "1  CERTIFIED-WITHDRAWN            2016-08-16           DFS SERVICES LLC             IL                              SENIOR ASSOCIATE     OPERATIONS RESEARCH ANALYSTS                  Y          49800.0             IL         1  2016                Others\n",
       "2  CERTIFIED-WITHDRAWN            2016-09-09  EASTBANC TECHNOLOGIES LLC             DC                      .NET SOFTWARE PROGRAMMER             COMPUTER PROGRAMMERS                  Y          76502.0             DC         1  2016  Computer Occupations\n",
       "3            WITHDRAWN            2017-01-26          INFO SERVICES LLC             MI                               PROJECT MANAGER  COMPUTER OCCUPATIONS, ALL OTHER                  Y          90376.0             NJ         1  2017  Computer Occupations\n",
       "4  CERTIFIED-WITHDRAWN            2015-03-01           BB&T CORPORATION             NC  ASSOCIATE - ESOTERIC ASSET BACKED SECURITIES                  CREDIT ANALYSTS                  Y         116605.0             NY         1  2015                Others"
      ]
     },
     "execution_count": 51,
     "metadata": {},
     "output_type": "execute_result"
    }
   ],
   "source": [
    "df.head()"
   ]
  },
  {
   "cell_type": "markdown",
   "metadata": {},
   "source": [
    "## The newly created column contents"
   ]
  },
  {
   "cell_type": "code",
   "execution_count": 52,
   "metadata": {},
   "outputs": [
    {
     "data": {
      "text/plain": [
       "Computer Occupations          340774\n",
       "Others                         57755\n",
       "Architecture & Engineering     44808\n",
       "Financial Occupation           21651\n",
       "Management Occupation          12081\n",
       "Medical Occupations            10459\n",
       "Advance Sciences                7321\n",
       "Education Occupations           6768\n",
       "Business Occupation             1649\n",
       "Mathematical Occupations         424\n",
       "Marketing Occupation             214\n",
       "Name: OCCUPATION, dtype: int64"
      ]
     },
     "execution_count": 52,
     "metadata": {},
     "output_type": "execute_result"
    }
   ],
   "source": [
    "df.OCCUPATION.value_counts()"
   ]
  },
  {
   "cell_type": "markdown",
   "metadata": {},
   "source": [
    "### The Average annual salaries of the newly created departments."
   ]
  },
  {
   "cell_type": "code",
   "execution_count": 54,
   "metadata": {},
   "outputs": [
    {
     "data": {
      "application/vnd.plotly.v1+json": {
       "data": [
        {
         "name": "wageperoccuaption",
         "type": "bar",
         "uid": "91eb547a-d095-11e8-bbc6-f496347d3ff1",
         "x": [
          "Advance Sciences",
          "Architecture & Engineering",
          "Business Occupation",
          "Computer Occupations",
          "Education Occupations",
          "Financial Occupation",
          "Management Occupation",
          "Marketing Occupation",
          "Mathematical Occupations",
          "Medical Occupations",
          "Others"
         ],
         "y": [
          55071.40938669584,
          78683.99220161606,
          60309.74856882965,
          76952.04958793792,
          59111.69447990562,
          70028.73073022123,
          76546.74599702052,
          72028.97383177566,
          85822.42783018868,
          89027.36520126232,
          72899.59010942731
         ]
        }
       ],
       "layout": {
        "title": " AVERAGE ANNUAL PAY vs OCCUPATION",
        "yaxis": {
         "title": "AVERAGE ANNUAL PAY"
        }
       }
      },
      "text/html": [
       "<div id=\"d879bde5-7d6c-4c71-8811-9756d73819ce\" style=\"height: 525px; width: 100%;\" class=\"plotly-graph-div\"></div><script type=\"text/javascript\">require([\"plotly\"], function(Plotly) { window.PLOTLYENV=window.PLOTLYENV || {};window.PLOTLYENV.BASE_URL=\"https://plot.ly\";\n",
       "        Plotly.plot(\n",
       "            'd879bde5-7d6c-4c71-8811-9756d73819ce',\n",
       "            [{\"name\": \"wageperoccuaption\", \"x\": [\"Advance Sciences\", \"Architecture & Engineering\", \"Business Occupation\", \"Computer Occupations\", \"Education Occupations\", \"Financial Occupation\", \"Management Occupation\", \"Marketing Occupation\", \"Mathematical Occupations\", \"Medical Occupations\", \"Others\"], \"y\": [55071.40938669584, 78683.99220161606, 60309.74856882965, 76952.04958793792, 59111.69447990562, 70028.73073022123, 76546.74599702052, 72028.97383177566, 85822.42783018868, 89027.36520126232, 72899.59010942731], \"type\": \"bar\", \"uid\": \"91eb547a-d095-11e8-bbc6-f496347d3ff1\"}],\n",
       "            {\"title\": \" AVERAGE ANNUAL PAY vs OCCUPATION\", \"yaxis\": {\"title\": \"AVERAGE ANNUAL PAY\"}},\n",
       "            {\"showLink\": true, \"linkText\": \"Export to plot.ly\"}\n",
       "        ).then(function () {return Plotly.addFrames('d879bde5-7d6c-4c71-8811-9756d73819ce',{});}).then(function(){Plotly.animate('d879bde5-7d6c-4c71-8811-9756d73819ce');})\n",
       "        });</script>"
      ],
      "text/vnd.plotly.v1+html": [
       "<div id=\"d879bde5-7d6c-4c71-8811-9756d73819ce\" style=\"height: 525px; width: 100%;\" class=\"plotly-graph-div\"></div><script type=\"text/javascript\">require([\"plotly\"], function(Plotly) { window.PLOTLYENV=window.PLOTLYENV || {};window.PLOTLYENV.BASE_URL=\"https://plot.ly\";\n",
       "        Plotly.plot(\n",
       "            'd879bde5-7d6c-4c71-8811-9756d73819ce',\n",
       "            [{\"name\": \"wageperoccuaption\", \"x\": [\"Advance Sciences\", \"Architecture & Engineering\", \"Business Occupation\", \"Computer Occupations\", \"Education Occupations\", \"Financial Occupation\", \"Management Occupation\", \"Marketing Occupation\", \"Mathematical Occupations\", \"Medical Occupations\", \"Others\"], \"y\": [55071.40938669584, 78683.99220161606, 60309.74856882965, 76952.04958793792, 59111.69447990562, 70028.73073022123, 76546.74599702052, 72028.97383177566, 85822.42783018868, 89027.36520126232, 72899.59010942731], \"type\": \"bar\", \"uid\": \"91eb547a-d095-11e8-bbc6-f496347d3ff1\"}],\n",
       "            {\"title\": \" AVERAGE ANNUAL PAY vs OCCUPATION\", \"yaxis\": {\"title\": \"AVERAGE ANNUAL PAY\"}},\n",
       "            {\"showLink\": true, \"linkText\": \"Export to plot.ly\"}\n",
       "        ).then(function () {return Plotly.addFrames('d879bde5-7d6c-4c71-8811-9756d73819ce',{});}).then(function(){Plotly.animate('d879bde5-7d6c-4c71-8811-9756d73819ce');})\n",
       "        });</script>"
      ]
     },
     "metadata": {},
     "output_type": "display_data"
    }
   ],
   "source": [
    "dum = df.groupby('OCCUPATION',as_index = False).mean()[['OCCUPATION','PREVAILING_WAGE']]\n",
    "t1 =go.Bar(x=dum.OCCUPATION,y=dum.PREVAILING_WAGE,name='wageperoccuaption')\n",
    "layout = go.Layout(dict(title= \" AVERAGE ANNUAL PAY vs OCCUPATION\",yaxis=dict(title=\"AVERAGE ANNUAL PAY\")))\n",
    "data = [t1]\n",
    "fig = go.Figure(data=data,layout=layout)\n",
    "iplot(fig)"
   ]
  },
  {
   "cell_type": "markdown",
   "metadata": {},
   "source": [
    "### Working only on the TECH/IT data."
   ]
  },
  {
   "cell_type": "code",
   "execution_count": 55,
   "metadata": {},
   "outputs": [],
   "source": [
    "dfcomp = df[df.OCCUPATION == 'Computer Occupations']"
   ]
  },
  {
   "cell_type": "markdown",
   "metadata": {},
   "source": [
    "### Average salary of IT H1B employee in each state.\n",
    "- As expected, california pays more"
   ]
  },
  {
   "cell_type": "code",
   "execution_count": 56,
   "metadata": {},
   "outputs": [],
   "source": [
    "dum = dfcomp.groupby('EMPLOYER_STATE',as_index=False).mean()[['EMPLOYER_STATE','PREVAILING_WAGE']]"
   ]
  },
  {
   "cell_type": "code",
   "execution_count": 57,
   "metadata": {},
   "outputs": [
    {
     "data": {
      "application/vnd.plotly.v1+json": {
       "data": [
        {
         "colorbar": {
          "title": "Avg salary in USD"
         },
         "locationmode": "USA-states",
         "locations": [
          "AK",
          "AL",
          "AR",
          "AZ",
          "CA",
          "CO",
          "CT",
          "DC",
          "DE",
          "FL",
          "GA",
          "GU",
          "HI",
          "IA",
          "ID",
          "IL",
          "IN",
          "KS",
          "KY",
          "LA",
          "MA",
          "MD",
          "ME",
          "MI",
          "MN",
          "MO",
          "MP",
          "MS",
          "MT",
          "NC",
          "ND",
          "NE",
          "NH",
          "NJ",
          "NM",
          "NV",
          "NY",
          "OH",
          "OK",
          "OR",
          "PA",
          "PR",
          "RI",
          "SC",
          "SD",
          "TN",
          "TX",
          "UT",
          "VA",
          "VT",
          "WA",
          "WI",
          "WV",
          "WY"
         ],
         "marker": {
          "line": {
           "color": "rgb(255,255,255)",
           "width": 2
          }
         },
         "type": "choropleth",
         "uid": "98ad95ac-d095-11e8-8d69-f496347d3ff1",
         "z": [
          83458.2,
          75147.19695431473,
          81827.88991674375,
          78903.59331065761,
          94957.39411488904,
          81716.75990809884,
          73913.30975170922,
          85287.975,
          68018.06810886254,
          72159.42693244484,
          67259.37977611246,
          47008,
          60179.59375,
          69897.60660869567,
          78405.82945736434,
          74324.80116011361,
          68146.49415448851,
          71450.89766233767,
          71705.16481970098,
          66719.68161993769,
          80054.48142452918,
          67715.96815920394,
          72105.5067669173,
          68987.23147318256,
          78995.5630215195,
          74500.47044247792,
          43861.85714285714,
          67806.92967032967,
          50741.35555555556,
          72930.89647991459,
          61699.930434782604,
          76905.00778128284,
          70722.49838420108,
          69383.61881463832,
          55765.742666666665,
          79838.99333333332,
          84307.24566452132,
          72938.07725230034,
          69973.05588235294,
          81408.9119156415,
          76151.11381994725,
          51251.3329512894,
          83037.34160206719,
          62839.83927125507,
          67814.4375,
          72586.86764490097,
          71716.75792620097,
          76071.7793836344,
          72475.80157467538,
          88566.38812785388,
          94819.42535188378,
          77716.5144421629,
          64722.525,
          53580.8
         ]
        }
       ],
       "layout": {
        "geo": {
         "lakecolor": "rgb(255, 255, 255)",
         "projection": {
          "type": "albers usa"
         },
         "scope": "usa",
         "showlakes": true
        },
        "title": "Average salaries of TECH(IT) per state"
       }
      },
      "text/html": [
       "<div id=\"2ffca9c2-a9ee-4001-859a-0cfad1d04550\" style=\"height: 525px; width: 100%;\" class=\"plotly-graph-div\"></div><script type=\"text/javascript\">require([\"plotly\"], function(Plotly) { window.PLOTLYENV=window.PLOTLYENV || {};window.PLOTLYENV.BASE_URL=\"https://plot.ly\";Plotly.newPlot(\"2ffca9c2-a9ee-4001-859a-0cfad1d04550\", [{\"colorbar\": {\"title\": \"Avg salary in USD\"}, \"locationmode\": \"USA-states\", \"locations\": [\"AK\", \"AL\", \"AR\", \"AZ\", \"CA\", \"CO\", \"CT\", \"DC\", \"DE\", \"FL\", \"GA\", \"GU\", \"HI\", \"IA\", \"ID\", \"IL\", \"IN\", \"KS\", \"KY\", \"LA\", \"MA\", \"MD\", \"ME\", \"MI\", \"MN\", \"MO\", \"MP\", \"MS\", \"MT\", \"NC\", \"ND\", \"NE\", \"NH\", \"NJ\", \"NM\", \"NV\", \"NY\", \"OH\", \"OK\", \"OR\", \"PA\", \"PR\", \"RI\", \"SC\", \"SD\", \"TN\", \"TX\", \"UT\", \"VA\", \"VT\", \"WA\", \"WI\", \"WV\", \"WY\"], \"marker\": {\"line\": {\"color\": \"rgb(255,255,255)\", \"width\": 2}}, \"z\": [83458.2, 75147.19695431473, 81827.88991674375, 78903.59331065761, 94957.39411488904, 81716.75990809884, 73913.30975170922, 85287.975, 68018.06810886254, 72159.42693244484, 67259.37977611246, 47008.0, 60179.59375, 69897.60660869567, 78405.82945736434, 74324.80116011361, 68146.49415448851, 71450.89766233767, 71705.16481970098, 66719.68161993769, 80054.48142452918, 67715.96815920394, 72105.5067669173, 68987.23147318256, 78995.5630215195, 74500.47044247792, 43861.85714285714, 67806.92967032967, 50741.35555555556, 72930.89647991459, 61699.930434782604, 76905.00778128284, 70722.49838420108, 69383.61881463832, 55765.742666666665, 79838.99333333332, 84307.24566452132, 72938.07725230034, 69973.05588235294, 81408.9119156415, 76151.11381994725, 51251.3329512894, 83037.34160206719, 62839.83927125507, 67814.4375, 72586.86764490097, 71716.75792620097, 76071.7793836344, 72475.80157467538, 88566.38812785388, 94819.42535188378, 77716.5144421629, 64722.525, 53580.8], \"type\": \"choropleth\", \"uid\": \"98b1155c-d095-11e8-9441-f496347d3ff1\"}], {\"geo\": {\"lakecolor\": \"rgb(255, 255, 255)\", \"projection\": {\"type\": \"albers usa\"}, \"scope\": \"usa\", \"showlakes\": true}, \"title\": \"Average salaries of TECH(IT) per state\"}, {\"showLink\": true, \"linkText\": \"Export to plot.ly\"})});</script>"
      ],
      "text/vnd.plotly.v1+html": [
       "<div id=\"2ffca9c2-a9ee-4001-859a-0cfad1d04550\" style=\"height: 525px; width: 100%;\" class=\"plotly-graph-div\"></div><script type=\"text/javascript\">require([\"plotly\"], function(Plotly) { window.PLOTLYENV=window.PLOTLYENV || {};window.PLOTLYENV.BASE_URL=\"https://plot.ly\";Plotly.newPlot(\"2ffca9c2-a9ee-4001-859a-0cfad1d04550\", [{\"colorbar\": {\"title\": \"Avg salary in USD\"}, \"locationmode\": \"USA-states\", \"locations\": [\"AK\", \"AL\", \"AR\", \"AZ\", \"CA\", \"CO\", \"CT\", \"DC\", \"DE\", \"FL\", \"GA\", \"GU\", \"HI\", \"IA\", \"ID\", \"IL\", \"IN\", \"KS\", \"KY\", \"LA\", \"MA\", \"MD\", \"ME\", \"MI\", \"MN\", \"MO\", \"MP\", \"MS\", \"MT\", \"NC\", \"ND\", \"NE\", \"NH\", \"NJ\", \"NM\", \"NV\", \"NY\", \"OH\", \"OK\", \"OR\", \"PA\", \"PR\", \"RI\", \"SC\", \"SD\", \"TN\", \"TX\", \"UT\", \"VA\", \"VT\", \"WA\", \"WI\", \"WV\", \"WY\"], \"marker\": {\"line\": {\"color\": \"rgb(255,255,255)\", \"width\": 2}}, \"z\": [83458.2, 75147.19695431473, 81827.88991674375, 78903.59331065761, 94957.39411488904, 81716.75990809884, 73913.30975170922, 85287.975, 68018.06810886254, 72159.42693244484, 67259.37977611246, 47008.0, 60179.59375, 69897.60660869567, 78405.82945736434, 74324.80116011361, 68146.49415448851, 71450.89766233767, 71705.16481970098, 66719.68161993769, 80054.48142452918, 67715.96815920394, 72105.5067669173, 68987.23147318256, 78995.5630215195, 74500.47044247792, 43861.85714285714, 67806.92967032967, 50741.35555555556, 72930.89647991459, 61699.930434782604, 76905.00778128284, 70722.49838420108, 69383.61881463832, 55765.742666666665, 79838.99333333332, 84307.24566452132, 72938.07725230034, 69973.05588235294, 81408.9119156415, 76151.11381994725, 51251.3329512894, 83037.34160206719, 62839.83927125507, 67814.4375, 72586.86764490097, 71716.75792620097, 76071.7793836344, 72475.80157467538, 88566.38812785388, 94819.42535188378, 77716.5144421629, 64722.525, 53580.8], \"type\": \"choropleth\", \"uid\": \"98b1155c-d095-11e8-9441-f496347d3ff1\"}], {\"geo\": {\"lakecolor\": \"rgb(255, 255, 255)\", \"projection\": {\"type\": \"albers usa\"}, \"scope\": \"usa\", \"showlakes\": true}, \"title\": \"Average salaries of TECH(IT) per state\"}, {\"showLink\": true, \"linkText\": \"Export to plot.ly\"})});</script>"
      ]
     },
     "metadata": {},
     "output_type": "display_data"
    }
   ],
   "source": [
    "data=[dict(\n",
    "    type='choropleth',\n",
    "    locations = dum.EMPLOYER_STATE,\n",
    "    z = dum.PREVAILING_WAGE,\n",
    "    locationmode = 'USA-states',\n",
    "    marker = dict(\n",
    "            line = dict (\n",
    "                color = 'rgb(255,255,255)',\n",
    "                width = 2\n",
    "            ) ),\n",
    "        colorbar = dict(\n",
    "            title = \"Avg salary in USD\")\n",
    ")]\n",
    "layout= dict(title=\"Average salaries of TECH(IT) per state\",geo = dict(\n",
    "            scope='usa',\n",
    "            projection=dict( type='albers usa' ),\n",
    "            showlakes = True,\n",
    "            lakecolor = 'rgb(255, 255, 255)'),\n",
    "             )\n",
    "fig = dict( data=data, layout=layout )\n",
    "iplot(fig)"
   ]
  },
  {
   "cell_type": "markdown",
   "metadata": {},
   "source": [
    "## TOP 20 MOST PAID FIELDS.\n",
    "- Medical field domination "
   ]
  },
  {
   "cell_type": "code",
   "execution_count": 58,
   "metadata": {
    "scrolled": false
   },
   "outputs": [
    {
     "data": {
      "text/html": [
       "<div>\n",
       "<style scoped>\n",
       "    .dataframe tbody tr th:only-of-type {\n",
       "        vertical-align: middle;\n",
       "    }\n",
       "\n",
       "    .dataframe tbody tr th {\n",
       "        vertical-align: top;\n",
       "    }\n",
       "\n",
       "    .dataframe thead th {\n",
       "        text-align: right;\n",
       "    }\n",
       "</style>\n",
       "<table border=\"1\" class=\"dataframe\">\n",
       "  <thead>\n",
       "    <tr style=\"text-align: right;\">\n",
       "      <th></th>\n",
       "      <th>SOC_NAME</th>\n",
       "      <th>PREVAILING_WAGE</th>\n",
       "    </tr>\n",
       "  </thead>\n",
       "  <tbody>\n",
       "    <tr>\n",
       "      <th>504</th>\n",
       "      <td>NEUROLOGISTS</td>\n",
       "      <td>224757.000000</td>\n",
       "    </tr>\n",
       "    <tr>\n",
       "      <th>30</th>\n",
       "      <td>ANESTHESIOLOGISTS</td>\n",
       "      <td>166815.585714</td>\n",
       "    </tr>\n",
       "    <tr>\n",
       "      <th>510</th>\n",
       "      <td>OBSTETRICIANS AND GYNECOLOGISTS</td>\n",
       "      <td>161703.384141</td>\n",
       "    </tr>\n",
       "    <tr>\n",
       "      <th>542</th>\n",
       "      <td>PHYSICIANS AND SURGEONS</td>\n",
       "      <td>161332.000000</td>\n",
       "    </tr>\n",
       "    <tr>\n",
       "      <th>140</th>\n",
       "      <td>COMPUTER &amp; INFORMATION SYSTEMS MANAGERS</td>\n",
       "      <td>160846.500000</td>\n",
       "    </tr>\n",
       "    <tr>\n",
       "      <th>619</th>\n",
       "      <td>SECURITIES,COMMODITIESFINANCIALSRVCES SALES AG...</td>\n",
       "      <td>157786.000000</td>\n",
       "    </tr>\n",
       "    <tr>\n",
       "      <th>608</th>\n",
       "      <td>SEC, COMMODIT, AND FINANCIAL SERVICES SALES AG...</td>\n",
       "      <td>157768.000000</td>\n",
       "    </tr>\n",
       "    <tr>\n",
       "      <th>690</th>\n",
       "      <td>SURGEONS</td>\n",
       "      <td>156189.341892</td>\n",
       "    </tr>\n",
       "    <tr>\n",
       "      <th>105</th>\n",
       "      <td>CHIEF EXECUTIVES</td>\n",
       "      <td>154232.075921</td>\n",
       "    </tr>\n",
       "    <tr>\n",
       "      <th>541</th>\n",
       "      <td>PHYSICIANS AND SURGEAONS, ALL OTHER</td>\n",
       "      <td>153379.000000</td>\n",
       "    </tr>\n",
       "    <tr>\n",
       "      <th>539</th>\n",
       "      <td>PHYSICIAN AND SURGEONS, ALL OTHER</td>\n",
       "      <td>151184.000000</td>\n",
       "    </tr>\n",
       "    <tr>\n",
       "      <th>713</th>\n",
       "      <td>TREASURERS AND CONTROLLERS</td>\n",
       "      <td>146058.000000</td>\n",
       "    </tr>\n",
       "    <tr>\n",
       "      <th>395</th>\n",
       "      <td>INTERNISTS, GENERAL</td>\n",
       "      <td>145242.038589</td>\n",
       "    </tr>\n",
       "    <tr>\n",
       "      <th>562</th>\n",
       "      <td>PSYCHIATRISTS</td>\n",
       "      <td>144633.546578</td>\n",
       "    </tr>\n",
       "    <tr>\n",
       "      <th>333</th>\n",
       "      <td>GENERAL AND OPERATIONS MANAGER</td>\n",
       "      <td>143339.333333</td>\n",
       "    </tr>\n",
       "    <tr>\n",
       "      <th>617</th>\n",
       "      <td>SECURITIES, COMMODITIES, AND FINANCIAL SERVICE...</td>\n",
       "      <td>142562.920000</td>\n",
       "    </tr>\n",
       "    <tr>\n",
       "      <th>573</th>\n",
       "      <td>PYSCHIATRISTS</td>\n",
       "      <td>139737.600000</td>\n",
       "    </tr>\n",
       "    <tr>\n",
       "      <th>123</th>\n",
       "      <td>COMMERCIAL AND INDUSTRIAL ENGINEER</td>\n",
       "      <td>137571.000000</td>\n",
       "    </tr>\n",
       "    <tr>\n",
       "      <th>352</th>\n",
       "      <td>HEALTH SPECIALITY TEACHERS, POSTSECONDARY</td>\n",
       "      <td>134290.000000</td>\n",
       "    </tr>\n",
       "    <tr>\n",
       "      <th>507</th>\n",
       "      <td>NURSE ANESTHETISTS</td>\n",
       "      <td>131950.612500</td>\n",
       "    </tr>\n",
       "  </tbody>\n",
       "</table>\n",
       "</div>"
      ],
      "text/plain": [
       "                                              SOC_NAME  PREVAILING_WAGE\n",
       "504                                       NEUROLOGISTS    224757.000000\n",
       "30                                   ANESTHESIOLOGISTS    166815.585714\n",
       "510                    OBSTETRICIANS AND GYNECOLOGISTS    161703.384141\n",
       "542                            PHYSICIANS AND SURGEONS    161332.000000\n",
       "140            COMPUTER & INFORMATION SYSTEMS MANAGERS    160846.500000\n",
       "619  SECURITIES,COMMODITIESFINANCIALSRVCES SALES AG...    157786.000000\n",
       "608  SEC, COMMODIT, AND FINANCIAL SERVICES SALES AG...    157768.000000\n",
       "690                                           SURGEONS    156189.341892\n",
       "105                                   CHIEF EXECUTIVES    154232.075921\n",
       "541                PHYSICIANS AND SURGEAONS, ALL OTHER    153379.000000\n",
       "539                  PHYSICIAN AND SURGEONS, ALL OTHER    151184.000000\n",
       "713                         TREASURERS AND CONTROLLERS    146058.000000\n",
       "395                                INTERNISTS, GENERAL    145242.038589\n",
       "562                                      PSYCHIATRISTS    144633.546578\n",
       "333                     GENERAL AND OPERATIONS MANAGER    143339.333333\n",
       "617  SECURITIES, COMMODITIES, AND FINANCIAL SERVICE...    142562.920000\n",
       "573                                      PYSCHIATRISTS    139737.600000\n",
       "123                 COMMERCIAL AND INDUSTRIAL ENGINEER    137571.000000\n",
       "352          HEALTH SPECIALITY TEACHERS, POSTSECONDARY    134290.000000\n",
       "507                                 NURSE ANESTHETISTS    131950.612500"
      ]
     },
     "execution_count": 58,
     "metadata": {},
     "output_type": "execute_result"
    }
   ],
   "source": [
    "dum = df.groupby('SOC_NAME',as_index=False).mean()[['SOC_NAME','PREVAILING_WAGE']]\n",
    "dum.sort_values('PREVAILING_WAGE',ascending= False).head(20)"
   ]
  },
  {
   "cell_type": "markdown",
   "metadata": {},
   "source": [
    "## TOP 20 MOST PAID TECH FIELDS."
   ]
  },
  {
   "cell_type": "code",
   "execution_count": 59,
   "metadata": {},
   "outputs": [
    {
     "data": {
      "text/html": [
       "<div>\n",
       "<style scoped>\n",
       "    .dataframe tbody tr th:only-of-type {\n",
       "        vertical-align: middle;\n",
       "    }\n",
       "\n",
       "    .dataframe tbody tr th {\n",
       "        vertical-align: top;\n",
       "    }\n",
       "\n",
       "    .dataframe thead th {\n",
       "        text-align: right;\n",
       "    }\n",
       "</style>\n",
       "<table border=\"1\" class=\"dataframe\">\n",
       "  <thead>\n",
       "    <tr style=\"text-align: right;\">\n",
       "      <th></th>\n",
       "      <th>SOC_NAME</th>\n",
       "      <th>PREVAILING_WAGE</th>\n",
       "    </tr>\n",
       "  </thead>\n",
       "  <tbody>\n",
       "    <tr>\n",
       "      <th>4</th>\n",
       "      <td>COMPUTER &amp; INFORMATION SYSTEMS MANAGERS</td>\n",
       "      <td>160846.500000</td>\n",
       "    </tr>\n",
       "    <tr>\n",
       "      <th>6</th>\n",
       "      <td>COMPUTER AND INFORMATION SYSTEMS MANAGER</td>\n",
       "      <td>128814.428571</td>\n",
       "    </tr>\n",
       "    <tr>\n",
       "      <th>70</th>\n",
       "      <td>SOFTWARE DEVELOPERS APPLICATIONS</td>\n",
       "      <td>124675.000000</td>\n",
       "    </tr>\n",
       "    <tr>\n",
       "      <th>7</th>\n",
       "      <td>COMPUTER AND INFORMATION SYSTEMS MANAGERS</td>\n",
       "      <td>120794.082654</td>\n",
       "    </tr>\n",
       "    <tr>\n",
       "      <th>9</th>\n",
       "      <td>COMPUTER DEVELOPERS, APPLICATIONS</td>\n",
       "      <td>111405.000000</td>\n",
       "    </tr>\n",
       "    <tr>\n",
       "      <th>42</th>\n",
       "      <td>COMPUTER SYTEMS ANALYSTS</td>\n",
       "      <td>111405.000000</td>\n",
       "    </tr>\n",
       "    <tr>\n",
       "      <th>3</th>\n",
       "      <td>COMPUTER &amp; INFORMATION RESEARCH SCIENTISTS</td>\n",
       "      <td>108477.250000</td>\n",
       "    </tr>\n",
       "    <tr>\n",
       "      <th>5</th>\n",
       "      <td>COMPUTER AND INFORMATION RESEARCH SCIENTISTS</td>\n",
       "      <td>103018.383019</td>\n",
       "    </tr>\n",
       "    <tr>\n",
       "      <th>83</th>\n",
       "      <td>SOFTWARE DEVELOPERS,APPLICAITONS</td>\n",
       "      <td>101109.000000</td>\n",
       "    </tr>\n",
       "    <tr>\n",
       "      <th>67</th>\n",
       "      <td>SOFTWARE DEVELOPER, SYSTEMS SOFTWARE</td>\n",
       "      <td>101093.500000</td>\n",
       "    </tr>\n",
       "    <tr>\n",
       "      <th>80</th>\n",
       "      <td>SOFTWARE DEVELOPERS, SYSTEMS SOFTWARE</td>\n",
       "      <td>100404.762228</td>\n",
       "    </tr>\n",
       "    <tr>\n",
       "      <th>54</th>\n",
       "      <td>INFORMATION TECHNOLOGY PROJECT MANAGERS</td>\n",
       "      <td>99655.397337</td>\n",
       "    </tr>\n",
       "    <tr>\n",
       "      <th>69</th>\n",
       "      <td>SOFTWARE DEVELOPERS , APPLICATIONS</td>\n",
       "      <td>98397.666667</td>\n",
       "    </tr>\n",
       "    <tr>\n",
       "      <th>10</th>\n",
       "      <td>COMPUTER NETWORK ARCHITECTS</td>\n",
       "      <td>92742.184300</td>\n",
       "    </tr>\n",
       "    <tr>\n",
       "      <th>91</th>\n",
       "      <td>SOFWARE DEVELOPERS, APPLICATIONS</td>\n",
       "      <td>92297.500000</td>\n",
       "    </tr>\n",
       "    <tr>\n",
       "      <th>0</th>\n",
       "      <td>APPLICATIONS DEVELOPER</td>\n",
       "      <td>91777.000000</td>\n",
       "    </tr>\n",
       "    <tr>\n",
       "      <th>79</th>\n",
       "      <td>SOFTWARE DEVELOPERS, SYSTEMS</td>\n",
       "      <td>90986.250000</td>\n",
       "    </tr>\n",
       "    <tr>\n",
       "      <th>1</th>\n",
       "      <td>CLINICAL DATA MANAGER</td>\n",
       "      <td>89850.000000</td>\n",
       "    </tr>\n",
       "    <tr>\n",
       "      <th>65</th>\n",
       "      <td>SOFTWARE DEVELOPER</td>\n",
       "      <td>89669.000000</td>\n",
       "    </tr>\n",
       "    <tr>\n",
       "      <th>78</th>\n",
       "      <td>SOFTWARE DEVELOPERS, SYSTEM SOFTWARE</td>\n",
       "      <td>89045.000000</td>\n",
       "    </tr>\n",
       "  </tbody>\n",
       "</table>\n",
       "</div>"
      ],
      "text/plain": [
       "                                        SOC_NAME  PREVAILING_WAGE\n",
       "4        COMPUTER & INFORMATION SYSTEMS MANAGERS    160846.500000\n",
       "6       COMPUTER AND INFORMATION SYSTEMS MANAGER    128814.428571\n",
       "70              SOFTWARE DEVELOPERS APPLICATIONS    124675.000000\n",
       "7      COMPUTER AND INFORMATION SYSTEMS MANAGERS    120794.082654\n",
       "9              COMPUTER DEVELOPERS, APPLICATIONS    111405.000000\n",
       "42                      COMPUTER SYTEMS ANALYSTS    111405.000000\n",
       "3     COMPUTER & INFORMATION RESEARCH SCIENTISTS    108477.250000\n",
       "5   COMPUTER AND INFORMATION RESEARCH SCIENTISTS    103018.383019\n",
       "83              SOFTWARE DEVELOPERS,APPLICAITONS    101109.000000\n",
       "67          SOFTWARE DEVELOPER, SYSTEMS SOFTWARE    101093.500000\n",
       "80         SOFTWARE DEVELOPERS, SYSTEMS SOFTWARE    100404.762228\n",
       "54       INFORMATION TECHNOLOGY PROJECT MANAGERS     99655.397337\n",
       "69            SOFTWARE DEVELOPERS , APPLICATIONS     98397.666667\n",
       "10                   COMPUTER NETWORK ARCHITECTS     92742.184300\n",
       "91              SOFWARE DEVELOPERS, APPLICATIONS     92297.500000\n",
       "0                         APPLICATIONS DEVELOPER     91777.000000\n",
       "79                  SOFTWARE DEVELOPERS, SYSTEMS     90986.250000\n",
       "1                          CLINICAL DATA MANAGER     89850.000000\n",
       "65                            SOFTWARE DEVELOPER     89669.000000\n",
       "78          SOFTWARE DEVELOPERS, SYSTEM SOFTWARE     89045.000000"
      ]
     },
     "execution_count": 59,
     "metadata": {},
     "output_type": "execute_result"
    }
   ],
   "source": [
    "dum = dfcomp.groupby('SOC_NAME',as_index=False).mean()[['SOC_NAME','PREVAILING_WAGE']]\n",
    "dum.sort_values('PREVAILING_WAGE',ascending= False).head(20)"
   ]
  },
  {
   "cell_type": "markdown",
   "metadata": {},
   "source": [
    "## DATA SCIENCE: \n",
    "- I'm going to do some analysis on our domain.\n",
    "- Created a new column DS as shown below. "
   ]
  },
  {
   "cell_type": "code",
   "execution_count": 60,
   "metadata": {},
   "outputs": [],
   "source": [
    "df['DS'] = np.nan\n",
    "df.DS[df['JOB_TITLE'].str.contains('DATA SCIENTIST')] = 'DATA SCIENTIST'\n",
    "df.DS[df['JOB_TITLE'].str.contains('DATA ANALYST')] = 'DATA ANALYST'\n",
    "df.DS[df['JOB_TITLE'].str.contains('MACHINE LEARNING')] = 'MACHINE LEARNING'\n",
    "df.DS[df['JOB_TITLE'].str.contains('BUSINESS ANALYST')] = 'BUSINESS ANALYST'\n",
    "df.DS[df['JOB_TITLE'].str.contains('DEEP LEARNING')] = 'DEEP LEARNING'\n",
    "df.DS[df['JOB_TITLE'].str.contains('ARTIFICIAL INTELLIGENCE')] = 'ARTIFICIAL INTELLIGENCE'\n",
    "df.DS[df['JOB_TITLE'].str.contains('BIG DATA')] = 'BIG DATA'\n",
    "df.DS[df['JOB_TITLE'].str.contains('HADOOP')] = 'HADOOP'\n",
    "df.DS[df['JOB_TITLE'].str.contains('DATA ENGINEER')] = 'DATA ENGINEER'\n",
    "df['DS']= df.DS.replace(np.nan, 'Others', regex=True)"
   ]
  },
  {
   "cell_type": "markdown",
   "metadata": {},
   "source": [
    "#### Examine the new column we created."
   ]
  },
  {
   "cell_type": "code",
   "execution_count": 61,
   "metadata": {},
   "outputs": [
    {
     "data": {
      "text/plain": [
       "Others                     487524\n",
       "BUSINESS ANALYST             9759\n",
       "DATA ANALYST                 2793\n",
       "DATA SCIENTIST               1826\n",
       "DATA ENGINEER                1025\n",
       "HADOOP                        445\n",
       "BIG DATA                      312\n",
       "MACHINE LEARNING              179\n",
       "DEEP LEARNING                  21\n",
       "ARTIFICIAL INTELLIGENCE        20\n",
       "Name: DS, dtype: int64"
      ]
     },
     "execution_count": 61,
     "metadata": {},
     "output_type": "execute_result"
    }
   ],
   "source": [
    "df.DS.value_counts()"
   ]
  },
  {
   "cell_type": "code",
   "execution_count": 62,
   "metadata": {},
   "outputs": [],
   "source": [
    "dum = df.groupby('DS',as_index=False).mean()[['DS','PREVAILING_WAGE']]"
   ]
  },
  {
   "cell_type": "code",
   "execution_count": 63,
   "metadata": {},
   "outputs": [
    {
     "data": {
      "application/vnd.plotly.v1+json": {
       "data": [
        {
         "name": "DataScience",
         "type": "bar",
         "uid": "a76af04c-d095-11e8-8915-f496347d3ff1",
         "x": [
          "ARTIFICIAL INTELLIGENCE",
          "BIG DATA",
          "BUSINESS ANALYST",
          "DATA ANALYST",
          "DATA ENGINEER",
          "DATA SCIENTIST",
          "DEEP LEARNING",
          "HADOOP",
          "MACHINE LEARNING",
          "Others"
         ],
         "y": [
          87761.57,
          85102.53461538462,
          68105.74293677621,
          66629.42446115287,
          91838.6860487805,
          88295.04243154435,
          105397.52380952382,
          76538.3941573034,
          107556.85251396649,
          76090.41125466864
         ]
        }
       ],
       "layout": {}
      },
      "text/html": [
       "<div id=\"3ef3b8d5-95d0-4ea9-8a90-f8d323a01fac\" style=\"height: 525px; width: 100%;\" class=\"plotly-graph-div\"></div><script type=\"text/javascript\">require([\"plotly\"], function(Plotly) { window.PLOTLYENV=window.PLOTLYENV || {};window.PLOTLYENV.BASE_URL=\"https://plot.ly\";Plotly.newPlot(\"3ef3b8d5-95d0-4ea9-8a90-f8d323a01fac\", [{\"name\": \"DataScience\", \"x\": [\"ARTIFICIAL INTELLIGENCE\", \"BIG DATA\", \"BUSINESS ANALYST\", \"DATA ANALYST\", \"DATA ENGINEER\", \"DATA SCIENTIST\", \"DEEP LEARNING\", \"HADOOP\", \"MACHINE LEARNING\", \"Others\"], \"y\": [87761.57, 85102.53461538462, 68105.74293677621, 66629.42446115287, 91838.6860487805, 88295.04243154435, 105397.52380952382, 76538.3941573034, 107556.85251396649, 76090.41125466864], \"type\": \"bar\", \"uid\": \"a76e948c-d095-11e8-955c-f496347d3ff1\"}], {}, {\"showLink\": true, \"linkText\": \"Export to plot.ly\"})});</script>"
      ],
      "text/vnd.plotly.v1+html": [
       "<div id=\"3ef3b8d5-95d0-4ea9-8a90-f8d323a01fac\" style=\"height: 525px; width: 100%;\" class=\"plotly-graph-div\"></div><script type=\"text/javascript\">require([\"plotly\"], function(Plotly) { window.PLOTLYENV=window.PLOTLYENV || {};window.PLOTLYENV.BASE_URL=\"https://plot.ly\";Plotly.newPlot(\"3ef3b8d5-95d0-4ea9-8a90-f8d323a01fac\", [{\"name\": \"DataScience\", \"x\": [\"ARTIFICIAL INTELLIGENCE\", \"BIG DATA\", \"BUSINESS ANALYST\", \"DATA ANALYST\", \"DATA ENGINEER\", \"DATA SCIENTIST\", \"DEEP LEARNING\", \"HADOOP\", \"MACHINE LEARNING\", \"Others\"], \"y\": [87761.57, 85102.53461538462, 68105.74293677621, 66629.42446115287, 91838.6860487805, 88295.04243154435, 105397.52380952382, 76538.3941573034, 107556.85251396649, 76090.41125466864], \"type\": \"bar\", \"uid\": \"a76e948c-d095-11e8-955c-f496347d3ff1\"}], {}, {\"showLink\": true, \"linkText\": \"Export to plot.ly\"})});</script>"
      ]
     },
     "metadata": {},
     "output_type": "display_data"
    }
   ],
   "source": [
    "t1 =go.Bar(x=dum.DS,y=dum.PREVAILING_WAGE,name='DataScience')\n",
    "data = [t1]\n",
    "iplot(data)"
   ]
  },
  {
   "cell_type": "markdown",
   "metadata": {},
   "source": [
    "### GROWTH IN DATA SCIENCE FROM YEARS"
   ]
  },
  {
   "cell_type": "code",
   "execution_count": 64,
   "metadata": {
    "scrolled": true
   },
   "outputs": [],
   "source": [
    "dum = df.groupby(['year','DS']).count().reset_index()[['year','DS','countvar']]"
   ]
  },
  {
   "cell_type": "code",
   "execution_count": 65,
   "metadata": {},
   "outputs": [
    {
     "data": {
      "application/vnd.plotly.v1+json": {
       "data": [
        {
         "name": "BUSINESS ANALYST",
         "type": "scatter",
         "uid": "a7d033c0-d095-11e8-981f-f496347d3ff1",
         "x": [
          2013,
          2014,
          2015,
          2016,
          2017
         ],
         "y": [
          2,
          65,
          100,
          1321,
          8271
         ]
        },
        {
         "name": "DATA ENGINEER",
         "type": "scatter",
         "uid": "a7d033c1-d095-11e8-bf0e-f496347d3ff1",
         "x": [
          2013,
          2014,
          2015,
          2016,
          2017
         ],
         "y": [
          2,
          3,
          5,
          161,
          854
         ]
        },
        {
         "name": "MACHINE LEARNING",
         "type": "scatter",
         "uid": "a7d033c2-d095-11e8-b890-f496347d3ff1",
         "x": [
          2013,
          2014,
          2016,
          2017
         ],
         "y": [
          1,
          1,
          18,
          159
         ]
        },
        {
         "name": "BIG DATA",
         "type": "scatter",
         "uid": "a7d033c3-d095-11e8-bee1-f496347d3ff1",
         "x": [
          2014,
          2015,
          2016,
          2017
         ],
         "y": [
          2,
          6,
          33,
          271
         ]
        },
        {
         "name": "DATA ANALYST",
         "type": "scatter",
         "uid": "a7d033c4-d095-11e8-82c2-f496347d3ff1",
         "x": [
          2014,
          2015,
          2016,
          2017
         ],
         "y": [
          14,
          39,
          262,
          2478
         ]
        },
        {
         "name": "DATA SCIENTIST",
         "type": "scatter",
         "uid": "a7d033c5-d095-11e8-9060-f496347d3ff1",
         "x": [
          2014,
          2015,
          2016,
          2017
         ],
         "y": [
          8,
          21,
          167,
          1630
         ]
        },
        {
         "name": "HADOOP",
         "type": "scatter",
         "uid": "a7d033c6-d095-11e8-9747-f496347d3ff1",
         "x": [
          2015,
          2016,
          2017
         ],
         "y": [
          1,
          72,
          372
         ]
        },
        {
         "name": "ARTIFICIAL INTELLIGENCE",
         "type": "scatter",
         "uid": "a7d033c7-d095-11e8-adab-f496347d3ff1",
         "x": [
          2016,
          2017
         ],
         "y": [
          1,
          19
         ]
        },
        {
         "name": "DEEP LEARNING",
         "type": "scatter",
         "uid": "a7d033c8-d095-11e8-aa7b-f496347d3ff1",
         "x": [
          2017
         ],
         "y": [
          21
         ]
        }
       ],
       "layout": {
        "title": "GROWTH IN DATA SCIENCE",
        "xaxis": {
         "title": "YEARS"
        },
        "yaxis": {
         "title": "Number of applications"
        }
       }
      },
      "text/html": [
       "<div id=\"530ed1a2-8150-4979-9ad5-0e603aa8feb0\" style=\"height: 525px; width: 100%;\" class=\"plotly-graph-div\"></div><script type=\"text/javascript\">require([\"plotly\"], function(Plotly) { window.PLOTLYENV=window.PLOTLYENV || {};window.PLOTLYENV.BASE_URL=\"https://plot.ly\";\n",
       "        Plotly.plot(\n",
       "            '530ed1a2-8150-4979-9ad5-0e603aa8feb0',\n",
       "            [{\"name\": \"BUSINESS ANALYST\", \"x\": [2013.0, 2014.0, 2015.0, 2016.0, 2017.0], \"y\": [2.0, 65.0, 100.0, 1321.0, 8271.0], \"type\": \"scatter\", \"uid\": \"a7d033c0-d095-11e8-981f-f496347d3ff1\"}, {\"name\": \"DATA ENGINEER\", \"x\": [2013.0, 2014.0, 2015.0, 2016.0, 2017.0], \"y\": [2.0, 3.0, 5.0, 161.0, 854.0], \"type\": \"scatter\", \"uid\": \"a7d033c1-d095-11e8-bf0e-f496347d3ff1\"}, {\"name\": \"MACHINE LEARNING\", \"x\": [2013.0, 2014.0, 2016.0, 2017.0], \"y\": [1.0, 1.0, 18.0, 159.0], \"type\": \"scatter\", \"uid\": \"a7d033c2-d095-11e8-b890-f496347d3ff1\"}, {\"name\": \"BIG DATA\", \"x\": [2014.0, 2015.0, 2016.0, 2017.0], \"y\": [2.0, 6.0, 33.0, 271.0], \"type\": \"scatter\", \"uid\": \"a7d033c3-d095-11e8-bee1-f496347d3ff1\"}, {\"name\": \"DATA ANALYST\", \"x\": [2014.0, 2015.0, 2016.0, 2017.0], \"y\": [14.0, 39.0, 262.0, 2478.0], \"type\": \"scatter\", \"uid\": \"a7d033c4-d095-11e8-82c2-f496347d3ff1\"}, {\"name\": \"DATA SCIENTIST\", \"x\": [2014.0, 2015.0, 2016.0, 2017.0], \"y\": [8.0, 21.0, 167.0, 1630.0], \"type\": \"scatter\", \"uid\": \"a7d033c5-d095-11e8-9060-f496347d3ff1\"}, {\"name\": \"HADOOP\", \"x\": [2015.0, 2016.0, 2017.0], \"y\": [1.0, 72.0, 372.0], \"type\": \"scatter\", \"uid\": \"a7d033c6-d095-11e8-9747-f496347d3ff1\"}, {\"name\": \"ARTIFICIAL INTELLIGENCE\", \"x\": [2016.0, 2017.0], \"y\": [1.0, 19.0], \"type\": \"scatter\", \"uid\": \"a7d033c7-d095-11e8-adab-f496347d3ff1\"}, {\"name\": \"DEEP LEARNING\", \"x\": [2017.0], \"y\": [21.0], \"type\": \"scatter\", \"uid\": \"a7d033c8-d095-11e8-aa7b-f496347d3ff1\"}],\n",
       "            {\"title\": \"GROWTH IN DATA SCIENCE\", \"xaxis\": {\"title\": \"YEARS\"}, \"yaxis\": {\"title\": \"Number of applications\"}},\n",
       "            {\"showLink\": true, \"linkText\": \"Export to plot.ly\"}\n",
       "        ).then(function () {return Plotly.addFrames('530ed1a2-8150-4979-9ad5-0e603aa8feb0',{});}).then(function(){Plotly.animate('530ed1a2-8150-4979-9ad5-0e603aa8feb0');})\n",
       "        });</script>"
      ],
      "text/vnd.plotly.v1+html": [
       "<div id=\"530ed1a2-8150-4979-9ad5-0e603aa8feb0\" style=\"height: 525px; width: 100%;\" class=\"plotly-graph-div\"></div><script type=\"text/javascript\">require([\"plotly\"], function(Plotly) { window.PLOTLYENV=window.PLOTLYENV || {};window.PLOTLYENV.BASE_URL=\"https://plot.ly\";\n",
       "        Plotly.plot(\n",
       "            '530ed1a2-8150-4979-9ad5-0e603aa8feb0',\n",
       "            [{\"name\": \"BUSINESS ANALYST\", \"x\": [2013.0, 2014.0, 2015.0, 2016.0, 2017.0], \"y\": [2.0, 65.0, 100.0, 1321.0, 8271.0], \"type\": \"scatter\", \"uid\": \"a7d033c0-d095-11e8-981f-f496347d3ff1\"}, {\"name\": \"DATA ENGINEER\", \"x\": [2013.0, 2014.0, 2015.0, 2016.0, 2017.0], \"y\": [2.0, 3.0, 5.0, 161.0, 854.0], \"type\": \"scatter\", \"uid\": \"a7d033c1-d095-11e8-bf0e-f496347d3ff1\"}, {\"name\": \"MACHINE LEARNING\", \"x\": [2013.0, 2014.0, 2016.0, 2017.0], \"y\": [1.0, 1.0, 18.0, 159.0], \"type\": \"scatter\", \"uid\": \"a7d033c2-d095-11e8-b890-f496347d3ff1\"}, {\"name\": \"BIG DATA\", \"x\": [2014.0, 2015.0, 2016.0, 2017.0], \"y\": [2.0, 6.0, 33.0, 271.0], \"type\": \"scatter\", \"uid\": \"a7d033c3-d095-11e8-bee1-f496347d3ff1\"}, {\"name\": \"DATA ANALYST\", \"x\": [2014.0, 2015.0, 2016.0, 2017.0], \"y\": [14.0, 39.0, 262.0, 2478.0], \"type\": \"scatter\", \"uid\": \"a7d033c4-d095-11e8-82c2-f496347d3ff1\"}, {\"name\": \"DATA SCIENTIST\", \"x\": [2014.0, 2015.0, 2016.0, 2017.0], \"y\": [8.0, 21.0, 167.0, 1630.0], \"type\": \"scatter\", \"uid\": \"a7d033c5-d095-11e8-9060-f496347d3ff1\"}, {\"name\": \"HADOOP\", \"x\": [2015.0, 2016.0, 2017.0], \"y\": [1.0, 72.0, 372.0], \"type\": \"scatter\", \"uid\": \"a7d033c6-d095-11e8-9747-f496347d3ff1\"}, {\"name\": \"ARTIFICIAL INTELLIGENCE\", \"x\": [2016.0, 2017.0], \"y\": [1.0, 19.0], \"type\": \"scatter\", \"uid\": \"a7d033c7-d095-11e8-adab-f496347d3ff1\"}, {\"name\": \"DEEP LEARNING\", \"x\": [2017.0], \"y\": [21.0], \"type\": \"scatter\", \"uid\": \"a7d033c8-d095-11e8-aa7b-f496347d3ff1\"}],\n",
       "            {\"title\": \"GROWTH IN DATA SCIENCE\", \"xaxis\": {\"title\": \"YEARS\"}, \"yaxis\": {\"title\": \"Number of applications\"}},\n",
       "            {\"showLink\": true, \"linkText\": \"Export to plot.ly\"}\n",
       "        ).then(function () {return Plotly.addFrames('530ed1a2-8150-4979-9ad5-0e603aa8feb0',{});}).then(function(){Plotly.animate('530ed1a2-8150-4979-9ad5-0e603aa8feb0');})\n",
       "        });</script>"
      ]
     },
     "metadata": {},
     "output_type": "display_data"
    }
   ],
   "source": [
    "data = []\n",
    "for i in dum.DS.unique():\n",
    "    if i != 'Others':\n",
    "        data.append(go.Scatter(x = dum[dum.DS == i].year,y= dum[dum.DS == i].countvar,name=i))\n",
    "\n",
    "layout = go.Layout(dict(title= \"GROWTH IN DATA SCIENCE\",xaxis=dict(title=\"YEARS\"),yaxis=dict(title=\"Number of applications\")))\n",
    "        \n",
    "fig = go.Figure(data,layout)    \n",
    "iplot(fig)    \n"
   ]
  },
  {
   "cell_type": "markdown",
   "metadata": {},
   "source": [
    "### DATA SCIENCE JOB AND THE STATE WHICH IT TOPS\n",
    "- Means, the respective data science job and the state which has the most number of respective job.\n",
    "- To explain, the business analysts are more in New Jersey while the data analysts are more in california."
   ]
  },
  {
   "cell_type": "code",
   "execution_count": 66,
   "metadata": {},
   "outputs": [
    {
     "data": {
      "text/html": [
       "<div>\n",
       "<style scoped>\n",
       "    .dataframe tbody tr th:only-of-type {\n",
       "        vertical-align: middle;\n",
       "    }\n",
       "\n",
       "    .dataframe tbody tr th {\n",
       "        vertical-align: top;\n",
       "    }\n",
       "\n",
       "    .dataframe thead th {\n",
       "        text-align: right;\n",
       "    }\n",
       "</style>\n",
       "<table border=\"1\" class=\"dataframe\">\n",
       "  <thead>\n",
       "    <tr style=\"text-align: right;\">\n",
       "      <th></th>\n",
       "      <th>DS</th>\n",
       "      <th>EMPLOYER_STATE</th>\n",
       "      <th>COUNT</th>\n",
       "    </tr>\n",
       "  </thead>\n",
       "  <tbody>\n",
       "    <tr>\n",
       "      <th>0</th>\n",
       "      <td>ARTIFICIAL INTELLIGENCE</td>\n",
       "      <td>MI</td>\n",
       "      <td>5</td>\n",
       "    </tr>\n",
       "    <tr>\n",
       "      <th>1</th>\n",
       "      <td>BIG DATA</td>\n",
       "      <td>CA</td>\n",
       "      <td>63</td>\n",
       "    </tr>\n",
       "    <tr>\n",
       "      <th>2</th>\n",
       "      <td>BUSINESS ANALYST</td>\n",
       "      <td>NJ</td>\n",
       "      <td>2020</td>\n",
       "    </tr>\n",
       "    <tr>\n",
       "      <th>3</th>\n",
       "      <td>DATA ANALYST</td>\n",
       "      <td>CA</td>\n",
       "      <td>477</td>\n",
       "    </tr>\n",
       "    <tr>\n",
       "      <th>4</th>\n",
       "      <td>DATA ENGINEER</td>\n",
       "      <td>CA</td>\n",
       "      <td>381</td>\n",
       "    </tr>\n",
       "    <tr>\n",
       "      <th>5</th>\n",
       "      <td>DATA SCIENTIST</td>\n",
       "      <td>CA</td>\n",
       "      <td>720</td>\n",
       "    </tr>\n",
       "    <tr>\n",
       "      <th>6</th>\n",
       "      <td>DEEP LEARNING</td>\n",
       "      <td>CA</td>\n",
       "      <td>10</td>\n",
       "    </tr>\n",
       "    <tr>\n",
       "      <th>7</th>\n",
       "      <td>HADOOP</td>\n",
       "      <td>TX</td>\n",
       "      <td>79</td>\n",
       "    </tr>\n",
       "    <tr>\n",
       "      <th>8</th>\n",
       "      <td>MACHINE LEARNING</td>\n",
       "      <td>CA</td>\n",
       "      <td>112</td>\n",
       "    </tr>\n",
       "  </tbody>\n",
       "</table>\n",
       "</div>"
      ],
      "text/plain": [
       "                        DS EMPLOYER_STATE  COUNT\n",
       "0  ARTIFICIAL INTELLIGENCE             MI      5\n",
       "1                 BIG DATA             CA     63\n",
       "2         BUSINESS ANALYST             NJ   2020\n",
       "3             DATA ANALYST             CA    477\n",
       "4            DATA ENGINEER             CA    381\n",
       "5           DATA SCIENTIST             CA    720\n",
       "6            DEEP LEARNING             CA     10\n",
       "7                   HADOOP             TX     79\n",
       "8         MACHINE LEARNING             CA    112"
      ]
     },
     "execution_count": 66,
     "metadata": {},
     "output_type": "execute_result"
    }
   ],
   "source": [
    "dum = df[[\"DS\",\"EMPLOYER_STATE\"]]\n",
    "dum = dum.groupby([\"DS\",\"EMPLOYER_STATE\"]).size().reset_index()\n",
    "dum.columns = [\"DS\",\"EMPLOYER_STATE\", \"COUNT\"]\n",
    "dum = dum.groupby([\"DS\",\"EMPLOYER_STATE\"]).agg({'COUNT':sum})\n",
    "dum = dum['COUNT'].groupby(level=0, group_keys=False)\n",
    "dum = dum.apply(lambda x: x.sort_values(ascending=False).head(1))\n",
    "dum = pd.DataFrame(dum).reset_index()\n",
    "dum[0:-1]"
   ]
  },
  {
   "cell_type": "markdown",
   "metadata": {},
   "source": [
    "### DATA SCIENCE JOB AND THE EMPLOYER WHICH IT TOPS\n",
    "- Means, the respective data science job and the Employer which has the most number of respective job."
   ]
  },
  {
   "cell_type": "code",
   "execution_count": 67,
   "metadata": {},
   "outputs": [
    {
     "data": {
      "text/html": [
       "<div>\n",
       "<style scoped>\n",
       "    .dataframe tbody tr th:only-of-type {\n",
       "        vertical-align: middle;\n",
       "    }\n",
       "\n",
       "    .dataframe tbody tr th {\n",
       "        vertical-align: top;\n",
       "    }\n",
       "\n",
       "    .dataframe thead th {\n",
       "        text-align: right;\n",
       "    }\n",
       "</style>\n",
       "<table border=\"1\" class=\"dataframe\">\n",
       "  <thead>\n",
       "    <tr style=\"text-align: right;\">\n",
       "      <th></th>\n",
       "      <th>DS</th>\n",
       "      <th>EMPLOYER_NAME</th>\n",
       "      <th>COUNT</th>\n",
       "    </tr>\n",
       "  </thead>\n",
       "  <tbody>\n",
       "    <tr>\n",
       "      <th>0</th>\n",
       "      <td>ARTIFICIAL INTELLIGENCE</td>\n",
       "      <td>VISTEON CORPORATION</td>\n",
       "      <td>2</td>\n",
       "    </tr>\n",
       "    <tr>\n",
       "      <th>1</th>\n",
       "      <td>BIG DATA</td>\n",
       "      <td>BIGDATA DIMENSION INC.</td>\n",
       "      <td>19</td>\n",
       "    </tr>\n",
       "    <tr>\n",
       "      <th>2</th>\n",
       "      <td>BUSINESS ANALYST</td>\n",
       "      <td>CAPGEMINI AMERICA INC</td>\n",
       "      <td>231</td>\n",
       "    </tr>\n",
       "    <tr>\n",
       "      <th>3</th>\n",
       "      <td>DATA ANALYST</td>\n",
       "      <td>CAPGEMINI AMERICA INC</td>\n",
       "      <td>188</td>\n",
       "    </tr>\n",
       "    <tr>\n",
       "      <th>4</th>\n",
       "      <td>DATA ENGINEER</td>\n",
       "      <td>AMAZON CORPORATE LLC</td>\n",
       "      <td>135</td>\n",
       "    </tr>\n",
       "    <tr>\n",
       "      <th>5</th>\n",
       "      <td>DATA SCIENTIST</td>\n",
       "      <td>MICROSOFT CORPORATION</td>\n",
       "      <td>95</td>\n",
       "    </tr>\n",
       "    <tr>\n",
       "      <th>6</th>\n",
       "      <td>DEEP LEARNING</td>\n",
       "      <td>MAGIC LEAP, INC.</td>\n",
       "      <td>3</td>\n",
       "    </tr>\n",
       "    <tr>\n",
       "      <th>7</th>\n",
       "      <td>HADOOP</td>\n",
       "      <td>HASHMAP, INC.</td>\n",
       "      <td>9</td>\n",
       "    </tr>\n",
       "    <tr>\n",
       "      <th>8</th>\n",
       "      <td>MACHINE LEARNING</td>\n",
       "      <td>APPLE INC.</td>\n",
       "      <td>25</td>\n",
       "    </tr>\n",
       "  </tbody>\n",
       "</table>\n",
       "</div>"
      ],
      "text/plain": [
       "                        DS           EMPLOYER_NAME  COUNT\n",
       "0  ARTIFICIAL INTELLIGENCE     VISTEON CORPORATION      2\n",
       "1                 BIG DATA  BIGDATA DIMENSION INC.     19\n",
       "2         BUSINESS ANALYST   CAPGEMINI AMERICA INC    231\n",
       "3             DATA ANALYST   CAPGEMINI AMERICA INC    188\n",
       "4            DATA ENGINEER    AMAZON CORPORATE LLC    135\n",
       "5           DATA SCIENTIST   MICROSOFT CORPORATION     95\n",
       "6            DEEP LEARNING        MAGIC LEAP, INC.      3\n",
       "7                   HADOOP           HASHMAP, INC.      9\n",
       "8         MACHINE LEARNING              APPLE INC.     25"
      ]
     },
     "execution_count": 67,
     "metadata": {},
     "output_type": "execute_result"
    }
   ],
   "source": [
    "dum = df[[\"DS\",\"EMPLOYER_NAME\"]]\n",
    "dum = dum.groupby([\"DS\",\"EMPLOYER_NAME\"]).size().reset_index()\n",
    "dum.columns = [\"DS\",\"EMPLOYER_NAME\", \"COUNT\"]\n",
    "dum = dum.groupby([\"DS\",\"EMPLOYER_NAME\"]).agg({'COUNT':sum})\n",
    "dum = dum['COUNT'].groupby(level=0, group_keys=False)\n",
    "dum = dum.apply(lambda x: x.sort_values(ascending=False).head(1))\n",
    "dum = pd.DataFrame(dum).reset_index()\n",
    "dum[0:-1]"
   ]
  },
  {
   "cell_type": "markdown",
   "metadata": {},
   "source": [
    "### VIRGINIA and DC"
   ]
  },
  {
   "cell_type": "code",
   "execution_count": 68,
   "metadata": {},
   "outputs": [],
   "source": [
    "dfvadc = df[(df.EMPLOYER_STATE == 'VA') | (df.EMPLOYER_STATE == 'DC')]"
   ]
  },
  {
   "cell_type": "code",
   "execution_count": 69,
   "metadata": {},
   "outputs": [],
   "source": [
    "dfvadc = dfvadc[dfvadc.DS != 'Others']"
   ]
  },
  {
   "cell_type": "code",
   "execution_count": 70,
   "metadata": {},
   "outputs": [
    {
     "data": {
      "text/html": [
       "<div>\n",
       "<style scoped>\n",
       "    .dataframe tbody tr th:only-of-type {\n",
       "        vertical-align: middle;\n",
       "    }\n",
       "\n",
       "    .dataframe tbody tr th {\n",
       "        vertical-align: top;\n",
       "    }\n",
       "\n",
       "    .dataframe thead th {\n",
       "        text-align: right;\n",
       "    }\n",
       "</style>\n",
       "<table border=\"1\" class=\"dataframe\">\n",
       "  <thead>\n",
       "    <tr style=\"text-align: right;\">\n",
       "      <th></th>\n",
       "      <th>DS</th>\n",
       "      <th>EMPLOYER_NAME</th>\n",
       "      <th>COUNT</th>\n",
       "    </tr>\n",
       "  </thead>\n",
       "  <tbody>\n",
       "    <tr>\n",
       "      <th>0</th>\n",
       "      <td>BIG DATA</td>\n",
       "      <td>BIGDATA DIMENSION INC.</td>\n",
       "      <td>19</td>\n",
       "    </tr>\n",
       "    <tr>\n",
       "      <th>1</th>\n",
       "      <td>BUSINESS ANALYST</td>\n",
       "      <td>SYNCHRONISYS, INC.</td>\n",
       "      <td>33</td>\n",
       "    </tr>\n",
       "    <tr>\n",
       "      <th>2</th>\n",
       "      <td>DATA ANALYST</td>\n",
       "      <td>CAPITAL ONE SERVICES, LLC</td>\n",
       "      <td>88</td>\n",
       "    </tr>\n",
       "    <tr>\n",
       "      <th>3</th>\n",
       "      <td>DATA ENGINEER</td>\n",
       "      <td>CAPITAL ONE SERVICES, LLC</td>\n",
       "      <td>43</td>\n",
       "    </tr>\n",
       "    <tr>\n",
       "      <th>4</th>\n",
       "      <td>DATA SCIENTIST</td>\n",
       "      <td>AOL ADVERTISING INC.</td>\n",
       "      <td>4</td>\n",
       "    </tr>\n",
       "    <tr>\n",
       "      <th>5</th>\n",
       "      <td>DEEP LEARNING</td>\n",
       "      <td>VOLKSWAGEN GROUP OF AMERICA, INC.</td>\n",
       "      <td>1</td>\n",
       "    </tr>\n",
       "    <tr>\n",
       "      <th>6</th>\n",
       "      <td>HADOOP</td>\n",
       "      <td>GVA INFOTECH INC</td>\n",
       "      <td>3</td>\n",
       "    </tr>\n",
       "  </tbody>\n",
       "</table>\n",
       "</div>"
      ],
      "text/plain": [
       "                 DS                      EMPLOYER_NAME  COUNT\n",
       "0          BIG DATA             BIGDATA DIMENSION INC.     19\n",
       "1  BUSINESS ANALYST                 SYNCHRONISYS, INC.     33\n",
       "2      DATA ANALYST          CAPITAL ONE SERVICES, LLC     88\n",
       "3     DATA ENGINEER          CAPITAL ONE SERVICES, LLC     43\n",
       "4    DATA SCIENTIST               AOL ADVERTISING INC.      4\n",
       "5     DEEP LEARNING  VOLKSWAGEN GROUP OF AMERICA, INC.      1\n",
       "6            HADOOP                   GVA INFOTECH INC      3"
      ]
     },
     "execution_count": 70,
     "metadata": {},
     "output_type": "execute_result"
    }
   ],
   "source": [
    "dum = dfvadc[[\"DS\",\"EMPLOYER_NAME\"]]\n",
    "dum = dum.groupby([\"DS\",\"EMPLOYER_NAME\"]).size().reset_index()\n",
    "dum.columns = [\"DS\",\"EMPLOYER_NAME\", \"COUNT\"]\n",
    "dum = dum.groupby([\"DS\",\"EMPLOYER_NAME\"]).agg({'COUNT':sum})\n",
    "dum = dum['COUNT'].groupby(level=0, group_keys=False)\n",
    "newdum = dum.apply(lambda x: x.sort_values(ascending=False).head(1))\n",
    "newdum = pd.DataFrame(newdum).reset_index()\n",
    "newdum[0:-1]"
   ]
  },
  {
   "cell_type": "markdown",
   "metadata": {},
   "source": [
    "## Companies to FOCUS (for me)"
   ]
  },
  {
   "cell_type": "code",
   "execution_count": 71,
   "metadata": {},
   "outputs": [
    {
     "data": {
      "text/plain": [
       "0                   BIGDATA DIMENSION INC.\n",
       "1                 TECHNICAL STRATEGIES INC\n",
       "2                           VERISIGN, INC.\n",
       "3                       SYNCHRONISYS, INC.\n",
       "4        CAPITAL ONE, NATIONAL ASSOCIATION\n",
       "5     CONCEPTS INFORMATION TECHNOLOGY, INC\n",
       "6                CAPITAL ONE SERVICES, LLC\n",
       "7            COMPUTER SCIENCES CORPORATION\n",
       "8               THE ADVISORY BOARD COMPANY\n",
       "9                     LOGICAL PARADIGM LLC\n",
       "10                              AKVARR INC\n",
       "11     BUSINESS INTELLIGENCE SYSTEMS, INC.\n",
       "12              INCEPT DATA SOLUTIONS, INC\n",
       "13                           XCELTECH, INC\n",
       "14                  SOFTWARE CATALYSTS LLC\n",
       "15                          ASTA CRS, INC.\n",
       "16                CSC COVANSYS CORPORATION\n",
       "17                          TEXPERTS, INC.\n",
       "18               CAPITAL ONE SERVICES, LLC\n",
       "19       CAPITAL ONE, NATIONAL ASSOCIATION\n",
       "20                          COMSCORE, INC.\n",
       "21                            IQLOGG, INC.\n",
       "22                            EDGE IT CORP\n",
       "23             CAPITAL ONE SERVICES II LLC\n",
       "24                 BELL INFO SOLUTIONS LLC\n",
       "25                            HANUSOFT INC\n",
       "26                 SOFTTHINK SOLUTIONS INC\n",
       "27                CANOPY ONE SOLUTIONS INC\n",
       "28                BELL INFO SOLUTIONS, LLC\n",
       "29                              TEKSKY LLC\n",
       "30                                ULAB INC\n",
       "31                          ASTA CRS, INC.\n",
       "32                   AMERICAN INFOSYS, INC\n",
       "33               CAPITAL ONE SERVICES, LLC\n",
       "34             CAPITAL ONE SERVICES II LLC\n",
       "35       CAPITAL ONE, NATIONAL ASSOCIATION\n",
       "36                      SNAGAJOB.COM, INC.\n",
       "37                         METISTREAM INC.\n",
       "38                        CIRCLEBACK, INC.\n",
       "39                    DOMINION ENTERPRISES\n",
       "40             VERSCEND TECHNOLOGIES, INC.\n",
       "41              CAPITAL ONE INVESTING, LLC\n",
       "42                                CEB INC.\n",
       "43                          FISHBOWL, INC.\n",
       "44            UV TECHNOLOGY SOLUTIONS INC.\n",
       "45                         HAYSTAQ DNA LLC\n",
       "46                MARKETSHARE PARTNERS LLC\n",
       "47               NORTECH NORTH AMERICA INC\n",
       "48                    AOL ADVERTISING INC.\n",
       "49               CAPITAL ONE SERVICES, LLC\n",
       "50                BOOZ ALLEN HAMILTON INC.\n",
       "51                     2ND ORDER SOLUTIONS\n",
       "52                            ANTHEM, INC.\n",
       "53             CAPITAL ONE SERVICES II LLC\n",
       "54                MARKETSHARE PARTNERS LLC\n",
       "55        DEMETER ANALYTICS SERVICES, INC.\n",
       "56                          FISHBOWL, INC.\n",
       "57                  ALARM.COM INCORPORATED\n",
       "58                      BINARY GROUP, INC.\n",
       "59       CAPITAL ONE, NATIONAL ASSOCIATION\n",
       "60                        CGI FEDERAL INC.\n",
       "61                    DOMINION ENTERPRISES\n",
       "62                         WP COMPANY, LLC\n",
       "63       VOLKSWAGEN GROUP OF AMERICA, INC.\n",
       "64                        GVA INFOTECH INC\n",
       "65                   XSCION SOLUTIONS, LLC\n",
       "66                           IDEXCEL, INC.\n",
       "67                        GANNETT CO. INC.\n",
       "68                            NEXUS IT INC\n",
       "69                  MOXIE IT SOLUTIONS INC\n",
       "70                 METANOIA SOLUTIONS INC.\n",
       "71                            EDGE IT CORP\n",
       "72          DOYEN BUSINESS SOLUTIONS, INC.\n",
       "73                            DELVIOM, LLC\n",
       "74       VOLKSWAGEN GROUP OF AMERICA, INC.\n",
       "Name: EMPLOYER_NAME, dtype: object"
      ]
     },
     "execution_count": 71,
     "metadata": {},
     "output_type": "execute_result"
    }
   ],
   "source": [
    "pd.DataFrame(dum.apply(lambda x: x.sort_values(ascending=False).head(15))).reset_index()['EMPLOYER_NAME']"
   ]
  },
  {
   "cell_type": "markdown",
   "metadata": {},
   "source": [
    "## END\n",
    "- SAITEJA NAKKA"
   ]
  }
 ],
 "metadata": {
  "kernelspec": {
   "display_name": "Python 3",
   "language": "python",
   "name": "python3"
  },
  "language_info": {
   "codemirror_mode": {
    "name": "ipython",
    "version": 3
   },
   "file_extension": ".py",
   "mimetype": "text/x-python",
   "name": "python",
   "nbconvert_exporter": "python",
   "pygments_lexer": "ipython3",
   "version": "3.6.4"
  }
 },
 "nbformat": 4,
 "nbformat_minor": 2
}
